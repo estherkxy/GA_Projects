{
 "cells": [
  {
   "cell_type": "code",
   "execution_count": 1,
   "id": "38cd9c9e",
   "metadata": {},
   "outputs": [],
   "source": [
    "import pandas as pd\n",
    "import requests"
   ]
  },
  {
   "cell_type": "code",
   "execution_count": null,
   "id": "5367f345",
   "metadata": {},
   "outputs": [],
   "source": [
    "params = {\n",
    "        'subreddit': 'abc',\n",
    "        'size': 100,\n",
    "        'sort_type': 'created_utc',\n",
    "        'sort': 'desc'\n",
    "    }"
   ]
  },
  {
   "cell_type": "code",
   "execution_count": null,
   "id": "1a121129",
   "metadata": {},
   "outputs": [],
   "source": [
    "params['before'] = 1640660936"
   ]
  },
  {
   "cell_type": "code",
   "execution_count": null,
   "id": "58907c05",
   "metadata": {},
   "outputs": [],
   "source": [
    "params"
   ]
  },
  {
   "cell_type": "code",
   "execution_count": 2,
   "id": "feca67a8",
   "metadata": {},
   "outputs": [],
   "source": [
    "def get_post(subreddit, length):\n",
    "    base_url = \"https://api.pushshift.io/reddit/search/submission\"\n",
    "\n",
    "    req = requests.get(\n",
    "        base_url,\n",
    "        params = {\n",
    "            'subreddit': subreddit,\n",
    "            'size': 100,\n",
    "            'sort_type': 'created_utc',\n",
    "            'sort': 'desc',\n",
    "            \n",
    "        })\n",
    "    data = req.json()['data']\n",
    "    \n",
    "    \n",
    "#    compiled_data = []\n",
    "    print('before loop')\n",
    "    while len(data) < length:\n",
    "        \n",
    "        print(len(data))\n",
    "        last_timestamp = data[-1].get('created_utc') \n",
    "        print(last_timestamp)\n",
    "        req = requests.get(\n",
    "            base_url,\n",
    "            params = {\n",
    "                'subreddit': subreddit,\n",
    "                'size': 100,\n",
    "                'sort_type': 'created_utc',\n",
    "                'sort': 'desc',\n",
    "                'before': last_timestamp\n",
    "            })\n",
    "        new_data = req.json()['data']\n",
    "        \n",
    "        \n",
    "       \n",
    "        data.extend(new_data)\n",
    "        \n",
    "        \n",
    "        if ((len(data) >= length) or (len(new_data) == 0)):\n",
    "            print(\"Break\")\n",
    "            break \n",
    "                 \n",
    "    \n",
    "    return data"
   ]
  },
  {
   "cell_type": "code",
   "execution_count": 12,
   "id": "5791b514",
   "metadata": {},
   "outputs": [],
   "source": [
    "def get_full_df(data):\n",
    "    full_df = pd.DataFrame(data)\n",
    "    return full_df"
   ]
  },
  {
   "cell_type": "code",
   "execution_count": 21,
   "id": "962a08db",
   "metadata": {},
   "outputs": [],
   "source": [
    "def get_df(full_df):\n",
    "    df = full_df[['subreddit', 'title', 'selftext']]\n",
    "    df.rename(columns = {'selftext': 'post'}, inplace = True)\n",
    "    return df"
   ]
  },
  {
   "cell_type": "code",
   "execution_count": 29,
   "id": "daef9f1d",
   "metadata": {},
   "outputs": [],
   "source": [
    "eb_full = get_full_df(eb)\n",
    "#df = get_df(eb_full)\n",
    "# Save full earbuds data\n",
    "eb_full.to_csv('../datasets/earbuds_full.csv', index=False)"
   ]
  },
  {
   "cell_type": "code",
   "execution_count": 30,
   "id": "af0cc74d",
   "metadata": {},
   "outputs": [],
   "source": [
    "eb_df = get_df(eb_full)\n",
    "#df = get_df(eb_full)\n",
    "# Save cleaned train data\n",
    "eb_df.to_csv('../datasets/earbuds_trimmed.csv', index=False)"
   ]
  },
  {
   "cell_type": "code",
   "execution_count": 3,
   "id": "10f1ff30",
   "metadata": {},
   "outputs": [
    {
     "name": "stdout",
     "output_type": "stream",
     "text": [
      "before loop\n",
      "100\n",
      "1641446345\n",
      "199\n",
      "1640786386\n",
      "299\n",
      "1640168270\n",
      "399\n",
      "1639560360\n",
      "499\n",
      "1639115175\n",
      "599\n",
      "1638630203\n",
      "699\n",
      "1638196254\n",
      "799\n",
      "1637821225\n",
      "899\n",
      "1637370753\n",
      "999\n",
      "1636826359\n",
      "Break\n"
     ]
    },
    {
     "data": {
      "text/plain": [
       "1099"
      ]
     },
     "execution_count": 3,
     "metadata": {},
     "output_type": "execute_result"
    }
   ],
   "source": [
    "eb = get_post('earbuds', 1000)\n",
    "len(eb)"
   ]
  },
  {
   "cell_type": "code",
   "execution_count": 11,
   "id": "be1c483e",
   "metadata": {},
   "outputs": [
    {
     "name": "stdout",
     "output_type": "stream",
     "text": [
      "<class 'pandas.core.frame.DataFrame'>\n",
      "RangeIndex: 1099 entries, 0 to 1098\n",
      "Data columns (total 3 columns):\n",
      " #   Column     Non-Null Count  Dtype \n",
      "---  ------     --------------  ----- \n",
      " 0   subreddit  1099 non-null   object\n",
      " 1   title      1099 non-null   object\n",
      " 2   post       1099 non-null   object\n",
      "dtypes: object(3)\n",
      "memory usage: 25.9+ KB\n",
      "None\n"
     ]
    },
    {
     "data": {
      "text/html": [
       "<div>\n",
       "<style scoped>\n",
       "    .dataframe tbody tr th:only-of-type {\n",
       "        vertical-align: middle;\n",
       "    }\n",
       "\n",
       "    .dataframe tbody tr th {\n",
       "        vertical-align: top;\n",
       "    }\n",
       "\n",
       "    .dataframe thead th {\n",
       "        text-align: right;\n",
       "    }\n",
       "</style>\n",
       "<table border=\"1\" class=\"dataframe\">\n",
       "  <thead>\n",
       "    <tr style=\"text-align: right;\">\n",
       "      <th></th>\n",
       "      <th>subreddit</th>\n",
       "      <th>title</th>\n",
       "      <th>post</th>\n",
       "    </tr>\n",
       "  </thead>\n",
       "  <tbody>\n",
       "    <tr>\n",
       "      <th>0</th>\n",
       "      <td>Earbuds</td>\n",
       "      <td>Right earbud on Tozo NC9s won’t connect</td>\n",
       "      <td>They connected fine until about a day ago when...</td>\n",
       "    </tr>\n",
       "    <tr>\n",
       "      <th>1</th>\n",
       "      <td>Earbuds</td>\n",
       "      <td>Choosing The Best Wireless Earbud Headphones</td>\n",
       "      <td>If you're looking for a set of[ ](https://www....</td>\n",
       "    </tr>\n",
       "    <tr>\n",
       "      <th>2</th>\n",
       "      <td>Earbuds</td>\n",
       "      <td>Bought a pair of Soundcore Liberty Air 2 and I...</td>\n",
       "      <td>Hello, everyone\\n\\nI bought a pair of Soundcor...</td>\n",
       "    </tr>\n",
       "    <tr>\n",
       "      <th>3</th>\n",
       "      <td>Earbuds</td>\n",
       "      <td>Desperately looking for waterproof earbuds wit...</td>\n",
       "      <td>I am desperately looking for a pair of waterpr...</td>\n",
       "    </tr>\n",
       "    <tr>\n",
       "      <th>4</th>\n",
       "      <td>Earbuds</td>\n",
       "      <td>Mi basic 2 issue</td>\n",
       "      <td>The button on the right ear doesn't work at al...</td>\n",
       "    </tr>\n",
       "    <tr>\n",
       "      <th>...</th>\n",
       "      <td>...</td>\n",
       "      <td>...</td>\n",
       "      <td>...</td>\n",
       "    </tr>\n",
       "    <tr>\n",
       "      <th>1094</th>\n",
       "      <td>Earbuds</td>\n",
       "      <td>Soundpeats h1 battery problem</td>\n",
       "      <td>I got my new soundpeats h1 yesterday and they ...</td>\n",
       "    </tr>\n",
       "    <tr>\n",
       "      <th>1095</th>\n",
       "      <td>Earbuds</td>\n",
       "      <td>1more comfobuds pro eartips</td>\n",
       "      <td>Hello,\\n\\nI've been looking around but i can't...</td>\n",
       "    </tr>\n",
       "    <tr>\n",
       "      <th>1096</th>\n",
       "      <td>Earbuds</td>\n",
       "      <td>Looking for behind the neck earbuds.</td>\n",
       "      <td>Looking for behind the neck earbuds. I'll be w...</td>\n",
       "    </tr>\n",
       "    <tr>\n",
       "      <th>1097</th>\n",
       "      <td>Earbuds</td>\n",
       "      <td>Which of these should I get?</td>\n",
       "      <td>Hey! I'm looking to buy some earbuds somewhere...</td>\n",
       "    </tr>\n",
       "    <tr>\n",
       "      <th>1098</th>\n",
       "      <td>Earbuds</td>\n",
       "      <td>Best earbuds for below zero temps?</td>\n",
       "      <td>I live in northern Canada and my primary form ...</td>\n",
       "    </tr>\n",
       "  </tbody>\n",
       "</table>\n",
       "<p>1099 rows × 3 columns</p>\n",
       "</div>"
      ],
      "text/plain": [
       "     subreddit                                              title  \\\n",
       "0      Earbuds            Right earbud on Tozo NC9s won’t connect   \n",
       "1      Earbuds       Choosing The Best Wireless Earbud Headphones   \n",
       "2      Earbuds  Bought a pair of Soundcore Liberty Air 2 and I...   \n",
       "3      Earbuds  Desperately looking for waterproof earbuds wit...   \n",
       "4      Earbuds                                   Mi basic 2 issue   \n",
       "...        ...                                                ...   \n",
       "1094   Earbuds                      Soundpeats h1 battery problem   \n",
       "1095   Earbuds                        1more comfobuds pro eartips   \n",
       "1096   Earbuds               Looking for behind the neck earbuds.   \n",
       "1097   Earbuds                       Which of these should I get?   \n",
       "1098   Earbuds                 Best earbuds for below zero temps?   \n",
       "\n",
       "                                                   post  \n",
       "0     They connected fine until about a day ago when...  \n",
       "1     If you're looking for a set of[ ](https://www....  \n",
       "2     Hello, everyone\\n\\nI bought a pair of Soundcor...  \n",
       "3     I am desperately looking for a pair of waterpr...  \n",
       "4     The button on the right ear doesn't work at al...  \n",
       "...                                                 ...  \n",
       "1094  I got my new soundpeats h1 yesterday and they ...  \n",
       "1095  Hello,\\n\\nI've been looking around but i can't...  \n",
       "1096  Looking for behind the neck earbuds. I'll be w...  \n",
       "1097  Hey! I'm looking to buy some earbuds somewhere...  \n",
       "1098  I live in northern Canada and my primary form ...  \n",
       "\n",
       "[1099 rows x 3 columns]"
      ]
     },
     "execution_count": 11,
     "metadata": {},
     "output_type": "execute_result"
    }
   ],
   "source": [
    "full_df = get_df(eb)\n",
    "full_df"
   ]
  },
  {
   "cell_type": "code",
   "execution_count": 4,
   "id": "5f9bc65c",
   "metadata": {},
   "outputs": [
    {
     "ename": "ValueError",
     "evalue": "Protocol not known: **  \\n\\\\- Battery life.  \\n\\\\- Multi-point connectivity.  \\n\\n\\n\\\\##**Nice to haves:**  \\n\\\\- Sound quality.  \\n\\\\- Minimal data collecting by app.  \\n\\n\\nI've been considering the following so far:  \\n\\\\- Apple Airpods Pro (Though I'd like to wait for the Apple Airpods Pro 2).  \\n\\\\- Bose Quietcomfort Earbuds (Concerned about their weight for all day use).  \\n\\\\- 1More Comfobuds Pro.\", 'send_replies': True, 'spoiler': False, 'stickied': False, 'subreddit': 'Earbuds', 'subreddit_id': 't5_2seth', 'subreddit_subscribers': 7516, 'subreddit_type': 'public', 'thumbnail': 'self', 'title': 'Help me choose the right earbuds', 'total_awards_received': 0, 'treatment_tags': [], 'upvote_ratio': 1.0, 'url': 'https",
     "output_type": "error",
     "traceback": [
      "\u001b[0;31m---------------------------------------------------------------------------\u001b[0m",
      "\u001b[0;31mValueError\u001b[0m                                Traceback (most recent call last)",
      "\u001b[0;32m/var/folders/w4/f07wq71n1bl3pxnp78q4rfym0000gn/T/ipykernel_2385/3293071583.py\u001b[0m in \u001b[0;36m<module>\u001b[0;34m\u001b[0m\n\u001b[1;32m      1\u001b[0m \u001b[0mfull_df\u001b[0m \u001b[0;34m=\u001b[0m \u001b[0mpd\u001b[0m\u001b[0;34m.\u001b[0m\u001b[0mDataFrame\u001b[0m\u001b[0;34m(\u001b[0m\u001b[0meb\u001b[0m\u001b[0;34m)\u001b[0m\u001b[0;34m\u001b[0m\u001b[0;34m\u001b[0m\u001b[0m\n\u001b[1;32m      2\u001b[0m \u001b[0mname\u001b[0m \u001b[0;34m=\u001b[0m \u001b[0mstr\u001b[0m\u001b[0;34m(\u001b[0m\u001b[0meb\u001b[0m\u001b[0;34m)\u001b[0m\u001b[0;34m\u001b[0m\u001b[0;34m\u001b[0m\u001b[0m\n\u001b[0;32m----> 3\u001b[0;31m \u001b[0mfull_df\u001b[0m\u001b[0;34m.\u001b[0m\u001b[0mto_csv\u001b[0m\u001b[0;34m(\u001b[0m\u001b[0;34mf'../datasets/{name}.csv'\u001b[0m\u001b[0;34m,\u001b[0m \u001b[0mindex\u001b[0m \u001b[0;34m=\u001b[0m \u001b[0;32mFalse\u001b[0m\u001b[0;34m)\u001b[0m\u001b[0;34m\u001b[0m\u001b[0;34m\u001b[0m\u001b[0m\n\u001b[0m\u001b[1;32m      4\u001b[0m \u001b[0;34m\u001b[0m\u001b[0m\n\u001b[1;32m      5\u001b[0m \u001b[0;31m# Save cleaned train data\u001b[0m\u001b[0;34m\u001b[0m\u001b[0;34m\u001b[0m\u001b[0m\n",
      "\u001b[0;32m~/opt/anaconda3/lib/python3.9/site-packages/pandas/core/generic.py\u001b[0m in \u001b[0;36mto_csv\u001b[0;34m(self, path_or_buf, sep, na_rep, float_format, columns, header, index, index_label, mode, encoding, compression, quoting, quotechar, line_terminator, chunksize, date_format, doublequote, escapechar, decimal, errors, storage_options)\u001b[0m\n\u001b[1;32m   3464\u001b[0m         )\n\u001b[1;32m   3465\u001b[0m \u001b[0;34m\u001b[0m\u001b[0m\n\u001b[0;32m-> 3466\u001b[0;31m         return DataFrameRenderer(formatter).to_csv(\n\u001b[0m\u001b[1;32m   3467\u001b[0m             \u001b[0mpath_or_buf\u001b[0m\u001b[0;34m,\u001b[0m\u001b[0;34m\u001b[0m\u001b[0;34m\u001b[0m\u001b[0m\n\u001b[1;32m   3468\u001b[0m             \u001b[0mline_terminator\u001b[0m\u001b[0;34m=\u001b[0m\u001b[0mline_terminator\u001b[0m\u001b[0;34m,\u001b[0m\u001b[0;34m\u001b[0m\u001b[0;34m\u001b[0m\u001b[0m\n",
      "\u001b[0;32m~/opt/anaconda3/lib/python3.9/site-packages/pandas/io/formats/format.py\u001b[0m in \u001b[0;36mto_csv\u001b[0;34m(self, path_or_buf, encoding, sep, columns, index_label, mode, compression, quoting, quotechar, line_terminator, chunksize, date_format, doublequote, escapechar, errors, storage_options)\u001b[0m\n\u001b[1;32m   1103\u001b[0m             \u001b[0mformatter\u001b[0m\u001b[0;34m=\u001b[0m\u001b[0mself\u001b[0m\u001b[0;34m.\u001b[0m\u001b[0mfmt\u001b[0m\u001b[0;34m,\u001b[0m\u001b[0;34m\u001b[0m\u001b[0;34m\u001b[0m\u001b[0m\n\u001b[1;32m   1104\u001b[0m         )\n\u001b[0;32m-> 1105\u001b[0;31m         \u001b[0mcsv_formatter\u001b[0m\u001b[0;34m.\u001b[0m\u001b[0msave\u001b[0m\u001b[0;34m(\u001b[0m\u001b[0;34m)\u001b[0m\u001b[0;34m\u001b[0m\u001b[0;34m\u001b[0m\u001b[0m\n\u001b[0m\u001b[1;32m   1106\u001b[0m \u001b[0;34m\u001b[0m\u001b[0m\n\u001b[1;32m   1107\u001b[0m         \u001b[0;32mif\u001b[0m \u001b[0mcreated_buffer\u001b[0m\u001b[0;34m:\u001b[0m\u001b[0;34m\u001b[0m\u001b[0;34m\u001b[0m\u001b[0m\n",
      "\u001b[0;32m~/opt/anaconda3/lib/python3.9/site-packages/pandas/io/formats/csvs.py\u001b[0m in \u001b[0;36msave\u001b[0;34m(self)\u001b[0m\n\u001b[1;32m    235\u001b[0m         \"\"\"\n\u001b[1;32m    236\u001b[0m         \u001b[0;31m# apply compression and byte/text conversion\u001b[0m\u001b[0;34m\u001b[0m\u001b[0;34m\u001b[0m\u001b[0m\n\u001b[0;32m--> 237\u001b[0;31m         with get_handle(\n\u001b[0m\u001b[1;32m    238\u001b[0m             \u001b[0mself\u001b[0m\u001b[0;34m.\u001b[0m\u001b[0mfilepath_or_buffer\u001b[0m\u001b[0;34m,\u001b[0m\u001b[0;34m\u001b[0m\u001b[0;34m\u001b[0m\u001b[0m\n\u001b[1;32m    239\u001b[0m             \u001b[0mself\u001b[0m\u001b[0;34m.\u001b[0m\u001b[0mmode\u001b[0m\u001b[0;34m,\u001b[0m\u001b[0;34m\u001b[0m\u001b[0;34m\u001b[0m\u001b[0m\n",
      "\u001b[0;32m~/opt/anaconda3/lib/python3.9/site-packages/pandas/io/common.py\u001b[0m in \u001b[0;36mget_handle\u001b[0;34m(path_or_buf, mode, encoding, compression, memory_map, is_text, errors, storage_options)\u001b[0m\n\u001b[1;32m    607\u001b[0m \u001b[0;34m\u001b[0m\u001b[0m\n\u001b[1;32m    608\u001b[0m     \u001b[0;31m# open URLs\u001b[0m\u001b[0;34m\u001b[0m\u001b[0;34m\u001b[0m\u001b[0m\n\u001b[0;32m--> 609\u001b[0;31m     ioargs = _get_filepath_or_buffer(\n\u001b[0m\u001b[1;32m    610\u001b[0m         \u001b[0mpath_or_buf\u001b[0m\u001b[0;34m,\u001b[0m\u001b[0;34m\u001b[0m\u001b[0;34m\u001b[0m\u001b[0m\n\u001b[1;32m    611\u001b[0m         \u001b[0mencoding\u001b[0m\u001b[0;34m=\u001b[0m\u001b[0mencoding\u001b[0m\u001b[0;34m,\u001b[0m\u001b[0;34m\u001b[0m\u001b[0;34m\u001b[0m\u001b[0m\n",
      "\u001b[0;32m~/opt/anaconda3/lib/python3.9/site-packages/pandas/io/common.py\u001b[0m in \u001b[0;36m_get_filepath_or_buffer\u001b[0;34m(filepath_or_buffer, encoding, compression, mode, storage_options)\u001b[0m\n\u001b[1;32m    356\u001b[0m \u001b[0;34m\u001b[0m\u001b[0m\n\u001b[1;32m    357\u001b[0m         \u001b[0;32mtry\u001b[0m\u001b[0;34m:\u001b[0m\u001b[0;34m\u001b[0m\u001b[0;34m\u001b[0m\u001b[0m\n\u001b[0;32m--> 358\u001b[0;31m             file_obj = fsspec.open(\n\u001b[0m\u001b[1;32m    359\u001b[0m                 \u001b[0mfilepath_or_buffer\u001b[0m\u001b[0;34m,\u001b[0m \u001b[0mmode\u001b[0m\u001b[0;34m=\u001b[0m\u001b[0mfsspec_mode\u001b[0m\u001b[0;34m,\u001b[0m \u001b[0;34m**\u001b[0m\u001b[0;34m(\u001b[0m\u001b[0mstorage_options\u001b[0m \u001b[0;32mor\u001b[0m \u001b[0;34m{\u001b[0m\u001b[0;34m}\u001b[0m\u001b[0;34m)\u001b[0m\u001b[0;34m\u001b[0m\u001b[0;34m\u001b[0m\u001b[0m\n\u001b[1;32m    360\u001b[0m             ).open()\n",
      "\u001b[0;32m~/opt/anaconda3/lib/python3.9/site-packages/fsspec/core.py\u001b[0m in \u001b[0;36mopen\u001b[0;34m(urlpath, mode, compression, encoding, errors, protocol, newline, **kwargs)\u001b[0m\n\u001b[1;32m    427\u001b[0m     \u001b[0;31m`\u001b[0m\u001b[0;31m`\u001b[0m\u001b[0mOpenFile\u001b[0m\u001b[0;31m`\u001b[0m\u001b[0;31m`\u001b[0m \u001b[0mobject\u001b[0m\u001b[0;34m.\u001b[0m\u001b[0;34m\u001b[0m\u001b[0;34m\u001b[0m\u001b[0m\n\u001b[1;32m    428\u001b[0m     \"\"\"\n\u001b[0;32m--> 429\u001b[0;31m     return open_files(\n\u001b[0m\u001b[1;32m    430\u001b[0m         \u001b[0murlpath\u001b[0m\u001b[0;34m=\u001b[0m\u001b[0;34m[\u001b[0m\u001b[0murlpath\u001b[0m\u001b[0;34m]\u001b[0m\u001b[0;34m,\u001b[0m\u001b[0;34m\u001b[0m\u001b[0;34m\u001b[0m\u001b[0m\n\u001b[1;32m    431\u001b[0m         \u001b[0mmode\u001b[0m\u001b[0;34m=\u001b[0m\u001b[0mmode\u001b[0m\u001b[0;34m,\u001b[0m\u001b[0;34m\u001b[0m\u001b[0;34m\u001b[0m\u001b[0m\n",
      "\u001b[0;32m~/opt/anaconda3/lib/python3.9/site-packages/fsspec/core.py\u001b[0m in \u001b[0;36mopen_files\u001b[0;34m(urlpath, mode, compression, encoding, errors, name_function, num, protocol, newline, auto_mkdir, expand, **kwargs)\u001b[0m\n\u001b[1;32m    279\u001b[0m     \u001b[0mbe\u001b[0m \u001b[0mused\u001b[0m \u001b[0;32mas\u001b[0m \u001b[0ma\u001b[0m \u001b[0msingle\u001b[0m \u001b[0mcontext\u001b[0m\u001b[0;34m\u001b[0m\u001b[0;34m\u001b[0m\u001b[0m\n\u001b[1;32m    280\u001b[0m     \"\"\"\n\u001b[0;32m--> 281\u001b[0;31m     fs, fs_token, paths = get_fs_token_paths(\n\u001b[0m\u001b[1;32m    282\u001b[0m         \u001b[0murlpath\u001b[0m\u001b[0;34m,\u001b[0m\u001b[0;34m\u001b[0m\u001b[0;34m\u001b[0m\u001b[0m\n\u001b[1;32m    283\u001b[0m         \u001b[0mmode\u001b[0m\u001b[0;34m,\u001b[0m\u001b[0;34m\u001b[0m\u001b[0;34m\u001b[0m\u001b[0m\n",
      "\u001b[0;32m~/opt/anaconda3/lib/python3.9/site-packages/fsspec/core.py\u001b[0m in \u001b[0;36mget_fs_token_paths\u001b[0;34m(urlpath, mode, num, name_function, storage_options, protocol, expand)\u001b[0m\n\u001b[1;32m    569\u001b[0m     \u001b[0;32melse\u001b[0m\u001b[0;34m:\u001b[0m\u001b[0;34m\u001b[0m\u001b[0;34m\u001b[0m\u001b[0m\n\u001b[1;32m    570\u001b[0m         \u001b[0murlpath\u001b[0m \u001b[0;34m=\u001b[0m \u001b[0mstringify_path\u001b[0m\u001b[0;34m(\u001b[0m\u001b[0murlpath\u001b[0m\u001b[0;34m)\u001b[0m\u001b[0;34m\u001b[0m\u001b[0;34m\u001b[0m\u001b[0m\n\u001b[0;32m--> 571\u001b[0;31m     \u001b[0mchain\u001b[0m \u001b[0;34m=\u001b[0m \u001b[0m_un_chain\u001b[0m\u001b[0;34m(\u001b[0m\u001b[0murlpath\u001b[0m\u001b[0;34m,\u001b[0m \u001b[0mstorage_options\u001b[0m \u001b[0;32mor\u001b[0m \u001b[0;34m{\u001b[0m\u001b[0;34m}\u001b[0m\u001b[0;34m)\u001b[0m\u001b[0;34m\u001b[0m\u001b[0;34m\u001b[0m\u001b[0m\n\u001b[0m\u001b[1;32m    572\u001b[0m     \u001b[0;32mif\u001b[0m \u001b[0mlen\u001b[0m\u001b[0;34m(\u001b[0m\u001b[0mchain\u001b[0m\u001b[0;34m)\u001b[0m \u001b[0;34m>\u001b[0m \u001b[0;36m1\u001b[0m\u001b[0;34m:\u001b[0m\u001b[0;34m\u001b[0m\u001b[0;34m\u001b[0m\u001b[0m\n\u001b[1;32m    573\u001b[0m         \u001b[0minkwargs\u001b[0m \u001b[0;34m=\u001b[0m \u001b[0;34m{\u001b[0m\u001b[0;34m}\u001b[0m\u001b[0;34m\u001b[0m\u001b[0;34m\u001b[0m\u001b[0m\n",
      "\u001b[0;32m~/opt/anaconda3/lib/python3.9/site-packages/fsspec/core.py\u001b[0m in \u001b[0;36m_un_chain\u001b[0;34m(path, kwargs)\u001b[0m\n\u001b[1;32m    311\u001b[0m \u001b[0;32mdef\u001b[0m \u001b[0m_un_chain\u001b[0m\u001b[0;34m(\u001b[0m\u001b[0mpath\u001b[0m\u001b[0;34m,\u001b[0m \u001b[0mkwargs\u001b[0m\u001b[0;34m)\u001b[0m\u001b[0;34m:\u001b[0m\u001b[0;34m\u001b[0m\u001b[0;34m\u001b[0m\u001b[0m\n\u001b[1;32m    312\u001b[0m     \u001b[0;32mif\u001b[0m \u001b[0misinstance\u001b[0m\u001b[0;34m(\u001b[0m\u001b[0mpath\u001b[0m\u001b[0;34m,\u001b[0m \u001b[0;34m(\u001b[0m\u001b[0mtuple\u001b[0m\u001b[0;34m,\u001b[0m \u001b[0mlist\u001b[0m\u001b[0;34m)\u001b[0m\u001b[0;34m)\u001b[0m\u001b[0;34m:\u001b[0m\u001b[0;34m\u001b[0m\u001b[0;34m\u001b[0m\u001b[0m\n\u001b[0;32m--> 313\u001b[0;31m         \u001b[0mbits\u001b[0m \u001b[0;34m=\u001b[0m \u001b[0;34m[\u001b[0m\u001b[0m_un_chain\u001b[0m\u001b[0;34m(\u001b[0m\u001b[0mp\u001b[0m\u001b[0;34m,\u001b[0m \u001b[0mkwargs\u001b[0m\u001b[0;34m)\u001b[0m \u001b[0;32mfor\u001b[0m \u001b[0mp\u001b[0m \u001b[0;32min\u001b[0m \u001b[0mpath\u001b[0m\u001b[0;34m]\u001b[0m\u001b[0;34m\u001b[0m\u001b[0;34m\u001b[0m\u001b[0m\n\u001b[0m\u001b[1;32m    314\u001b[0m         \u001b[0mout\u001b[0m \u001b[0;34m=\u001b[0m \u001b[0;34m[\u001b[0m\u001b[0;34m]\u001b[0m\u001b[0;34m\u001b[0m\u001b[0;34m\u001b[0m\u001b[0m\n\u001b[1;32m    315\u001b[0m         \u001b[0;32mfor\u001b[0m \u001b[0mpbit\u001b[0m \u001b[0;32min\u001b[0m \u001b[0mzip\u001b[0m\u001b[0;34m(\u001b[0m\u001b[0;34m*\u001b[0m\u001b[0mbits\u001b[0m\u001b[0;34m)\u001b[0m\u001b[0;34m:\u001b[0m\u001b[0;34m\u001b[0m\u001b[0;34m\u001b[0m\u001b[0m\n",
      "\u001b[0;32m~/opt/anaconda3/lib/python3.9/site-packages/fsspec/core.py\u001b[0m in \u001b[0;36m<listcomp>\u001b[0;34m(.0)\u001b[0m\n\u001b[1;32m    311\u001b[0m \u001b[0;32mdef\u001b[0m \u001b[0m_un_chain\u001b[0m\u001b[0;34m(\u001b[0m\u001b[0mpath\u001b[0m\u001b[0;34m,\u001b[0m \u001b[0mkwargs\u001b[0m\u001b[0;34m)\u001b[0m\u001b[0;34m:\u001b[0m\u001b[0;34m\u001b[0m\u001b[0;34m\u001b[0m\u001b[0m\n\u001b[1;32m    312\u001b[0m     \u001b[0;32mif\u001b[0m \u001b[0misinstance\u001b[0m\u001b[0;34m(\u001b[0m\u001b[0mpath\u001b[0m\u001b[0;34m,\u001b[0m \u001b[0;34m(\u001b[0m\u001b[0mtuple\u001b[0m\u001b[0;34m,\u001b[0m \u001b[0mlist\u001b[0m\u001b[0;34m)\u001b[0m\u001b[0;34m)\u001b[0m\u001b[0;34m:\u001b[0m\u001b[0;34m\u001b[0m\u001b[0;34m\u001b[0m\u001b[0m\n\u001b[0;32m--> 313\u001b[0;31m         \u001b[0mbits\u001b[0m \u001b[0;34m=\u001b[0m \u001b[0;34m[\u001b[0m\u001b[0m_un_chain\u001b[0m\u001b[0;34m(\u001b[0m\u001b[0mp\u001b[0m\u001b[0;34m,\u001b[0m \u001b[0mkwargs\u001b[0m\u001b[0;34m)\u001b[0m \u001b[0;32mfor\u001b[0m \u001b[0mp\u001b[0m \u001b[0;32min\u001b[0m \u001b[0mpath\u001b[0m\u001b[0;34m]\u001b[0m\u001b[0;34m\u001b[0m\u001b[0;34m\u001b[0m\u001b[0m\n\u001b[0m\u001b[1;32m    314\u001b[0m         \u001b[0mout\u001b[0m \u001b[0;34m=\u001b[0m \u001b[0;34m[\u001b[0m\u001b[0;34m]\u001b[0m\u001b[0;34m\u001b[0m\u001b[0;34m\u001b[0m\u001b[0m\n\u001b[1;32m    315\u001b[0m         \u001b[0;32mfor\u001b[0m \u001b[0mpbit\u001b[0m \u001b[0;32min\u001b[0m \u001b[0mzip\u001b[0m\u001b[0;34m(\u001b[0m\u001b[0;34m*\u001b[0m\u001b[0mbits\u001b[0m\u001b[0;34m)\u001b[0m\u001b[0;34m:\u001b[0m\u001b[0;34m\u001b[0m\u001b[0;34m\u001b[0m\u001b[0m\n",
      "\u001b[0;32m~/opt/anaconda3/lib/python3.9/site-packages/fsspec/core.py\u001b[0m in \u001b[0;36m_un_chain\u001b[0;34m(path, kwargs)\u001b[0m\n\u001b[1;32m    336\u001b[0m     \u001b[0;32mfor\u001b[0m \u001b[0mbit\u001b[0m \u001b[0;32min\u001b[0m \u001b[0mreversed\u001b[0m\u001b[0;34m(\u001b[0m\u001b[0mbits\u001b[0m\u001b[0;34m)\u001b[0m\u001b[0;34m:\u001b[0m\u001b[0;34m\u001b[0m\u001b[0;34m\u001b[0m\u001b[0m\n\u001b[1;32m    337\u001b[0m         \u001b[0mprotocol\u001b[0m \u001b[0;34m=\u001b[0m \u001b[0msplit_protocol\u001b[0m\u001b[0;34m(\u001b[0m\u001b[0mbit\u001b[0m\u001b[0;34m)\u001b[0m\u001b[0;34m[\u001b[0m\u001b[0;36m0\u001b[0m\u001b[0;34m]\u001b[0m \u001b[0;32mor\u001b[0m \u001b[0;34m\"file\"\u001b[0m\u001b[0;34m\u001b[0m\u001b[0;34m\u001b[0m\u001b[0m\n\u001b[0;32m--> 338\u001b[0;31m         \u001b[0mcls\u001b[0m \u001b[0;34m=\u001b[0m \u001b[0mget_filesystem_class\u001b[0m\u001b[0;34m(\u001b[0m\u001b[0mprotocol\u001b[0m\u001b[0;34m)\u001b[0m\u001b[0;34m\u001b[0m\u001b[0;34m\u001b[0m\u001b[0m\n\u001b[0m\u001b[1;32m    339\u001b[0m         \u001b[0mextra_kwargs\u001b[0m \u001b[0;34m=\u001b[0m \u001b[0mcls\u001b[0m\u001b[0;34m.\u001b[0m\u001b[0m_get_kwargs_from_urls\u001b[0m\u001b[0;34m(\u001b[0m\u001b[0mbit\u001b[0m\u001b[0;34m)\u001b[0m\u001b[0;34m\u001b[0m\u001b[0;34m\u001b[0m\u001b[0m\n\u001b[1;32m    340\u001b[0m         \u001b[0mkws\u001b[0m \u001b[0;34m=\u001b[0m \u001b[0mkwargs\u001b[0m\u001b[0;34m.\u001b[0m\u001b[0mget\u001b[0m\u001b[0;34m(\u001b[0m\u001b[0mprotocol\u001b[0m\u001b[0;34m,\u001b[0m \u001b[0;34m{\u001b[0m\u001b[0;34m}\u001b[0m\u001b[0;34m)\u001b[0m\u001b[0;34m\u001b[0m\u001b[0;34m\u001b[0m\u001b[0m\n",
      "\u001b[0;32m~/opt/anaconda3/lib/python3.9/site-packages/fsspec/registry.py\u001b[0m in \u001b[0;36mget_filesystem_class\u001b[0;34m(protocol)\u001b[0m\n\u001b[1;32m    206\u001b[0m     \u001b[0;32mif\u001b[0m \u001b[0mprotocol\u001b[0m \u001b[0;32mnot\u001b[0m \u001b[0;32min\u001b[0m \u001b[0mregistry\u001b[0m\u001b[0;34m:\u001b[0m\u001b[0;34m\u001b[0m\u001b[0;34m\u001b[0m\u001b[0m\n\u001b[1;32m    207\u001b[0m         \u001b[0;32mif\u001b[0m \u001b[0mprotocol\u001b[0m \u001b[0;32mnot\u001b[0m \u001b[0;32min\u001b[0m \u001b[0mknown_implementations\u001b[0m\u001b[0;34m:\u001b[0m\u001b[0;34m\u001b[0m\u001b[0;34m\u001b[0m\u001b[0m\n\u001b[0;32m--> 208\u001b[0;31m             \u001b[0;32mraise\u001b[0m \u001b[0mValueError\u001b[0m\u001b[0;34m(\u001b[0m\u001b[0;34m\"Protocol not known: %s\"\u001b[0m \u001b[0;34m%\u001b[0m \u001b[0mprotocol\u001b[0m\u001b[0;34m)\u001b[0m\u001b[0;34m\u001b[0m\u001b[0;34m\u001b[0m\u001b[0m\n\u001b[0m\u001b[1;32m    209\u001b[0m         \u001b[0mbit\u001b[0m \u001b[0;34m=\u001b[0m \u001b[0mknown_implementations\u001b[0m\u001b[0;34m[\u001b[0m\u001b[0mprotocol\u001b[0m\u001b[0;34m]\u001b[0m\u001b[0;34m\u001b[0m\u001b[0;34m\u001b[0m\u001b[0m\n\u001b[1;32m    210\u001b[0m         \u001b[0;32mtry\u001b[0m\u001b[0;34m:\u001b[0m\u001b[0;34m\u001b[0m\u001b[0;34m\u001b[0m\u001b[0m\n",
      "\u001b[0;31mValueError\u001b[0m: Protocol not known: **  \\n\\\\- Battery life.  \\n\\\\- Multi-point connectivity.  \\n\\n\\n\\\\##**Nice to haves:**  \\n\\\\- Sound quality.  \\n\\\\- Minimal data collecting by app.  \\n\\n\\nI've been considering the following so far:  \\n\\\\- Apple Airpods Pro (Though I'd like to wait for the Apple Airpods Pro 2).  \\n\\\\- Bose Quietcomfort Earbuds (Concerned about their weight for all day use).  \\n\\\\- 1More Comfobuds Pro.\", 'send_replies': True, 'spoiler': False, 'stickied': False, 'subreddit': 'Earbuds', 'subreddit_id': 't5_2seth', 'subreddit_subscribers': 7516, 'subreddit_type': 'public', 'thumbnail': 'self', 'title': 'Help me choose the right earbuds', 'total_awards_received': 0, 'treatment_tags': [], 'upvote_ratio': 1.0, 'url': 'https"
     ]
    }
   ],
   "source": [
    "full_df = pd.DataFrame(eb)\n",
    "name = str(eb)\n",
    "full_df.to_csv(f'../datasets/{name}.csv', index = False)\n",
    "\n",
    "# Save cleaned train data\n"
   ]
  },
  {
   "cell_type": "code",
   "execution_count": 19,
   "id": "1b74dde3",
   "metadata": {},
   "outputs": [
    {
     "data": {
      "text/html": [
       "<div>\n",
       "<style scoped>\n",
       "    .dataframe tbody tr th:only-of-type {\n",
       "        vertical-align: middle;\n",
       "    }\n",
       "\n",
       "    .dataframe tbody tr th {\n",
       "        vertical-align: top;\n",
       "    }\n",
       "\n",
       "    .dataframe thead th {\n",
       "        text-align: right;\n",
       "    }\n",
       "</style>\n",
       "<table border=\"1\" class=\"dataframe\">\n",
       "  <thead>\n",
       "    <tr style=\"text-align: right;\">\n",
       "      <th></th>\n",
       "      <th>subreddit</th>\n",
       "      <th>title</th>\n",
       "      <th>post</th>\n",
       "    </tr>\n",
       "  </thead>\n",
       "  <tbody>\n",
       "    <tr>\n",
       "      <th>0</th>\n",
       "      <td>Earbuds</td>\n",
       "      <td>Right earbud on Tozo NC9s won’t connect</td>\n",
       "      <td>They connected fine until about a day ago when...</td>\n",
       "    </tr>\n",
       "    <tr>\n",
       "      <th>1</th>\n",
       "      <td>Earbuds</td>\n",
       "      <td>Choosing The Best Wireless Earbud Headphones</td>\n",
       "      <td>If you're looking for a set of[ ](https://www....</td>\n",
       "    </tr>\n",
       "    <tr>\n",
       "      <th>2</th>\n",
       "      <td>Earbuds</td>\n",
       "      <td>Bought a pair of Soundcore Liberty Air 2 and I...</td>\n",
       "      <td>Hello, everyone\\n\\nI bought a pair of Soundcor...</td>\n",
       "    </tr>\n",
       "    <tr>\n",
       "      <th>3</th>\n",
       "      <td>Earbuds</td>\n",
       "      <td>Desperately looking for waterproof earbuds wit...</td>\n",
       "      <td>I am desperately looking for a pair of waterpr...</td>\n",
       "    </tr>\n",
       "    <tr>\n",
       "      <th>4</th>\n",
       "      <td>Earbuds</td>\n",
       "      <td>Mi basic 2 issue</td>\n",
       "      <td>The button on the right ear doesn't work at al...</td>\n",
       "    </tr>\n",
       "    <tr>\n",
       "      <th>...</th>\n",
       "      <td>...</td>\n",
       "      <td>...</td>\n",
       "      <td>...</td>\n",
       "    </tr>\n",
       "    <tr>\n",
       "      <th>1094</th>\n",
       "      <td>Earbuds</td>\n",
       "      <td>Soundpeats h1 battery problem</td>\n",
       "      <td>I got my new soundpeats h1 yesterday and they ...</td>\n",
       "    </tr>\n",
       "    <tr>\n",
       "      <th>1095</th>\n",
       "      <td>Earbuds</td>\n",
       "      <td>1more comfobuds pro eartips</td>\n",
       "      <td>Hello,\\n\\nI've been looking around but i can't...</td>\n",
       "    </tr>\n",
       "    <tr>\n",
       "      <th>1096</th>\n",
       "      <td>Earbuds</td>\n",
       "      <td>Looking for behind the neck earbuds.</td>\n",
       "      <td>Looking for behind the neck earbuds. I'll be w...</td>\n",
       "    </tr>\n",
       "    <tr>\n",
       "      <th>1097</th>\n",
       "      <td>Earbuds</td>\n",
       "      <td>Which of these should I get?</td>\n",
       "      <td>Hey! I'm looking to buy some earbuds somewhere...</td>\n",
       "    </tr>\n",
       "    <tr>\n",
       "      <th>1098</th>\n",
       "      <td>Earbuds</td>\n",
       "      <td>Best earbuds for below zero temps?</td>\n",
       "      <td>I live in northern Canada and my primary form ...</td>\n",
       "    </tr>\n",
       "  </tbody>\n",
       "</table>\n",
       "<p>1099 rows × 3 columns</p>\n",
       "</div>"
      ],
      "text/plain": [
       "     subreddit                                              title  \\\n",
       "0      Earbuds            Right earbud on Tozo NC9s won’t connect   \n",
       "1      Earbuds       Choosing The Best Wireless Earbud Headphones   \n",
       "2      Earbuds  Bought a pair of Soundcore Liberty Air 2 and I...   \n",
       "3      Earbuds  Desperately looking for waterproof earbuds wit...   \n",
       "4      Earbuds                                   Mi basic 2 issue   \n",
       "...        ...                                                ...   \n",
       "1094   Earbuds                      Soundpeats h1 battery problem   \n",
       "1095   Earbuds                        1more comfobuds pro eartips   \n",
       "1096   Earbuds               Looking for behind the neck earbuds.   \n",
       "1097   Earbuds                       Which of these should I get?   \n",
       "1098   Earbuds                 Best earbuds for below zero temps?   \n",
       "\n",
       "                                                   post  \n",
       "0     They connected fine until about a day ago when...  \n",
       "1     If you're looking for a set of[ ](https://www....  \n",
       "2     Hello, everyone\\n\\nI bought a pair of Soundcor...  \n",
       "3     I am desperately looking for a pair of waterpr...  \n",
       "4     The button on the right ear doesn't work at al...  \n",
       "...                                                 ...  \n",
       "1094  I got my new soundpeats h1 yesterday and they ...  \n",
       "1095  Hello,\\n\\nI've been looking around but i can't...  \n",
       "1096  Looking for behind the neck earbuds. I'll be w...  \n",
       "1097  Hey! I'm looking to buy some earbuds somewhere...  \n",
       "1098  I live in northern Canada and my primary form ...  \n",
       "\n",
       "[1099 rows x 3 columns]"
      ]
     },
     "execution_count": 19,
     "metadata": {},
     "output_type": "execute_result"
    }
   ],
   "source": [
    "df = pd.DataFrame(eb)[['subreddit', 'title', 'selftext']]\n",
    "df.rename(columns = {'selftext': 'post'}, inplace = True)\n",
    "df"
   ]
  },
  {
   "cell_type": "code",
   "execution_count": null,
   "id": "73870549",
   "metadata": {},
   "outputs": [],
   "source": []
  },
  {
   "cell_type": "code",
   "execution_count": null,
   "id": "cf35face",
   "metadata": {},
   "outputs": [],
   "source": [
    "hp = get_post('headphones', 1000)\n",
    "len(hp)"
   ]
  },
  {
   "cell_type": "code",
   "execution_count": null,
   "id": "e4c4916e",
   "metadata": {},
   "outputs": [],
   "source": [
    "ha = get_post('headphoneadvice', 1000)\n",
    "len(ha)"
   ]
  },
  {
   "cell_type": "code",
   "execution_count": null,
   "id": "b6400086",
   "metadata": {},
   "outputs": [],
   "source": [
    "type(eb)"
   ]
  },
  {
   "cell_type": "code",
   "execution_count": null,
   "id": "65261df7",
   "metadata": {},
   "outputs": [],
   "source": [
    "df = pd.DataFrame(eb)[['subreddit', 'title', 'selftext']]\n",
    "df.head()"
   ]
  },
  {
   "cell_type": "code",
   "execution_count": null,
   "id": "47c40b5b",
   "metadata": {
    "scrolled": true
   },
   "outputs": [],
   "source": [
    "earliest = eb[0]\n",
    "earliest"
   ]
  },
  {
   "cell_type": "code",
   "execution_count": null,
   "id": "f4198d68",
   "metadata": {},
   "outputs": [],
   "source": [
    "for key,value in earliest.items():\n",
    "    if value == 'created_utc':\n",
    "         print(key)"
   ]
  },
  {
   "cell_type": "code",
   "execution_count": null,
   "id": "a638da5c",
   "metadata": {},
   "outputs": [],
   "source": [
    "eb[-1].get('created_utc')"
   ]
  },
  {
   "cell_type": "code",
   "execution_count": null,
   "id": "17b3b201",
   "metadata": {},
   "outputs": [],
   "source": [
    "eb"
   ]
  },
  {
   "cell_type": "code",
   "execution_count": null,
   "id": "f4180c01",
   "metadata": {},
   "outputs": [],
   "source": [
    "def get_df(data):\n",
    "    return pd.DataFrame(data)[['subreddit', 'title', 'selftext']]"
   ]
  },
  {
   "cell_type": "code",
   "execution_count": null,
   "id": "cc06e1f8",
   "metadata": {},
   "outputs": [],
   "source": [
    "df_eb = get_df(eb)\n",
    "type(df_eb)"
   ]
  },
  {
   "cell_type": "code",
   "execution_count": null,
   "id": "931dc1b5",
   "metadata": {},
   "outputs": [],
   "source": []
  }
 ],
 "metadata": {
  "kernelspec": {
   "display_name": "Python 3 (ipykernel)",
   "language": "python",
   "name": "python3"
  },
  "language_info": {
   "codemirror_mode": {
    "name": "ipython",
    "version": 3
   },
   "file_extension": ".py",
   "mimetype": "text/x-python",
   "name": "python",
   "nbconvert_exporter": "python",
   "pygments_lexer": "ipython3",
   "version": "3.9.7"
  }
 },
 "nbformat": 4,
 "nbformat_minor": 5
}

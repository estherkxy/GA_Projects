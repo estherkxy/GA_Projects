{
 "cells": [
  {
   "cell_type": "markdown",
   "id": "c14fe502",
   "metadata": {},
   "source": [
    "<img src=\"http://imgur.com/1ZcRyrc.png\" style=\"float: left; margin: 20px; height: 55px\">\n",
    "\n",
    "# Project 3: Web APIs & NLP"
   ]
  },
  {
   "cell_type": "markdown",
   "id": "b4e1a79d",
   "metadata": {},
   "source": [
    "### Notebook 1/3: Webscraping & exporting of datasets\n",
    "\n",
    "Notebook 1: Webscraping & exporting of datasets.<br>\n",
    "Notebook 2: Cleaning, Preprocessing and EDA.<br>\n",
    "Notebook 3: Model selection and fine tuning."
   ]
  },
  {
   "cell_type": "code",
   "execution_count": 2,
   "id": "3abd7038",
   "metadata": {},
   "outputs": [],
   "source": [
    "import pandas as pd\n",
    "import requests\n",
    "import json"
   ]
  },
  {
   "cell_type": "code",
   "execution_count": 4,
   "id": "e3409c2d",
   "metadata": {},
   "outputs": [],
   "source": [
    "# Function to get subreddit posts\n",
    "def get_post(subreddit, length):\n",
    "    base_url = \"https://api.pushshift.io/reddit/search/submission\"\n",
    "\n",
    "    req = requests.get(\n",
    "        base_url,\n",
    "        params = {\n",
    "            'subreddit': subreddit,\n",
    "            'size': 100,\n",
    "            'sort_type': 'created_utc',\n",
    "            'sort': 'desc'\n",
    "        })\n",
    "    data = req.json()['data']\n",
    "    \n",
    "    \n",
    "    print('before loop')\n",
    "    while len(data) < length:\n",
    "        \n",
    "        print(len(data))\n",
    "        last_timestamp = data[-1].get('created_utc') \n",
    "        print(last_timestamp)\n",
    "        req = requests.get(\n",
    "            base_url,\n",
    "            params = {\n",
    "                'subreddit': subreddit,\n",
    "                'size': 100,\n",
    "                'sort_type': 'created_utc',\n",
    "                'sort': 'desc',\n",
    "                'before': last_timestamp\n",
    "            })\n",
    "        new_data = req.json()['data']\n",
    "        \n",
    "       \n",
    "        data.extend(new_data)\n",
    "        \n",
    "        \n",
    "        if (len(data) >= length):\n",
    "            print(\"Break\")\n",
    "            break \n",
    "                 \n",
    "    \n",
    "    return data\n",
    "\n",
    "# Function to get dataframe for subreddit posts with all columns\n",
    "def get_df(data):\n",
    "    df = pd.DataFrame(data)\n",
    "    return df"
   ]
  },
  {
   "cell_type": "code",
   "execution_count": 5,
   "id": "8d09c9b7",
   "metadata": {},
   "outputs": [
    {
     "name": "stdout",
     "output_type": "stream",
     "text": [
      "before loop\n",
      "100\n",
      "1642015457\n",
      "199\n",
      "1641255033\n",
      "299\n",
      "1640673356\n",
      "399\n",
      "1640064302\n",
      "499\n",
      "1639439444\n",
      "599\n",
      "1639000608\n",
      "699\n",
      "1638499459\n",
      "799\n",
      "1638091260\n",
      "899\n",
      "1637721535\n",
      "999\n",
      "1637250453\n",
      "Break\n"
     ]
    },
    {
     "data": {
      "text/plain": [
       "1099"
      ]
     },
     "execution_count": 5,
     "metadata": {},
     "output_type": "execute_result"
    }
   ],
   "source": [
    "eb = get_post('earbuds', 1000)\n",
    "len(eb)"
   ]
  },
  {
   "cell_type": "code",
   "execution_count": 6,
   "id": "4db3257a",
   "metadata": {},
   "outputs": [
    {
     "name": "stdout",
     "output_type": "stream",
     "text": [
      "before loop\n",
      "100\n",
      "1642399141\n",
      "200\n",
      "1642326975\n",
      "300\n",
      "1642245050\n",
      "400\n",
      "1642163815\n",
      "499\n",
      "1642083964\n",
      "599\n",
      "1642006285\n",
      "699\n",
      "1641923931\n",
      "799\n",
      "1641843526\n",
      "899\n",
      "1641762333\n",
      "999\n",
      "1641687636\n",
      "Break\n"
     ]
    },
    {
     "data": {
      "text/plain": [
       "1099"
      ]
     },
     "execution_count": 6,
     "metadata": {},
     "output_type": "execute_result"
    }
   ],
   "source": [
    "hp = get_post('headphones', 1000)\n",
    "len(hp)"
   ]
  },
  {
   "cell_type": "code",
   "execution_count": 7,
   "id": "feccf2b0",
   "metadata": {},
   "outputs": [],
   "source": [
    "# Get dataframe of full earbuds subreddit data\n",
    "eb_df = get_df(eb)"
   ]
  },
  {
   "cell_type": "code",
   "execution_count": 8,
   "id": "dad550ff",
   "metadata": {},
   "outputs": [],
   "source": [
    "# Get dataframe of full headphones subreddit data\n",
    "hp_df = get_df(hp)"
   ]
  },
  {
   "cell_type": "code",
   "execution_count": 9,
   "id": "719dbd55",
   "metadata": {},
   "outputs": [],
   "source": [
    "# Save full earbuds data\n",
    "eb_df.to_csv('../datasets/earbuds_full.csv', index=False)\n",
    "# Save full headphones data\n",
    "hp_df.to_csv('../datasets/headphones_full.csv', index=False)"
   ]
  }
 ],
 "metadata": {
  "kernelspec": {
   "display_name": "Python 3 (ipykernel)",
   "language": "python",
   "name": "python3"
  },
  "language_info": {
   "codemirror_mode": {
    "name": "ipython",
    "version": 3
   },
   "file_extension": ".py",
   "mimetype": "text/x-python",
   "name": "python",
   "nbconvert_exporter": "python",
   "pygments_lexer": "ipython3",
   "version": "3.9.7"
  }
 },
 "nbformat": 4,
 "nbformat_minor": 5
}

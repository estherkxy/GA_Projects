{
  "nbformat": 4,
  "nbformat_minor": 0,
  "metadata": {
    "colab": {
      "name": "EDA.ipynb",
      "provenance": [],
      "collapsed_sections": [],
      "authorship_tag": "ABX9TyNZMePnXMlzGF354jiAekAo",
      "include_colab_link": true
    },
    "kernelspec": {
      "name": "python3",
      "display_name": "Python 3"
    },
    "language_info": {
      "name": "python"
    }
  },
  "cells": [
    {
      "cell_type": "markdown",
      "metadata": {
        "id": "view-in-github",
        "colab_type": "text"
      },
      "source": [
        "<a href=\"https://colab.research.google.com/github/estherkxy/GA_Projects/blob/main/Capstone/code/EDA.ipynb\" target=\"_parent\"><img src=\"https://colab.research.google.com/assets/colab-badge.svg\" alt=\"Open In Colab\"/></a>"
      ]
    },
    {
      "cell_type": "markdown",
      "source": [
        "# Capstone Project\n",
        "\n",
        "Notebook 1/6: Data cleaning & EDA"
      ],
      "metadata": {
        "id": "1Ew7r8SHibx7"
      }
    },
    {
      "cell_type": "markdown",
      "source": [
        "## Executive Summary\n",
        "\n",
        "In recent years, social media has exploded providing millions of people with the convenience and avenue to express their opinions and views from anywhere, anytime. [Twitter](https://en.wikipedia.org/wiki/Twitter) for example, is one social media platform in which users can post and interact with messages known as 'tweets'. Even though only registered users can post, like or retweet tweets, non-registered users are still able to access and read tweets that are set to be publicly available. \n",
        "\n",
        "With social media being steadily on the rise, the question then begs; how can we then leverage on this growth and make [social listening](https://business.twitter.com/en/blog/how-to-use-social-listening.html) a key part of our social media strategy. Be it either in terms of marketing or product monitoring or even customer satisfaction monitoring. Social listening is imperative to any social media strategy. Why? Because, whether you know it or not, conversations about your brand are already happening.\n",
        "\n",
        "\n",
        "\n",
        "On Twitter, tweets also include sentiments which refers to emotions, feelings, attitude or opinion. [Sentiment analysis](https://ijcset.net/docs/Volumes/volume7issue9/ijcset2017070901.pdf) is then study of emotions and opinions generated from the corresponding text. Basically, the idea is to analyze the tweets together with its corresponding sentiments and then use it to train a model which can be used to predict sentiments from new tweets. While tweets are generally shorter than blog posts/new articles which makes it a good for a starter project like this, tweets can also be tricky to deal with as it contains slang words, misspellings, emojis and repeated characters (eg. RT). \n",
        "\n",
        "For this project, we will look at tweets related to Apple (@Apple, #AAPL etc.) and present the results of machine learning and deep learning algorithms through the classification of the sentiment of tweets under supervision with the help of preprocessing steps needed in order to achieve high precision of predictions. "
      ],
      "metadata": {
        "id": "xMOo2Q3-ibn4"
      }
    },
    {
      "cell_type": "markdown",
      "source": [
        "## Data Description\n",
        "\n",
        "`tw`/`train_df`:\n",
        "\n",
        "The training dataset was obtained from [dataworld](https://data.world/crowdflower/apple-twitter-sentiment). This dataset takes a look into the sentiment around Apple, based on tweets containing #AAPL, @apple, etc. Contributors were given a tweet and asked whether the user was positive, negative, or neutral about Apple. \n",
        "\n",
        "`test_df`:\n",
        "The testing dataset was obtained from [kaggle](https://www.kaggle.com/kerneler/starter-apple-twitter-sentiment-texts-b9dd711b-8/data). \n",
        "\n",
        "### Data Dictionary\n",
        "\n",
        "\n",
        "|Feature|Type|Dataset|Description|\n",
        "|---|---|---|---|\n",
        "|sentiment|`bool`|train/test|Sentiment of tweet: 0 for Non-negative tweets; 1 for Negative tweets|\n",
        "|date|`obj`|train|Date & time of tweet|\n",
        "|text|`obj`|train/test|Tweet posted|\n"
      ],
      "metadata": {
        "id": "9l9ZXErjibeR"
      }
    },
    {
      "cell_type": "code",
      "execution_count": null,
      "metadata": {
        "colab": {
          "base_uri": "https://localhost:8080/"
        },
        "id": "Y_UjQwhhD48F",
        "outputId": "f99c4c2c-6056-4740-c8c1-e886bba7a0ec"
      },
      "outputs": [
        {
          "output_type": "stream",
          "name": "stdout",
          "text": [
            "Collecting transformers\n",
            "  Downloading transformers-4.16.2-py3-none-any.whl (3.5 MB)\n",
            "\u001b[K     |████████████████████████████████| 3.5 MB 5.2 MB/s \n",
            "\u001b[?25hRequirement already satisfied: packaging>=20.0 in /usr/local/lib/python3.7/dist-packages (from transformers) (21.3)\n",
            "Collecting sacremoses\n",
            "  Downloading sacremoses-0.0.47-py2.py3-none-any.whl (895 kB)\n",
            "\u001b[K     |████████████████████████████████| 895 kB 54.1 MB/s \n",
            "\u001b[?25hCollecting pyyaml>=5.1\n",
            "  Downloading PyYAML-6.0-cp37-cp37m-manylinux_2_5_x86_64.manylinux1_x86_64.manylinux_2_12_x86_64.manylinux2010_x86_64.whl (596 kB)\n",
            "\u001b[K     |████████████████████████████████| 596 kB 50.7 MB/s \n",
            "\u001b[?25hRequirement already satisfied: filelock in /usr/local/lib/python3.7/dist-packages (from transformers) (3.6.0)\n",
            "Requirement already satisfied: numpy>=1.17 in /usr/local/lib/python3.7/dist-packages (from transformers) (1.21.5)\n",
            "Collecting huggingface-hub<1.0,>=0.1.0\n",
            "  Downloading huggingface_hub-0.4.0-py3-none-any.whl (67 kB)\n",
            "\u001b[K     |████████████████████████████████| 67 kB 4.2 MB/s \n",
            "\u001b[?25hRequirement already satisfied: importlib-metadata in /usr/local/lib/python3.7/dist-packages (from transformers) (4.11.1)\n",
            "Requirement already satisfied: requests in /usr/local/lib/python3.7/dist-packages (from transformers) (2.23.0)\n",
            "Collecting tokenizers!=0.11.3,>=0.10.1\n",
            "  Downloading tokenizers-0.11.5-cp37-cp37m-manylinux_2_12_x86_64.manylinux2010_x86_64.whl (6.8 MB)\n",
            "\u001b[K     |████████████████████████████████| 6.8 MB 39.0 MB/s \n",
            "\u001b[?25hRequirement already satisfied: regex!=2019.12.17 in /usr/local/lib/python3.7/dist-packages (from transformers) (2019.12.20)\n",
            "Requirement already satisfied: tqdm>=4.27 in /usr/local/lib/python3.7/dist-packages (from transformers) (4.62.3)\n",
            "Requirement already satisfied: typing-extensions>=3.7.4.3 in /usr/local/lib/python3.7/dist-packages (from huggingface-hub<1.0,>=0.1.0->transformers) (3.10.0.2)\n",
            "Requirement already satisfied: pyparsing!=3.0.5,>=2.0.2 in /usr/local/lib/python3.7/dist-packages (from packaging>=20.0->transformers) (3.0.7)\n",
            "Requirement already satisfied: zipp>=0.5 in /usr/local/lib/python3.7/dist-packages (from importlib-metadata->transformers) (3.7.0)\n",
            "Requirement already satisfied: chardet<4,>=3.0.2 in /usr/local/lib/python3.7/dist-packages (from requests->transformers) (3.0.4)\n",
            "Requirement already satisfied: certifi>=2017.4.17 in /usr/local/lib/python3.7/dist-packages (from requests->transformers) (2021.10.8)\n",
            "Requirement already satisfied: urllib3!=1.25.0,!=1.25.1,<1.26,>=1.21.1 in /usr/local/lib/python3.7/dist-packages (from requests->transformers) (1.24.3)\n",
            "Requirement already satisfied: idna<3,>=2.5 in /usr/local/lib/python3.7/dist-packages (from requests->transformers) (2.10)\n",
            "Requirement already satisfied: joblib in /usr/local/lib/python3.7/dist-packages (from sacremoses->transformers) (1.1.0)\n",
            "Requirement already satisfied: click in /usr/local/lib/python3.7/dist-packages (from sacremoses->transformers) (7.1.2)\n",
            "Requirement already satisfied: six in /usr/local/lib/python3.7/dist-packages (from sacremoses->transformers) (1.15.0)\n",
            "Installing collected packages: pyyaml, tokenizers, sacremoses, huggingface-hub, transformers\n",
            "  Attempting uninstall: pyyaml\n",
            "    Found existing installation: PyYAML 3.13\n",
            "    Uninstalling PyYAML-3.13:\n",
            "      Successfully uninstalled PyYAML-3.13\n",
            "Successfully installed huggingface-hub-0.4.0 pyyaml-6.0 sacremoses-0.0.47 tokenizers-0.11.5 transformers-4.16.2\n",
            "Requirement already satisfied: tweet-preprocessor in /usr/local/lib/python3.7/dist-packages (0.6.0)\n"
          ]
        }
      ],
      "source": [
        "!pip install transformers\n",
        "!pip install tweet-preprocessor"
      ]
    },
    {
      "cell_type": "code",
      "source": [
        "# Importing libraries needed for data cleaning and EDA\n",
        "import pandas as pd\n",
        "import numpy as np\n",
        "import matplotlib.pyplot as plt\n",
        "import seaborn as sns\n",
        "import regex as re\n",
        "import collections\n",
        "import transformers\n",
        "import preprocessor as p\n",
        "import nltk\n",
        "\n",
        "nltk.download('stopwords')\n",
        "nltk.download('wordnet')\n",
        "from nltk.tokenize import RegexpTokenizer, word_tokenize\n",
        "from nltk.corpus import stopwords\n",
        "from nltk.stem import WordNetLemmatizer\n",
        "from nltk.stem.porter import PorterStemmer\n",
        "#from IPython.display import IFrame\n",
        "from collections import Counter\n",
        "from bs4 import BeautifulSoup\n",
        "from sklearn.feature_extraction.text import CountVectorizer, TfidfVectorizer\n",
        "\n",
        "\n",
        "\n",
        "import warnings\n",
        "warnings.filterwarnings(\"ignore\")"
      ],
      "metadata": {
        "colab": {
          "base_uri": "https://localhost:8080/"
        },
        "id": "ToIaV20zD-8a",
        "outputId": "0f6ba7ae-65c6-4a08-ca51-1405f92cedbb"
      },
      "execution_count": null,
      "outputs": [
        {
          "output_type": "stream",
          "name": "stdout",
          "text": [
            "[nltk_data] Downloading package stopwords to /root/nltk_data...\n",
            "[nltk_data]   Package stopwords is already up-to-date!\n",
            "[nltk_data] Downloading package wordnet to /root/nltk_data...\n",
            "[nltk_data]   Package wordnet is already up-to-date!\n"
          ]
        }
      ]
    },
    {
      "cell_type": "code",
      "source": [
        "from google.colab import drive\n",
        "drive.mount('/content/drive')"
      ],
      "metadata": {
        "colab": {
          "base_uri": "https://localhost:8080/"
        },
        "id": "6d7JGvLWEFqc",
        "outputId": "f8bd24a5-717c-466e-a1bd-04e1d16e4fdb"
      },
      "execution_count": null,
      "outputs": [
        {
          "output_type": "stream",
          "name": "stdout",
          "text": [
            "Mounted at /content/drive\n"
          ]
        }
      ]
    },
    {
      "cell_type": "code",
      "source": [
        "# Loading datasets\n",
        "tw = pd.read_csv('./drive/My Drive/GA/capstone/data/tweets_train.csv', \n",
        "                 encoding = 'latin-1')\n",
        "test_df = pd.read_csv('./drive/My Drive/GA/capstone/data/tweets_test.csv')"
      ],
      "metadata": {
        "id": "_kSQSki4EX6E"
      },
      "execution_count": null,
      "outputs": []
    },
    {
      "cell_type": "markdown",
      "source": [
        "# Data Cleaning & Preprocessing"
      ],
      "metadata": {
        "id": "RY3iN4idEyEg"
      }
    },
    {
      "cell_type": "code",
      "source": [
        "# Creating a dataframe for cleaning purposes while keeping the original dataset\n",
        "train_df = tw\n",
        "print(train_df.shape)\n",
        "train_df.head()"
      ],
      "metadata": {
        "colab": {
          "base_uri": "https://localhost:8080/",
          "height": 224
        },
        "id": "IIdVGJs6EvGx",
        "outputId": "b754d299-443c-4aa0-866c-af477c8e206f"
      },
      "execution_count": null,
      "outputs": [
        {
          "output_type": "stream",
          "name": "stdout",
          "text": [
            "(3804, 3)\n"
          ]
        },
        {
          "output_type": "execute_result",
          "data": {
            "text/html": [
              "\n",
              "  <div id=\"df-4e7095eb-f581-4bdb-bd47-2fe296a7d5db\">\n",
              "    <div class=\"colab-df-container\">\n",
              "      <div>\n",
              "<style scoped>\n",
              "    .dataframe tbody tr th:only-of-type {\n",
              "        vertical-align: middle;\n",
              "    }\n",
              "\n",
              "    .dataframe tbody tr th {\n",
              "        vertical-align: top;\n",
              "    }\n",
              "\n",
              "    .dataframe thead th {\n",
              "        text-align: right;\n",
              "    }\n",
              "</style>\n",
              "<table border=\"1\" class=\"dataframe\">\n",
              "  <thead>\n",
              "    <tr style=\"text-align: right;\">\n",
              "      <th></th>\n",
              "      <th>sentiment</th>\n",
              "      <th>date</th>\n",
              "      <th>text</th>\n",
              "    </tr>\n",
              "  </thead>\n",
              "  <tbody>\n",
              "    <tr>\n",
              "      <th>0</th>\n",
              "      <td>0</td>\n",
              "      <td>Mon Dec 01 19:30:03 +0000 2014</td>\n",
              "      <td>#AAPL:The 10 best Steve Jobs emails ever...htt...</td>\n",
              "    </tr>\n",
              "    <tr>\n",
              "      <th>1</th>\n",
              "      <td>0</td>\n",
              "      <td>Mon Dec 01 19:43:51 +0000 2014</td>\n",
              "      <td>RT @JPDesloges: Why AAPL Stock Had a Mini-Flas...</td>\n",
              "    </tr>\n",
              "    <tr>\n",
              "      <th>2</th>\n",
              "      <td>0</td>\n",
              "      <td>Mon Dec 01 19:50:28 +0000 2014</td>\n",
              "      <td>My cat only chews @apple cords. Such an #Apple...</td>\n",
              "    </tr>\n",
              "    <tr>\n",
              "      <th>3</th>\n",
              "      <td>0</td>\n",
              "      <td>Mon Dec 01 20:26:34 +0000 2014</td>\n",
              "      <td>I agree with @jimcramer that the #IndividualIn...</td>\n",
              "    </tr>\n",
              "    <tr>\n",
              "      <th>4</th>\n",
              "      <td>0</td>\n",
              "      <td>Mon Dec 01 20:29:33 +0000 2014</td>\n",
              "      <td>Nobody expects the Spanish Inquisition #AAPL</td>\n",
              "    </tr>\n",
              "  </tbody>\n",
              "</table>\n",
              "</div>\n",
              "      <button class=\"colab-df-convert\" onclick=\"convertToInteractive('df-4e7095eb-f581-4bdb-bd47-2fe296a7d5db')\"\n",
              "              title=\"Convert this dataframe to an interactive table.\"\n",
              "              style=\"display:none;\">\n",
              "        \n",
              "  <svg xmlns=\"http://www.w3.org/2000/svg\" height=\"24px\"viewBox=\"0 0 24 24\"\n",
              "       width=\"24px\">\n",
              "    <path d=\"M0 0h24v24H0V0z\" fill=\"none\"/>\n",
              "    <path d=\"M18.56 5.44l.94 2.06.94-2.06 2.06-.94-2.06-.94-.94-2.06-.94 2.06-2.06.94zm-11 1L8.5 8.5l.94-2.06 2.06-.94-2.06-.94L8.5 2.5l-.94 2.06-2.06.94zm10 10l.94 2.06.94-2.06 2.06-.94-2.06-.94-.94-2.06-.94 2.06-2.06.94z\"/><path d=\"M17.41 7.96l-1.37-1.37c-.4-.4-.92-.59-1.43-.59-.52 0-1.04.2-1.43.59L10.3 9.45l-7.72 7.72c-.78.78-.78 2.05 0 2.83L4 21.41c.39.39.9.59 1.41.59.51 0 1.02-.2 1.41-.59l7.78-7.78 2.81-2.81c.8-.78.8-2.07 0-2.86zM5.41 20L4 18.59l7.72-7.72 1.47 1.35L5.41 20z\"/>\n",
              "  </svg>\n",
              "      </button>\n",
              "      \n",
              "  <style>\n",
              "    .colab-df-container {\n",
              "      display:flex;\n",
              "      flex-wrap:wrap;\n",
              "      gap: 12px;\n",
              "    }\n",
              "\n",
              "    .colab-df-convert {\n",
              "      background-color: #E8F0FE;\n",
              "      border: none;\n",
              "      border-radius: 50%;\n",
              "      cursor: pointer;\n",
              "      display: none;\n",
              "      fill: #1967D2;\n",
              "      height: 32px;\n",
              "      padding: 0 0 0 0;\n",
              "      width: 32px;\n",
              "    }\n",
              "\n",
              "    .colab-df-convert:hover {\n",
              "      background-color: #E2EBFA;\n",
              "      box-shadow: 0px 1px 2px rgba(60, 64, 67, 0.3), 0px 1px 3px 1px rgba(60, 64, 67, 0.15);\n",
              "      fill: #174EA6;\n",
              "    }\n",
              "\n",
              "    [theme=dark] .colab-df-convert {\n",
              "      background-color: #3B4455;\n",
              "      fill: #D2E3FC;\n",
              "    }\n",
              "\n",
              "    [theme=dark] .colab-df-convert:hover {\n",
              "      background-color: #434B5C;\n",
              "      box-shadow: 0px 1px 3px 1px rgba(0, 0, 0, 0.15);\n",
              "      filter: drop-shadow(0px 1px 2px rgba(0, 0, 0, 0.3));\n",
              "      fill: #FFFFFF;\n",
              "    }\n",
              "  </style>\n",
              "\n",
              "      <script>\n",
              "        const buttonEl =\n",
              "          document.querySelector('#df-4e7095eb-f581-4bdb-bd47-2fe296a7d5db button.colab-df-convert');\n",
              "        buttonEl.style.display =\n",
              "          google.colab.kernel.accessAllowed ? 'block' : 'none';\n",
              "\n",
              "        async function convertToInteractive(key) {\n",
              "          const element = document.querySelector('#df-4e7095eb-f581-4bdb-bd47-2fe296a7d5db');\n",
              "          const dataTable =\n",
              "            await google.colab.kernel.invokeFunction('convertToInteractive',\n",
              "                                                     [key], {});\n",
              "          if (!dataTable) return;\n",
              "\n",
              "          const docLinkHtml = 'Like what you see? Visit the ' +\n",
              "            '<a target=\"_blank\" href=https://colab.research.google.com/notebooks/data_table.ipynb>data table notebook</a>'\n",
              "            + ' to learn more about interactive tables.';\n",
              "          element.innerHTML = '';\n",
              "          dataTable['output_type'] = 'display_data';\n",
              "          await google.colab.output.renderOutput(dataTable, element);\n",
              "          const docLink = document.createElement('div');\n",
              "          docLink.innerHTML = docLinkHtml;\n",
              "          element.appendChild(docLink);\n",
              "        }\n",
              "      </script>\n",
              "    </div>\n",
              "  </div>\n",
              "  "
            ],
            "text/plain": [
              "   sentiment  ...                                               text\n",
              "0          0  ...  #AAPL:The 10 best Steve Jobs emails ever...htt...\n",
              "1          0  ...  RT @JPDesloges: Why AAPL Stock Had a Mini-Flas...\n",
              "2          0  ...  My cat only chews @apple cords. Such an #Apple...\n",
              "3          0  ...  I agree with @jimcramer that the #IndividualIn...\n",
              "4          0  ...       Nobody expects the Spanish Inquisition #AAPL\n",
              "\n",
              "[5 rows x 3 columns]"
            ]
          },
          "metadata": {},
          "execution_count": 7
        }
      ]
    },
    {
      "cell_type": "code",
      "source": [
        "# Reclassifying the target sentiments to binary (0: non-negative, 1: negative)\n",
        "train_df['sentiment'].replace(1,0, inplace = True)\n",
        "train_df['sentiment'].replace(-1,1, inplace = True)\n",
        "train_df.head()"
      ],
      "metadata": {
        "colab": {
          "base_uri": "https://localhost:8080/",
          "height": 206
        },
        "id": "TpAeUv2BExQi",
        "outputId": "a3bcffba-41eb-4b50-d732-8e7928b132cd"
      },
      "execution_count": null,
      "outputs": [
        {
          "output_type": "execute_result",
          "data": {
            "text/html": [
              "\n",
              "  <div id=\"df-4f51f1a0-6ddd-49be-a270-ef0f9e33c2c3\">\n",
              "    <div class=\"colab-df-container\">\n",
              "      <div>\n",
              "<style scoped>\n",
              "    .dataframe tbody tr th:only-of-type {\n",
              "        vertical-align: middle;\n",
              "    }\n",
              "\n",
              "    .dataframe tbody tr th {\n",
              "        vertical-align: top;\n",
              "    }\n",
              "\n",
              "    .dataframe thead th {\n",
              "        text-align: right;\n",
              "    }\n",
              "</style>\n",
              "<table border=\"1\" class=\"dataframe\">\n",
              "  <thead>\n",
              "    <tr style=\"text-align: right;\">\n",
              "      <th></th>\n",
              "      <th>sentiment</th>\n",
              "      <th>date</th>\n",
              "      <th>text</th>\n",
              "    </tr>\n",
              "  </thead>\n",
              "  <tbody>\n",
              "    <tr>\n",
              "      <th>0</th>\n",
              "      <td>0</td>\n",
              "      <td>Mon Dec 01 19:30:03 +0000 2014</td>\n",
              "      <td>#AAPL:The 10 best Steve Jobs emails ever...htt...</td>\n",
              "    </tr>\n",
              "    <tr>\n",
              "      <th>1</th>\n",
              "      <td>0</td>\n",
              "      <td>Mon Dec 01 19:43:51 +0000 2014</td>\n",
              "      <td>RT @JPDesloges: Why AAPL Stock Had a Mini-Flas...</td>\n",
              "    </tr>\n",
              "    <tr>\n",
              "      <th>2</th>\n",
              "      <td>0</td>\n",
              "      <td>Mon Dec 01 19:50:28 +0000 2014</td>\n",
              "      <td>My cat only chews @apple cords. Such an #Apple...</td>\n",
              "    </tr>\n",
              "    <tr>\n",
              "      <th>3</th>\n",
              "      <td>0</td>\n",
              "      <td>Mon Dec 01 20:26:34 +0000 2014</td>\n",
              "      <td>I agree with @jimcramer that the #IndividualIn...</td>\n",
              "    </tr>\n",
              "    <tr>\n",
              "      <th>4</th>\n",
              "      <td>0</td>\n",
              "      <td>Mon Dec 01 20:29:33 +0000 2014</td>\n",
              "      <td>Nobody expects the Spanish Inquisition #AAPL</td>\n",
              "    </tr>\n",
              "  </tbody>\n",
              "</table>\n",
              "</div>\n",
              "      <button class=\"colab-df-convert\" onclick=\"convertToInteractive('df-4f51f1a0-6ddd-49be-a270-ef0f9e33c2c3')\"\n",
              "              title=\"Convert this dataframe to an interactive table.\"\n",
              "              style=\"display:none;\">\n",
              "        \n",
              "  <svg xmlns=\"http://www.w3.org/2000/svg\" height=\"24px\"viewBox=\"0 0 24 24\"\n",
              "       width=\"24px\">\n",
              "    <path d=\"M0 0h24v24H0V0z\" fill=\"none\"/>\n",
              "    <path d=\"M18.56 5.44l.94 2.06.94-2.06 2.06-.94-2.06-.94-.94-2.06-.94 2.06-2.06.94zm-11 1L8.5 8.5l.94-2.06 2.06-.94-2.06-.94L8.5 2.5l-.94 2.06-2.06.94zm10 10l.94 2.06.94-2.06 2.06-.94-2.06-.94-.94-2.06-.94 2.06-2.06.94z\"/><path d=\"M17.41 7.96l-1.37-1.37c-.4-.4-.92-.59-1.43-.59-.52 0-1.04.2-1.43.59L10.3 9.45l-7.72 7.72c-.78.78-.78 2.05 0 2.83L4 21.41c.39.39.9.59 1.41.59.51 0 1.02-.2 1.41-.59l7.78-7.78 2.81-2.81c.8-.78.8-2.07 0-2.86zM5.41 20L4 18.59l7.72-7.72 1.47 1.35L5.41 20z\"/>\n",
              "  </svg>\n",
              "      </button>\n",
              "      \n",
              "  <style>\n",
              "    .colab-df-container {\n",
              "      display:flex;\n",
              "      flex-wrap:wrap;\n",
              "      gap: 12px;\n",
              "    }\n",
              "\n",
              "    .colab-df-convert {\n",
              "      background-color: #E8F0FE;\n",
              "      border: none;\n",
              "      border-radius: 50%;\n",
              "      cursor: pointer;\n",
              "      display: none;\n",
              "      fill: #1967D2;\n",
              "      height: 32px;\n",
              "      padding: 0 0 0 0;\n",
              "      width: 32px;\n",
              "    }\n",
              "\n",
              "    .colab-df-convert:hover {\n",
              "      background-color: #E2EBFA;\n",
              "      box-shadow: 0px 1px 2px rgba(60, 64, 67, 0.3), 0px 1px 3px 1px rgba(60, 64, 67, 0.15);\n",
              "      fill: #174EA6;\n",
              "    }\n",
              "\n",
              "    [theme=dark] .colab-df-convert {\n",
              "      background-color: #3B4455;\n",
              "      fill: #D2E3FC;\n",
              "    }\n",
              "\n",
              "    [theme=dark] .colab-df-convert:hover {\n",
              "      background-color: #434B5C;\n",
              "      box-shadow: 0px 1px 3px 1px rgba(0, 0, 0, 0.15);\n",
              "      filter: drop-shadow(0px 1px 2px rgba(0, 0, 0, 0.3));\n",
              "      fill: #FFFFFF;\n",
              "    }\n",
              "  </style>\n",
              "\n",
              "      <script>\n",
              "        const buttonEl =\n",
              "          document.querySelector('#df-4f51f1a0-6ddd-49be-a270-ef0f9e33c2c3 button.colab-df-convert');\n",
              "        buttonEl.style.display =\n",
              "          google.colab.kernel.accessAllowed ? 'block' : 'none';\n",
              "\n",
              "        async function convertToInteractive(key) {\n",
              "          const element = document.querySelector('#df-4f51f1a0-6ddd-49be-a270-ef0f9e33c2c3');\n",
              "          const dataTable =\n",
              "            await google.colab.kernel.invokeFunction('convertToInteractive',\n",
              "                                                     [key], {});\n",
              "          if (!dataTable) return;\n",
              "\n",
              "          const docLinkHtml = 'Like what you see? Visit the ' +\n",
              "            '<a target=\"_blank\" href=https://colab.research.google.com/notebooks/data_table.ipynb>data table notebook</a>'\n",
              "            + ' to learn more about interactive tables.';\n",
              "          element.innerHTML = '';\n",
              "          dataTable['output_type'] = 'display_data';\n",
              "          await google.colab.output.renderOutput(dataTable, element);\n",
              "          const docLink = document.createElement('div');\n",
              "          docLink.innerHTML = docLinkHtml;\n",
              "          element.appendChild(docLink);\n",
              "        }\n",
              "      </script>\n",
              "    </div>\n",
              "  </div>\n",
              "  "
            ],
            "text/plain": [
              "   sentiment  ...                                               text\n",
              "0          0  ...  #AAPL:The 10 best Steve Jobs emails ever...htt...\n",
              "1          0  ...  RT @JPDesloges: Why AAPL Stock Had a Mini-Flas...\n",
              "2          0  ...  My cat only chews @apple cords. Such an #Apple...\n",
              "3          0  ...  I agree with @jimcramer that the #IndividualIn...\n",
              "4          0  ...       Nobody expects the Spanish Inquisition #AAPL\n",
              "\n",
              "[5 rows x 3 columns]"
            ]
          },
          "metadata": {},
          "execution_count": 8
        }
      ]
    },
    {
      "cell_type": "code",
      "source": [
        "# Dropping of duplicate tweets\n",
        "train_df.drop_duplicates(subset='text',keep='last',inplace=True)\n",
        "train_df.reset_index(drop=True,inplace=True)\n",
        "# To lowercase \n",
        "train_df = train_df.applymap(lambda s:s.lower() if type(s) == str else s)\n",
        "train_df.shape"
      ],
      "metadata": {
        "colab": {
          "base_uri": "https://localhost:8080/"
        },
        "id": "JNfTEo57E3Kb",
        "outputId": "052af8a3-f31d-4dbc-8e7d-9ce6da6876f4"
      },
      "execution_count": null,
      "outputs": [
        {
          "output_type": "execute_result",
          "data": {
            "text/plain": [
              "(3142, 3)"
            ]
          },
          "metadata": {},
          "execution_count": 9
        }
      ]
    },
    {
      "cell_type": "code",
      "source": [
        "# Report the number of sentences.\n",
        "print('Number of training sentences: {:,}\\n'.format(train_df.shape[0]))\n",
        "\n",
        "# Display 5 random rows from the data.\n",
        "train_df.sample(5, random_state=2)"
      ],
      "metadata": {
        "colab": {
          "base_uri": "https://localhost:8080/",
          "height": 241
        },
        "id": "qXkT0apNE50h",
        "outputId": "5b7fcc15-6465-430a-e52c-2018d23b6b7d"
      },
      "execution_count": null,
      "outputs": [
        {
          "output_type": "stream",
          "name": "stdout",
          "text": [
            "Number of training sentences: 3,142\n",
            "\n"
          ]
        },
        {
          "output_type": "execute_result",
          "data": {
            "text/html": [
              "\n",
              "  <div id=\"df-bc2f23e2-8703-40ca-bec7-5172976161b0\">\n",
              "    <div class=\"colab-df-container\">\n",
              "      <div>\n",
              "<style scoped>\n",
              "    .dataframe tbody tr th:only-of-type {\n",
              "        vertical-align: middle;\n",
              "    }\n",
              "\n",
              "    .dataframe tbody tr th {\n",
              "        vertical-align: top;\n",
              "    }\n",
              "\n",
              "    .dataframe thead th {\n",
              "        text-align: right;\n",
              "    }\n",
              "</style>\n",
              "<table border=\"1\" class=\"dataframe\">\n",
              "  <thead>\n",
              "    <tr style=\"text-align: right;\">\n",
              "      <th></th>\n",
              "      <th>sentiment</th>\n",
              "      <th>date</th>\n",
              "      <th>text</th>\n",
              "    </tr>\n",
              "  </thead>\n",
              "  <tbody>\n",
              "    <tr>\n",
              "      <th>1368</th>\n",
              "      <td>0</td>\n",
              "      <td>thu dec 04 21:50:31 +0000 2014</td>\n",
              "      <td>@onerepublic @apple   you haven't figured out ...</td>\n",
              "    </tr>\n",
              "    <tr>\n",
              "      <th>1247</th>\n",
              "      <td>0</td>\n",
              "      <td>thu dec 04 18:25:04 +0000 2014</td>\n",
              "      <td>#iphone6, 6 #plus trigger spike in #apple sale...</td>\n",
              "    </tr>\n",
              "    <tr>\n",
              "      <th>1866</th>\n",
              "      <td>0</td>\n",
              "      <td>sat dec 06 03:43:06 +0000 2014</td>\n",
              "      <td>@marxculture @appleuk_ @apple ugh, i'm no long...</td>\n",
              "    </tr>\n",
              "    <tr>\n",
              "      <th>2419</th>\n",
              "      <td>1</td>\n",
              "      <td>mon dec 08 12:33:43 +0000 2014</td>\n",
              "      <td>former apple inc. supply manager sentenced to ...</td>\n",
              "    </tr>\n",
              "    <tr>\n",
              "      <th>313</th>\n",
              "      <td>1</td>\n",
              "      <td>tue dec 02 17:28:23 +0000 2014</td>\n",
              "      <td>my phone keeps fucking freezing @apple</td>\n",
              "    </tr>\n",
              "  </tbody>\n",
              "</table>\n",
              "</div>\n",
              "      <button class=\"colab-df-convert\" onclick=\"convertToInteractive('df-bc2f23e2-8703-40ca-bec7-5172976161b0')\"\n",
              "              title=\"Convert this dataframe to an interactive table.\"\n",
              "              style=\"display:none;\">\n",
              "        \n",
              "  <svg xmlns=\"http://www.w3.org/2000/svg\" height=\"24px\"viewBox=\"0 0 24 24\"\n",
              "       width=\"24px\">\n",
              "    <path d=\"M0 0h24v24H0V0z\" fill=\"none\"/>\n",
              "    <path d=\"M18.56 5.44l.94 2.06.94-2.06 2.06-.94-2.06-.94-.94-2.06-.94 2.06-2.06.94zm-11 1L8.5 8.5l.94-2.06 2.06-.94-2.06-.94L8.5 2.5l-.94 2.06-2.06.94zm10 10l.94 2.06.94-2.06 2.06-.94-2.06-.94-.94-2.06-.94 2.06-2.06.94z\"/><path d=\"M17.41 7.96l-1.37-1.37c-.4-.4-.92-.59-1.43-.59-.52 0-1.04.2-1.43.59L10.3 9.45l-7.72 7.72c-.78.78-.78 2.05 0 2.83L4 21.41c.39.39.9.59 1.41.59.51 0 1.02-.2 1.41-.59l7.78-7.78 2.81-2.81c.8-.78.8-2.07 0-2.86zM5.41 20L4 18.59l7.72-7.72 1.47 1.35L5.41 20z\"/>\n",
              "  </svg>\n",
              "      </button>\n",
              "      \n",
              "  <style>\n",
              "    .colab-df-container {\n",
              "      display:flex;\n",
              "      flex-wrap:wrap;\n",
              "      gap: 12px;\n",
              "    }\n",
              "\n",
              "    .colab-df-convert {\n",
              "      background-color: #E8F0FE;\n",
              "      border: none;\n",
              "      border-radius: 50%;\n",
              "      cursor: pointer;\n",
              "      display: none;\n",
              "      fill: #1967D2;\n",
              "      height: 32px;\n",
              "      padding: 0 0 0 0;\n",
              "      width: 32px;\n",
              "    }\n",
              "\n",
              "    .colab-df-convert:hover {\n",
              "      background-color: #E2EBFA;\n",
              "      box-shadow: 0px 1px 2px rgba(60, 64, 67, 0.3), 0px 1px 3px 1px rgba(60, 64, 67, 0.15);\n",
              "      fill: #174EA6;\n",
              "    }\n",
              "\n",
              "    [theme=dark] .colab-df-convert {\n",
              "      background-color: #3B4455;\n",
              "      fill: #D2E3FC;\n",
              "    }\n",
              "\n",
              "    [theme=dark] .colab-df-convert:hover {\n",
              "      background-color: #434B5C;\n",
              "      box-shadow: 0px 1px 3px 1px rgba(0, 0, 0, 0.15);\n",
              "      filter: drop-shadow(0px 1px 2px rgba(0, 0, 0, 0.3));\n",
              "      fill: #FFFFFF;\n",
              "    }\n",
              "  </style>\n",
              "\n",
              "      <script>\n",
              "        const buttonEl =\n",
              "          document.querySelector('#df-bc2f23e2-8703-40ca-bec7-5172976161b0 button.colab-df-convert');\n",
              "        buttonEl.style.display =\n",
              "          google.colab.kernel.accessAllowed ? 'block' : 'none';\n",
              "\n",
              "        async function convertToInteractive(key) {\n",
              "          const element = document.querySelector('#df-bc2f23e2-8703-40ca-bec7-5172976161b0');\n",
              "          const dataTable =\n",
              "            await google.colab.kernel.invokeFunction('convertToInteractive',\n",
              "                                                     [key], {});\n",
              "          if (!dataTable) return;\n",
              "\n",
              "          const docLinkHtml = 'Like what you see? Visit the ' +\n",
              "            '<a target=\"_blank\" href=https://colab.research.google.com/notebooks/data_table.ipynb>data table notebook</a>'\n",
              "            + ' to learn more about interactive tables.';\n",
              "          element.innerHTML = '';\n",
              "          dataTable['output_type'] = 'display_data';\n",
              "          await google.colab.output.renderOutput(dataTable, element);\n",
              "          const docLink = document.createElement('div');\n",
              "          docLink.innerHTML = docLinkHtml;\n",
              "          element.appendChild(docLink);\n",
              "        }\n",
              "      </script>\n",
              "    </div>\n",
              "  </div>\n",
              "  "
            ],
            "text/plain": [
              "      sentiment  ...                                               text\n",
              "1368          0  ...  @onerepublic @apple   you haven't figured out ...\n",
              "1247          0  ...  #iphone6, 6 #plus trigger spike in #apple sale...\n",
              "1866          0  ...  @marxculture @appleuk_ @apple ugh, i'm no long...\n",
              "2419          1  ...  former apple inc. supply manager sentenced to ...\n",
              "313           1  ...             my phone keeps fucking freezing @apple\n",
              "\n",
              "[5 rows x 3 columns]"
            ]
          },
          "metadata": {},
          "execution_count": 10
        }
      ]
    },
    {
      "cell_type": "code",
      "source": [
        "# Cleaning the tweets of links, handles and solo numeric and nonalphanumeric \n",
        "import regex as re\n",
        "p.set_options(p.OPT.URL, p.OPT.RESERVED, p.OPT.EMOJI, p.OPT.SMILEY)\n",
        "train_df['text']=[p.clean(x) for x in train_df['text']]\n",
        "train_df['text']=[re.sub\n",
        "                  (r'(&amp;)|(&lt;)|(b&gt;)|([!?.@#_,:/]*[!?.@#_,:/])|([0-9])',\n",
        "                   \"\",x) for x in train_df['text']]\n",
        "test_df['text']=[p.clean(x) for x in test_df['text']]\n",
        "test_df['text']=[re.sub\n",
        "                 (r'(&amp;)|(&lt;)|(b&gt;)|([!?.@#_,:/]*[!?.@#_,:/])|([0-9])',\n",
        "                  \"\",x) for x in test_df['text']]\n"
      ],
      "metadata": {
        "id": "w1jMjZPmE7zb"
      },
      "execution_count": null,
      "outputs": []
    },
    {
      "cell_type": "code",
      "source": [
        "# Report the number of sentences.\n",
        "print('Number of training sentences: {:,}\\n'.format(train_df.shape[0]))\n",
        "\n",
        "# Display 5 random rows from the data.\n",
        "train_df.sample(5, random_state=2)"
      ],
      "metadata": {
        "colab": {
          "base_uri": "https://localhost:8080/",
          "height": 241
        },
        "id": "7tERZbe_E-k8",
        "outputId": "46cb3e84-8a38-4966-dd8e-3c02e5b09292"
      },
      "execution_count": null,
      "outputs": [
        {
          "output_type": "stream",
          "name": "stdout",
          "text": [
            "Number of training sentences: 3,142\n",
            "\n"
          ]
        },
        {
          "output_type": "execute_result",
          "data": {
            "text/html": [
              "\n",
              "  <div id=\"df-2309dde3-2a64-4605-a684-d5d113ee71e3\">\n",
              "    <div class=\"colab-df-container\">\n",
              "      <div>\n",
              "<style scoped>\n",
              "    .dataframe tbody tr th:only-of-type {\n",
              "        vertical-align: middle;\n",
              "    }\n",
              "\n",
              "    .dataframe tbody tr th {\n",
              "        vertical-align: top;\n",
              "    }\n",
              "\n",
              "    .dataframe thead th {\n",
              "        text-align: right;\n",
              "    }\n",
              "</style>\n",
              "<table border=\"1\" class=\"dataframe\">\n",
              "  <thead>\n",
              "    <tr style=\"text-align: right;\">\n",
              "      <th></th>\n",
              "      <th>sentiment</th>\n",
              "      <th>date</th>\n",
              "      <th>text</th>\n",
              "    </tr>\n",
              "  </thead>\n",
              "  <tbody>\n",
              "    <tr>\n",
              "      <th>1368</th>\n",
              "      <td>0</td>\n",
              "      <td>thu dec 04 21:50:31 +0000 2014</td>\n",
              "      <td>onerepublic apple you haven't figured out that...</td>\n",
              "    </tr>\n",
              "    <tr>\n",
              "      <th>1247</th>\n",
              "      <td>0</td>\n",
              "      <td>thu dec 04 18:25:04 +0000 2014</td>\n",
              "      <td>iphone  plus trigger spike in apple sales worl...</td>\n",
              "    </tr>\n",
              "    <tr>\n",
              "      <th>1866</th>\n",
              "      <td>0</td>\n",
              "      <td>sat dec 06 03:43:06 +0000 2014</td>\n",
              "      <td>marxculture appleuk apple ugh i'm no longer a ...</td>\n",
              "    </tr>\n",
              "    <tr>\n",
              "      <th>2419</th>\n",
              "      <td>1</td>\n",
              "      <td>mon dec 08 12:33:43 +0000 2014</td>\n",
              "      <td>former apple inc supply manager sentenced to p...</td>\n",
              "    </tr>\n",
              "    <tr>\n",
              "      <th>313</th>\n",
              "      <td>1</td>\n",
              "      <td>tue dec 02 17:28:23 +0000 2014</td>\n",
              "      <td>my phone keeps fucking freezing apple</td>\n",
              "    </tr>\n",
              "  </tbody>\n",
              "</table>\n",
              "</div>\n",
              "      <button class=\"colab-df-convert\" onclick=\"convertToInteractive('df-2309dde3-2a64-4605-a684-d5d113ee71e3')\"\n",
              "              title=\"Convert this dataframe to an interactive table.\"\n",
              "              style=\"display:none;\">\n",
              "        \n",
              "  <svg xmlns=\"http://www.w3.org/2000/svg\" height=\"24px\"viewBox=\"0 0 24 24\"\n",
              "       width=\"24px\">\n",
              "    <path d=\"M0 0h24v24H0V0z\" fill=\"none\"/>\n",
              "    <path d=\"M18.56 5.44l.94 2.06.94-2.06 2.06-.94-2.06-.94-.94-2.06-.94 2.06-2.06.94zm-11 1L8.5 8.5l.94-2.06 2.06-.94-2.06-.94L8.5 2.5l-.94 2.06-2.06.94zm10 10l.94 2.06.94-2.06 2.06-.94-2.06-.94-.94-2.06-.94 2.06-2.06.94z\"/><path d=\"M17.41 7.96l-1.37-1.37c-.4-.4-.92-.59-1.43-.59-.52 0-1.04.2-1.43.59L10.3 9.45l-7.72 7.72c-.78.78-.78 2.05 0 2.83L4 21.41c.39.39.9.59 1.41.59.51 0 1.02-.2 1.41-.59l7.78-7.78 2.81-2.81c.8-.78.8-2.07 0-2.86zM5.41 20L4 18.59l7.72-7.72 1.47 1.35L5.41 20z\"/>\n",
              "  </svg>\n",
              "      </button>\n",
              "      \n",
              "  <style>\n",
              "    .colab-df-container {\n",
              "      display:flex;\n",
              "      flex-wrap:wrap;\n",
              "      gap: 12px;\n",
              "    }\n",
              "\n",
              "    .colab-df-convert {\n",
              "      background-color: #E8F0FE;\n",
              "      border: none;\n",
              "      border-radius: 50%;\n",
              "      cursor: pointer;\n",
              "      display: none;\n",
              "      fill: #1967D2;\n",
              "      height: 32px;\n",
              "      padding: 0 0 0 0;\n",
              "      width: 32px;\n",
              "    }\n",
              "\n",
              "    .colab-df-convert:hover {\n",
              "      background-color: #E2EBFA;\n",
              "      box-shadow: 0px 1px 2px rgba(60, 64, 67, 0.3), 0px 1px 3px 1px rgba(60, 64, 67, 0.15);\n",
              "      fill: #174EA6;\n",
              "    }\n",
              "\n",
              "    [theme=dark] .colab-df-convert {\n",
              "      background-color: #3B4455;\n",
              "      fill: #D2E3FC;\n",
              "    }\n",
              "\n",
              "    [theme=dark] .colab-df-convert:hover {\n",
              "      background-color: #434B5C;\n",
              "      box-shadow: 0px 1px 3px 1px rgba(0, 0, 0, 0.15);\n",
              "      filter: drop-shadow(0px 1px 2px rgba(0, 0, 0, 0.3));\n",
              "      fill: #FFFFFF;\n",
              "    }\n",
              "  </style>\n",
              "\n",
              "      <script>\n",
              "        const buttonEl =\n",
              "          document.querySelector('#df-2309dde3-2a64-4605-a684-d5d113ee71e3 button.colab-df-convert');\n",
              "        buttonEl.style.display =\n",
              "          google.colab.kernel.accessAllowed ? 'block' : 'none';\n",
              "\n",
              "        async function convertToInteractive(key) {\n",
              "          const element = document.querySelector('#df-2309dde3-2a64-4605-a684-d5d113ee71e3');\n",
              "          const dataTable =\n",
              "            await google.colab.kernel.invokeFunction('convertToInteractive',\n",
              "                                                     [key], {});\n",
              "          if (!dataTable) return;\n",
              "\n",
              "          const docLinkHtml = 'Like what you see? Visit the ' +\n",
              "            '<a target=\"_blank\" href=https://colab.research.google.com/notebooks/data_table.ipynb>data table notebook</a>'\n",
              "            + ' to learn more about interactive tables.';\n",
              "          element.innerHTML = '';\n",
              "          dataTable['output_type'] = 'display_data';\n",
              "          await google.colab.output.renderOutput(dataTable, element);\n",
              "          const docLink = document.createElement('div');\n",
              "          docLink.innerHTML = docLinkHtml;\n",
              "          element.appendChild(docLink);\n",
              "        }\n",
              "      </script>\n",
              "    </div>\n",
              "  </div>\n",
              "  "
            ],
            "text/plain": [
              "      sentiment  ...                                               text\n",
              "1368          0  ...  onerepublic apple you haven't figured out that...\n",
              "1247          0  ...  iphone  plus trigger spike in apple sales worl...\n",
              "1866          0  ...  marxculture appleuk apple ugh i'm no longer a ...\n",
              "2419          1  ...  former apple inc supply manager sentenced to p...\n",
              "313           1  ...              my phone keeps fucking freezing apple\n",
              "\n",
              "[5 rows x 3 columns]"
            ]
          },
          "metadata": {},
          "execution_count": 12
        }
      ]
    },
    {
      "cell_type": "code",
      "source": [
        "# Exporting cleaned dataset\n",
        "train_df.to_csv('./drive/My Drive/GA/capstone/data/train_tweets_clean.csv')"
      ],
      "metadata": {
        "id": "-7OMJ_deFA1D"
      },
      "execution_count": null,
      "outputs": []
    },
    {
      "cell_type": "markdown",
      "source": [
        "# EDA\n",
        "\n",
        "Looking at the distribution of tweets in the training dataset"
      ],
      "metadata": {
        "id": "hAJT5X7hFQfV"
      }
    },
    {
      "cell_type": "markdown",
      "source": [
        "#### Analyzing sentiment distribution"
      ],
      "metadata": {
        "id": "RXjww10ZF6Bw"
      }
    },
    {
      "cell_type": "code",
      "source": [
        "# Plotting sentiment distribution\n",
        "fig = plt.figure(figsize=(12,6))\n",
        "ncount = len(train_df)\n",
        "#ax = ax.ravel()\n",
        "g1 = sns.countplot(data=train_df, x=train_df['sentiment'], palette='Blues')\n",
        "g1.set_xticklabels(['Non-Negative', 'Negative'])\n",
        "g1.set_title('@Apple tweets', fontsize=16)\n",
        "g1.set_xlabel('')\n",
        "plt.suptitle('Tweet Sentiment Distribution', fontsize=20, x=0.5, y=1.05)\n",
        "for p in g1.patches:\n",
        "    g1.annotate('{:.0f}'.format(p.get_height()), \n",
        "                (p.get_x()+0.35, p.get_height()+1.5))\n",
        "plt.tight_layout()"
      ],
      "metadata": {
        "colab": {
          "base_uri": "https://localhost:8080/",
          "height": 474
        },
        "id": "suY7SDcwFM9J",
        "outputId": "fcc5d6e6-4ea6-4465-f5d2-3d2c52ceeda2"
      },
      "execution_count": null,
      "outputs": [
        {
          "output_type": "display_data",
          "data": {
            "image/png": "[encoded data removed]",
            "text/plain": [
              "<Figure size 864x432 with 1 Axes>"
            ]
          },
          "metadata": {
            "needs_background": "light"
          }
        }
      ]
    },
    {
      "cell_type": "markdown",
      "source": [
        "#### Analyzing tweet length"
      ],
      "metadata": {
        "id": "em4BbBjcFhdb"
      }
    },
    {
      "cell_type": "code",
      "source": [
        "# Plotting the distribution of tweet lengths\n",
        "fig, ax = plt.subplots(1, 3, figsize=(18,6), sharey=False)\n",
        "ax = ax.ravel()\n",
        "\n",
        "neg_df = train_df[train_df['sentiment'] == 1]\n",
        "nonneg_df = train_df[train_df['sentiment'] == 0]\n",
        "    \n",
        "# Plot negative tweets df   \n",
        "g1 = sns.histplot(data=neg_df, x=neg_df['text'].str.len(), ax = ax[0], \n",
        "                  bins=25, color='darkred')\n",
        "mean_1 = neg_df['text'].str.len().mean()\n",
        "ax[0].axvline(mean_1, ls='--', color='black')\n",
        "g1.set_title(f'Negative Tweets (Mean: {round(mean_1)} characters)')\n",
        "g1.set_xlabel(f'Length of Tweet')\n",
        "    \n",
        "# # Plot neutral tweets df\n",
        "# g2 = sns.histplot(data=neu_df, x=neu_df['text'].str.len(), ax = ax[1], bins=25, color='darkorange')\n",
        "# mean_2 = neu_df['text'].str.len().mean()\n",
        "# ax[1].axvline(mean_2, ls='--', color='black')\n",
        "# g2.set_title(f'Neutral Tweets (Mean: {round(mean_2)} characters)')\n",
        "# g2.set_xlabel(f'Length of Tweet')\n",
        "# plt.suptitle('Average Tweet Length', fontsize=20)\n",
        "# plt.tight_layout()\n",
        "\n",
        "# Plot non negative tweets df\n",
        "g3 = sns.histplot(data=nonneg_df, x=nonneg_df['text'].str.len(), ax = ax[1], \n",
        "                  bins=25, color='darkgreen')\n",
        "mean_3 = nonneg_df['text'].str.len().mean()\n",
        "ax[1].axvline(mean_3, ls='--', color='black')\n",
        "g3.set_title(f'Non Negative Tweets (Mean: {round(mean_3)} characters)')\n",
        "g3.set_xlabel(f'Length of Tweet')\n",
        "plt.suptitle('Average Tweet Length', fontsize=20)\n",
        "plt.tight_layout()\n",
        "\n",
        "# Plot overall tweets df\n",
        "g4 = sns.histplot(data=train_df, x=train_df['text'].str.len(), ax = ax[2], \n",
        "                  bins=25)\n",
        "mean_4 = train_df['text'].str.len().mean()\n",
        "ax[2].axvline(mean_4, ls='--', color='black')\n",
        "g4.set_title(f'All Tweets (Mean: {round(mean_4)} characters)')\n",
        "g4.set_xlabel(f'Length of Tweet')\n",
        "\n",
        "plt.suptitle('Tweet Length Distribution', fontsize=20, x=0.5, y=1.05)\n",
        "plt.tight_layout()"
      ],
      "metadata": {
        "colab": {
          "base_uri": "https://localhost:8080/",
          "height": 428
        },
        "id": "MTTxNageFdVL",
        "outputId": "0c8cd29f-3661-4aaa-996a-997b894aa2c7"
      },
      "execution_count": null,
      "outputs": [
        {
          "output_type": "display_data",
          "data": {
            "image/png": "[encoded data removed]",
            "text/plain": [
              "<Figure size 1296x432 with 3 Axes>"
            ]
          },
          "metadata": {
            "needs_background": "light"
          }
        }
      ]
    },
    {
      "cell_type": "markdown",
      "source": [
        "It is interesting to note that negative tweets are on average longer than non-negative tweets.\n",
        "\n",
        "Also interesting to note that non-negative tweets have a mode of around 70 characters and while it is below mean, the non-negative tweets have a more normal looking distribution. This is in contrast with the distribution of the negative tweets where the distribution looks to be bimodal (75 and 130), with some skewness to the left.  "
      ],
      "metadata": {
        "id": "HfCPo1IlI2T5"
      }
    },
    {
      "cell_type": "code",
      "source": [
        "# Function to see how many words are in the body.\n",
        "def word_count(series):\n",
        "    list_tokens = [w.lower() for w in series]\n",
        "    string_tokens = str(list_tokens)\n",
        "    tokens = BeautifulSoup(string_tokens).get_text()\n",
        "    return tokens"
      ],
      "metadata": {
        "id": "mhpj3Vo5Fgo8"
      },
      "execution_count": null,
      "outputs": []
    },
    {
      "cell_type": "code",
      "source": [
        "len(word_count(train_df['text']).split())"
      ],
      "metadata": {
        "colab": {
          "base_uri": "https://localhost:8080/"
        },
        "id": "DKwPNt_XI9MB",
        "outputId": "2d0538a1-6f9d-40d8-dc17-186a8f730903"
      },
      "execution_count": null,
      "outputs": [
        {
          "output_type": "execute_result",
          "data": {
            "text/plain": [
              "42991"
            ]
          },
          "metadata": {},
          "execution_count": 29
        }
      ]
    },
    {
      "cell_type": "code",
      "source": [
        "stop_words = stopwords.words('english')\n",
        "extra_words = ['get', 'a', 'it', 'why', 'wont', 'u', 'ee', 'apple', 'aapl', \n",
        "               'via', 'inc', 'make', 'rt']\n",
        "stop_words.extend(extra_words)\n",
        "lemmatizer = WordNetLemmatizer()\n",
        "stemmer = PorterStemmer()\n",
        "def status_words(status):\n",
        "    '''takes a series and cleans the text data '''\n",
        "    \n",
        "    review_text = BeautifulSoup(status).get_text()\n",
        "    # Removed HTML\n",
        "    \n",
        "    words = review_text.lower().split()\n",
        "    # Tokenize without official tokenizer\n",
        "    \n",
        "    stops = set(stop_words)\n",
        "    # Remove Stopwords\n",
        "    \n",
        "    meaningful_words = [lemmatizer.lemmatize(w) for w in words if w not in stops]\n",
        "   # meaningful_words = [stemmer.stem(w) for w in words if w not in stops]\n",
        "            # tried both the stemmer and the lemmatizer\n",
        "    return(' '.join(meaningful_words))"
      ],
      "metadata": {
        "id": "1zYMuOX7I_E6"
      },
      "execution_count": null,
      "outputs": []
    },
    {
      "cell_type": "code",
      "source": [
        "train_df['text'] = train_df['text'].map(status_words)"
      ],
      "metadata": {
        "id": "V_oa0-njJBFt"
      },
      "execution_count": null,
      "outputs": []
    },
    {
      "cell_type": "code",
      "source": [
        "# Example to show the difference after processing the data\n",
        "print(tw['text'][0])\n",
        "print()\n",
        "print(train_df['text'][0])"
      ],
      "metadata": {
        "colab": {
          "base_uri": "https://localhost:8080/"
        },
        "id": "N-scJMgQJC9D",
        "outputId": "af26297b-224d-41c2-a85a-259c098d385f"
      },
      "execution_count": null,
      "outputs": [
        {
          "output_type": "stream",
          "name": "stdout",
          "text": [
            "#AAPL:The 10 best Steve Jobs emails ever...http://t.co/82G1kL94tx\n",
            "\n",
            "aaplthe best steve job email ever\n"
          ]
        }
      ]
    },
    {
      "cell_type": "markdown",
      "source": [
        "A function was created to get the top n-grams from the two topics. `CountVectorizer` was used here. "
      ],
      "metadata": {
        "id": "uO-ErEygJHQF"
      }
    },
    {
      "cell_type": "code",
      "source": [
        "# Create function to get top tokens\n",
        "def plot_top_words(df, col, n, n_gram_range, title, palette='tab10'):\n",
        "    def get_top_n_words(corpus, n=n, k=n_gram_range):     \n",
        "        vec = CountVectorizer(ngram_range=(k,k), \n",
        "                              stop_words = stop_words).fit(corpus)     \n",
        "        bag_of_words = vec.transform(corpus)     \n",
        "        sum_words = bag_of_words.sum(axis=0)      \n",
        "        words_freq = [(word, sum_words[0, idx]) for word, \n",
        "                      idx in vec.vocabulary_.items()]    \n",
        "        words_freq =sorted(words_freq, key = lambda x: x[1], reverse=True) \n",
        "        return words_freq[:n]\n",
        "    temp_df = pd.DataFrame(data=get_top_n_words(df[col], n), \n",
        "                           columns=['word','freq'])\n",
        "    plt.figure(figsize=(10,6))\n",
        "    sns.barplot(data=temp_df, y='word', x='freq', palette=palette)\n",
        "    plt.ylabel('')\n",
        "    plt.xlabel('')\n",
        "    plt.title(title, fontsize=18)"
      ],
      "metadata": {
        "id": "ckceBjlJJE1O"
      },
      "execution_count": null,
      "outputs": []
    },
    {
      "cell_type": "markdown",
      "source": [
        "### Top words"
      ],
      "metadata": {
        "id": "RO6-D5fXJMQy"
      }
    },
    {
      "cell_type": "code",
      "source": [
        "plot_top_words(train_df,'text', 10, 1, 'Apple Tweets Top 10 Words', 'Reds_r')"
      ],
      "metadata": {
        "colab": {
          "base_uri": "https://localhost:8080/",
          "height": 394
        },
        "id": "fv71ULFGJJuh",
        "outputId": "0b2be698-a0c1-4598-e99e-eafba8c5ea23"
      },
      "execution_count": null,
      "outputs": [
        {
          "output_type": "display_data",
          "data": {
            "image/png": "[encoded data removed]",
            "text/plain": [
              "<Figure size 720x432 with 1 Axes>"
            ]
          },
          "metadata": {
            "needs_background": "light"
          }
        }
      ]
    },
    {
      "cell_type": "markdown",
      "source": [
        "### Top Bigrams"
      ],
      "metadata": {
        "id": "wW4qjf5TJh-M"
      }
    },
    {
      "cell_type": "code",
      "source": [
        "plot_top_words(train_df,'text', 10, 2, 'Apple Tweets Top 10 Bigrams', \n",
        "               palette='Greens_r')\n"
      ],
      "metadata": {
        "colab": {
          "base_uri": "https://localhost:8080/",
          "height": 394
        },
        "id": "V7tLvXeSJSMS",
        "outputId": "c8c12dd0-ae03-4aef-faef-ec952303c991"
      },
      "execution_count": null,
      "outputs": [
        {
          "output_type": "display_data",
          "data": {
            "image/png": "[encoded data removed]",
            "text/plain": [
              "<Figure size 720x432 with 1 Axes>"
            ]
          },
          "metadata": {
            "needs_background": "light"
          }
        }
      ]
    },
    {
      "cell_type": "markdown",
      "source": [
        "### Top Trigrams"
      ],
      "metadata": {
        "id": "I4VfNPurJoQe"
      }
    },
    {
      "cell_type": "code",
      "source": [
        "plot_top_words(train_df, 'text', 10, 3, 'Apple Tweets Top Trigrams', 'Blues_r')"
      ],
      "metadata": {
        "colab": {
          "base_uri": "https://localhost:8080/",
          "height": 394
        },
        "id": "T7GzAZWXJlDQ",
        "outputId": "5c6a3bc9-8b7e-4b9f-9817-c21a2fb887da"
      },
      "execution_count": null,
      "outputs": [
        {
          "output_type": "display_data",
          "data": {
            "image/png": "[encoded data removed]",
            "text/plain": [
              "<Figure size 720x432 with 1 Axes>"
            ]
          },
          "metadata": {
            "needs_background": "light"
          }
        }
      ]
    },
    {
      "cell_type": "markdown",
      "source": [
        "The analysis of n-grams for the tweets have some interesting points to note. For example, when looking at single words, the top words tend to lean towards being product ('phone', 'ipod', 'stock') related. However, when looking at the top bigrams and trigrams, these lean towards being more stock/trading ('fibonacci technical', 'intraday update') related.\n",
        "\n",
        "Note: \n",
        "- Intraday is often used to refer to the new highs and lows of any particular security. \n",
        "- Fibonacci analysis is the study of identifying potential support and resistance levels in the future based on past price trends and reversals. "
      ],
      "metadata": {
        "id": "Ncqt9yq2kTwd"
      }
    },
    {
      "cell_type": "code",
      "source": [
        ""
      ],
      "metadata": {
        "id": "7TL0dG4OJn3m"
      },
      "execution_count": null,
      "outputs": []
    }
  ]
}
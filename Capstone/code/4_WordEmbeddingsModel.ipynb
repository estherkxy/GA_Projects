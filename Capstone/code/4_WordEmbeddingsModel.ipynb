{
  "nbformat": 4,
  "nbformat_minor": 0,
  "metadata": {
    "colab": {
      "name": "4_WordEmbeddingsModel.ipynb",
      "provenance": [],
      "toc_visible": true,
      "collapsed_sections": [],
      "authorship_tag": "ABX9TyMS0arysOmEs/wUyNyBKIB2",
      "include_colab_link": true
    },
    "kernelspec": {
      "name": "python3",
      "display_name": "Python 3"
    },
    "language_info": {
      "name": "python"
    }
  },
  "cells": [
    {
      "cell_type": "markdown",
      "metadata": {
        "id": "view-in-github",
        "colab_type": "text"
      },
      "source": [
        "<a href=\"https://colab.research.google.com/github/estherkxy/GA_Projects/blob/main/Capstone/code/4_WordEmbeddingsModel.ipynb\" target=\"_parent\"><img src=\"https://colab.research.google.com/assets/colab-badge.svg\" alt=\"Open In Colab\"/></a>"
      ]
    },
    {
      "cell_type": "code",
      "execution_count": 1,
      "metadata": {
        "colab": {
          "base_uri": "https://localhost:8080/"
        },
        "id": "wpr-C3M7DpLC",
        "outputId": "cf483b01-3167-42d1-b70b-e22747cf8303"
      },
      "outputs": [
        {
          "output_type": "stream",
          "name": "stdout",
          "text": [
            "Collecting tweet-preprocessor\n",
            "  Downloading tweet_preprocessor-0.6.0-py3-none-any.whl (27 kB)\n",
            "Installing collected packages: tweet-preprocessor\n",
            "Successfully installed tweet-preprocessor-0.6.0\n"
          ]
        }
      ],
      "source": [
        "#!pip install transformers\n",
        "!pip install tweet-preprocessor"
      ]
    },
    {
      "cell_type": "code",
      "source": [
        "import tensorflow as tf\n",
        "\n",
        "from sklearn import metrics\n",
        "from sklearn.model_selection import KFold\n",
        "from tensorflow.keras.preprocessing.text import Tokenizer\n",
        "from tensorflow.keras.preprocessing.sequence import pad_sequences\n",
        "from keras.models import Sequential\n",
        "from keras.layers import Dense, Embedding, LSTM, GRU\n",
        "from keras.layers.embeddings import Embedding\n",
        "\n",
        "import preprocessor as p\n",
        "import numpy as np\n",
        "import pandas as pd\n",
        "import time\n",
        "import datetime\n",
        "import random\n",
        "import io\n",
        "import seaborn as sns\n",
        "import matplotlib.pyplot as plt\n",
        "% matplotlib inline\n",
        "\n",
        "print('Tensorflow version: ', tf.__version__)"
      ],
      "metadata": {
        "colab": {
          "base_uri": "https://localhost:8080/"
        },
        "id": "EL_u9ziNDvxA",
        "outputId": "261afa7b-2d5b-48de-f16e-d7b8fe7ba0f8"
      },
      "execution_count": 2,
      "outputs": [
        {
          "output_type": "stream",
          "name": "stdout",
          "text": [
            "Tensorflow version:  2.8.0\n"
          ]
        }
      ]
    },
    {
      "cell_type": "code",
      "source": [
        "from google.colab import drive\n",
        "drive.mount('/content/drive')"
      ],
      "metadata": {
        "colab": {
          "base_uri": "https://localhost:8080/"
        },
        "id": "dUugw09NDzxc",
        "outputId": "7d227178-1829-4dd8-c28a-2dff550a306f"
      },
      "execution_count": 3,
      "outputs": [
        {
          "output_type": "stream",
          "name": "stdout",
          "text": [
            "Mounted at /content/drive\n"
          ]
        }
      ]
    },
    {
      "cell_type": "code",
      "source": [
        "# Loading datasets\n",
        "tw = pd.read_csv('./drive/My Drive/GA/capstone/data/tweets_train.csv', encoding = 'latin-1')\n",
        "train_df = pd.read_csv('./drive/My Drive/GA/capstone/data/train_tweets_clean.csv')"
      ],
      "metadata": {
        "id": "GSG0fzSdD19r"
      },
      "execution_count": 4,
      "outputs": []
    },
    {
      "cell_type": "markdown",
      "source": [
        "# Train-Validation Split"
      ],
      "metadata": {
        "id": "YhGkpvs6Mhki"
      }
    },
    {
      "cell_type": "code",
      "source": [
        "# Doing a 80-20 split\n",
        "X_train = train_df.loc[:2514, 'text'].values\n",
        "y_train = train_df.loc[:2514, 'sentiment'].values\n",
        "X_val = train_df.loc[2514:, 'text'].values\n",
        "y_val = train_df.loc[2514:, 'sentiment'].values"
      ],
      "metadata": {
        "id": "ImBHPVdaMhQo"
      },
      "execution_count": 5,
      "outputs": []
    },
    {
      "cell_type": "markdown",
      "source": [
        "# Tokenizing & Padding"
      ],
      "metadata": {
        "id": "eEVkrmWmMHT2"
      }
    },
    {
      "cell_type": "code",
      "source": [
        "tokenizer_obj = Tokenizer()\n",
        "total_tweets = train_df['text'].values\n",
        "tokenizer_obj.fit_on_texts(total_tweets)\n",
        "\n",
        "# pad sequences\n",
        "max_length = max([len(s.split()) for s in total_tweets])\n",
        "\n",
        "# define vocab size \n",
        "vocab_size = len(tokenizer_obj.word_index) + 1\n",
        "\n",
        "X_train_tokens = tokenizer_obj.texts_to_sequences(X_train)\n",
        "X_val_tokens = tokenizer_obj.texts_to_sequences(X_val)\n",
        "\n",
        "X_train_pad = pad_sequences(X_train_tokens, maxlen=max_length, padding='post')\n",
        "X_val_pad = pad_sequences(X_val_tokens, maxlen=max_length, padding='post')"
      ],
      "metadata": {
        "id": "ikTN5UkREO1M"
      },
      "execution_count": 6,
      "outputs": []
    },
    {
      "cell_type": "markdown",
      "source": [
        "# Building the model (GRU)"
      ],
      "metadata": {
        "id": "rXu_pD5tVpIl"
      }
    },
    {
      "cell_type": "code",
      "source": [
        "!pip install tensorflow_addons"
      ],
      "metadata": {
        "colab": {
          "base_uri": "https://localhost:8080/"
        },
        "id": "Rplw97X_JmGd",
        "outputId": "c3d4cca7-29b1-4b45-eedb-73131e15496f"
      },
      "execution_count": 9,
      "outputs": [
        {
          "output_type": "stream",
          "name": "stdout",
          "text": [
            "Collecting tensorflow_addons\n",
            "  Downloading tensorflow_addons-0.16.1-cp37-cp37m-manylinux_2_12_x86_64.manylinux2010_x86_64.whl (1.1 MB)\n",
            "\u001b[K     |████████████████████████████████| 1.1 MB 4.1 MB/s \n",
            "\u001b[?25hRequirement already satisfied: typeguard>=2.7 in /usr/local/lib/python3.7/dist-packages (from tensorflow_addons) (2.7.1)\n",
            "Installing collected packages: tensorflow-addons\n",
            "Successfully installed tensorflow-addons-0.16.1\n"
          ]
        }
      ]
    },
    {
      "cell_type": "code",
      "source": [
        "import tensorflow_addons as tfa\n",
        "embedding_dim = 100\n",
        "\n",
        "print('Building model...')\n",
        "\n",
        "# This callback will stop the training when there is no improvement in\n",
        "# the loss for one consecutive epoch.\n",
        "callback = tf.keras.callbacks.EarlyStopping(monitor='val_loss', patience=1)\n",
        "\n",
        "model = Sequential()\n",
        "model.add(Embedding(vocab_size, embedding_dim, input_length=max_length))\n",
        "model.add(GRU(units=64, dropout=0.5, recurrent_dropout=0.2))\n",
        "model.add(Dense(1, activation='sigmoid'))\n",
        "\n",
        "# try using different optimizers and different optimizer configs\n",
        "model.compile(loss='binary_crossentropy', optimizer='adam', \n",
        "              metrics=['acc',tfa.metrics.F1Score(num_classes=1),\n",
        "                       tf.keras.metrics.Precision(), tf.keras.metrics.Recall()])"
      ],
      "metadata": {
        "colab": {
          "base_uri": "https://localhost:8080/"
        },
        "id": "OvTQ7rCtVI-w",
        "outputId": "ee0a9125-848f-4302-881f-86413cb1c420"
      },
      "execution_count": 46,
      "outputs": [
        {
          "output_type": "stream",
          "name": "stdout",
          "text": [
            "Building model...\n"
          ]
        }
      ]
    },
    {
      "cell_type": "code",
      "source": [
        "model.summary()"
      ],
      "metadata": {
        "colab": {
          "base_uri": "https://localhost:8080/"
        },
        "id": "9AzxngE0WmHi",
        "outputId": "13a8d78d-f998-4c4d-bce4-150b50f166a4"
      },
      "execution_count": 47,
      "outputs": [
        {
          "output_type": "stream",
          "name": "stdout",
          "text": [
            "Model: \"sequential_4\"\n",
            "_________________________________________________________________\n",
            " Layer (type)                Output Shape              Param #   \n",
            "=================================================================\n",
            " embedding_4 (Embedding)     (None, 29, 100)           668300    \n",
            "                                                                 \n",
            " gru_4 (GRU)                 (None, 64)                31872     \n",
            "                                                                 \n",
            " dense_4 (Dense)             (None, 1)                 65        \n",
            "                                                                 \n",
            "=================================================================\n",
            "Total params: 700,237\n",
            "Trainable params: 700,237\n",
            "Non-trainable params: 0\n",
            "_________________________________________________________________\n"
          ]
        }
      ]
    },
    {
      "cell_type": "markdown",
      "source": [
        "# Train model"
      ],
      "metadata": {
        "id": "7qQu64aKWxm-"
      }
    },
    {
      "cell_type": "code",
      "source": [
        "print('Training GRU model...')\n",
        "\n",
        "history = model.fit(X_train_pad, y_train, batch_size=64, epochs=10, \n",
        "                    validation_data=(X_val_pad, y_val), callbacks=[callback], verbose=2)\n"
      ],
      "metadata": {
        "colab": {
          "base_uri": "https://localhost:8080/"
        },
        "id": "aIk9kHaXWqas",
        "outputId": "b7a1d700-6175-4914-bf97-a4f2bb65128a"
      },
      "execution_count": 48,
      "outputs": [
        {
          "output_type": "stream",
          "name": "stdout",
          "text": [
            "Training GRU model...\n",
            "Epoch 1/10\n",
            "40/40 - 8s - loss: 0.6565 - acc: 0.6386 - f1_score: 0.5305 - precision_3: 0.4815 - recall_3: 0.0143 - val_loss: 0.6272 - val_acc: 0.7006 - val_f1_score: 0.4627 - val_precision_3: 1.0000 - val_recall_3: 0.0053 - 8s/epoch - 189ms/step\n",
            "Epoch 2/10\n",
            "40/40 - 4s - loss: 0.6385 - acc: 0.6465 - f1_score: 0.5305 - precision_3: 0.8800 - recall_3: 0.0242 - val_loss: 0.5965 - val_acc: 0.6576 - val_f1_score: 0.4627 - val_precision_3: 0.4356 - val_recall_3: 0.4656 - 4s/epoch - 96ms/step\n",
            "Epoch 3/10\n",
            "40/40 - 3s - loss: 0.4452 - acc: 0.7948 - f1_score: 0.5305 - precision_3: 0.7322 - recall_3: 0.6806 - val_loss: 0.4663 - val_acc: 0.7755 - val_f1_score: 0.4627 - val_precision_3: 0.6333 - val_recall_3: 0.6032 - 3s/epoch - 76ms/step\n",
            "Epoch 4/10\n",
            "40/40 - 2s - loss: 0.2540 - acc: 0.9074 - f1_score: 0.5305 - precision_3: 0.9042 - recall_3: 0.8315 - val_loss: 0.5210 - val_acc: 0.7611 - val_f1_score: 0.4627 - val_precision_3: 0.5890 - val_recall_3: 0.6825 - 2s/epoch - 61ms/step\n"
          ]
        }
      ]
    },
    {
      "cell_type": "code",
      "source": [
        "# Creating DataFrames for each metric\n",
        "loss = pd.DataFrame(history.history['loss'], columns = ['train_loss'])\n",
        "acc = pd.DataFrame(history.history['acc'], columns = ['train_acc'])\n",
        "val_loss = pd.DataFrame(history.history['val_loss'], columns = ['val_loss'])\n",
        "val_acc = pd.DataFrame(history.history['val_acc'], columns = ['val_acc'])\n",
        "f1 = pd.DataFrame(history.history['f1_score'], columns = ['f1_score'])\n",
        "precision = pd.DataFrame(history.history['precision_3'], columns = ['precision'])\n",
        "recall = pd.DataFrame(history.history['recall_3'], columns = ['recall'])\n",
        "\n",
        "\n",
        "# Display floats with two decimal places.\n",
        "pd.set_option('precision', 2)\n",
        "\n",
        "# Create a DataFrame from our training statistics.\n",
        "df_stats = loss.join(acc).join(val_loss).join(val_acc).join(f1).join(precision).join(recall)\n",
        "\n",
        "# Use the 'epoch' as the row index.\n",
        "df_stats['epoch'] = np.arange(len(df_stats))+1\n",
        "df_stats = df_stats.set_index('epoch')\n",
        "\n",
        "# A hack to force the column headers to wrap.\n",
        "#df_stats = df_stats.style.set_table_styles([dict(selector=\"th\",props=[('max-width', '70px')])])\n",
        "\n",
        "# Display the table.\n",
        "df_stats"
      ],
      "metadata": {
        "colab": {
          "base_uri": "https://localhost:8080/",
          "height": 206
        },
        "id": "A2rTDmG22Erp",
        "outputId": "728c8660-140b-4fa4-87b5-0b88b3983efe"
      },
      "execution_count": 50,
      "outputs": [
        {
          "output_type": "execute_result",
          "data": {
            "text/html": [
              "\n",
              "  <div id=\"df-c011b820-64f6-4864-9060-f57a0dab2fdc\">\n",
              "    <div class=\"colab-df-container\">\n",
              "      <div>\n",
              "<style scoped>\n",
              "    .dataframe tbody tr th:only-of-type {\n",
              "        vertical-align: middle;\n",
              "    }\n",
              "\n",
              "    .dataframe tbody tr th {\n",
              "        vertical-align: top;\n",
              "    }\n",
              "\n",
              "    .dataframe thead th {\n",
              "        text-align: right;\n",
              "    }\n",
              "</style>\n",
              "<table border=\"1\" class=\"dataframe\">\n",
              "  <thead>\n",
              "    <tr style=\"text-align: right;\">\n",
              "      <th></th>\n",
              "      <th>train_loss</th>\n",
              "      <th>train_acc</th>\n",
              "      <th>val_loss</th>\n",
              "      <th>val_acc</th>\n",
              "      <th>f1_score</th>\n",
              "      <th>precision</th>\n",
              "      <th>recall</th>\n",
              "    </tr>\n",
              "    <tr>\n",
              "      <th>epoch</th>\n",
              "      <th></th>\n",
              "      <th></th>\n",
              "      <th></th>\n",
              "      <th></th>\n",
              "      <th></th>\n",
              "      <th></th>\n",
              "      <th></th>\n",
              "    </tr>\n",
              "  </thead>\n",
              "  <tbody>\n",
              "    <tr>\n",
              "      <th>1</th>\n",
              "      <td>0.66</td>\n",
              "      <td>0.64</td>\n",
              "      <td>0.63</td>\n",
              "      <td>0.70</td>\n",
              "      <td>0.53</td>\n",
              "      <td>0.48</td>\n",
              "      <td>0.01</td>\n",
              "    </tr>\n",
              "    <tr>\n",
              "      <th>2</th>\n",
              "      <td>0.64</td>\n",
              "      <td>0.65</td>\n",
              "      <td>0.60</td>\n",
              "      <td>0.66</td>\n",
              "      <td>0.53</td>\n",
              "      <td>0.88</td>\n",
              "      <td>0.02</td>\n",
              "    </tr>\n",
              "    <tr>\n",
              "      <th>3</th>\n",
              "      <td>0.45</td>\n",
              "      <td>0.79</td>\n",
              "      <td>0.47</td>\n",
              "      <td>0.78</td>\n",
              "      <td>0.53</td>\n",
              "      <td>0.73</td>\n",
              "      <td>0.68</td>\n",
              "    </tr>\n",
              "    <tr>\n",
              "      <th>4</th>\n",
              "      <td>0.25</td>\n",
              "      <td>0.91</td>\n",
              "      <td>0.52</td>\n",
              "      <td>0.76</td>\n",
              "      <td>0.53</td>\n",
              "      <td>0.90</td>\n",
              "      <td>0.83</td>\n",
              "    </tr>\n",
              "  </tbody>\n",
              "</table>\n",
              "</div>\n",
              "      <button class=\"colab-df-convert\" onclick=\"convertToInteractive('df-c011b820-64f6-4864-9060-f57a0dab2fdc')\"\n",
              "              title=\"Convert this dataframe to an interactive table.\"\n",
              "              style=\"display:none;\">\n",
              "        \n",
              "  <svg xmlns=\"http://www.w3.org/2000/svg\" height=\"24px\"viewBox=\"0 0 24 24\"\n",
              "       width=\"24px\">\n",
              "    <path d=\"M0 0h24v24H0V0z\" fill=\"none\"/>\n",
              "    <path d=\"M18.56 5.44l.94 2.06.94-2.06 2.06-.94-2.06-.94-.94-2.06-.94 2.06-2.06.94zm-11 1L8.5 8.5l.94-2.06 2.06-.94-2.06-.94L8.5 2.5l-.94 2.06-2.06.94zm10 10l.94 2.06.94-2.06 2.06-.94-2.06-.94-.94-2.06-.94 2.06-2.06.94z\"/><path d=\"M17.41 7.96l-1.37-1.37c-.4-.4-.92-.59-1.43-.59-.52 0-1.04.2-1.43.59L10.3 9.45l-7.72 7.72c-.78.78-.78 2.05 0 2.83L4 21.41c.39.39.9.59 1.41.59.51 0 1.02-.2 1.41-.59l7.78-7.78 2.81-2.81c.8-.78.8-2.07 0-2.86zM5.41 20L4 18.59l7.72-7.72 1.47 1.35L5.41 20z\"/>\n",
              "  </svg>\n",
              "      </button>\n",
              "      \n",
              "  <style>\n",
              "    .colab-df-container {\n",
              "      display:flex;\n",
              "      flex-wrap:wrap;\n",
              "      gap: 12px;\n",
              "    }\n",
              "\n",
              "    .colab-df-convert {\n",
              "      background-color: #E8F0FE;\n",
              "      border: none;\n",
              "      border-radius: 50%;\n",
              "      cursor: pointer;\n",
              "      display: none;\n",
              "      fill: #1967D2;\n",
              "      height: 32px;\n",
              "      padding: 0 0 0 0;\n",
              "      width: 32px;\n",
              "    }\n",
              "\n",
              "    .colab-df-convert:hover {\n",
              "      background-color: #E2EBFA;\n",
              "      box-shadow: 0px 1px 2px rgba(60, 64, 67, 0.3), 0px 1px 3px 1px rgba(60, 64, 67, 0.15);\n",
              "      fill: #174EA6;\n",
              "    }\n",
              "\n",
              "    [theme=dark] .colab-df-convert {\n",
              "      background-color: #3B4455;\n",
              "      fill: #D2E3FC;\n",
              "    }\n",
              "\n",
              "    [theme=dark] .colab-df-convert:hover {\n",
              "      background-color: #434B5C;\n",
              "      box-shadow: 0px 1px 3px 1px rgba(0, 0, 0, 0.15);\n",
              "      filter: drop-shadow(0px 1px 2px rgba(0, 0, 0, 0.3));\n",
              "      fill: #FFFFFF;\n",
              "    }\n",
              "  </style>\n",
              "\n",
              "      <script>\n",
              "        const buttonEl =\n",
              "          document.querySelector('#df-c011b820-64f6-4864-9060-f57a0dab2fdc button.colab-df-convert');\n",
              "        buttonEl.style.display =\n",
              "          google.colab.kernel.accessAllowed ? 'block' : 'none';\n",
              "\n",
              "        async function convertToInteractive(key) {\n",
              "          const element = document.querySelector('#df-c011b820-64f6-4864-9060-f57a0dab2fdc');\n",
              "          const dataTable =\n",
              "            await google.colab.kernel.invokeFunction('convertToInteractive',\n",
              "                                                     [key], {});\n",
              "          if (!dataTable) return;\n",
              "\n",
              "          const docLinkHtml = 'Like what you see? Visit the ' +\n",
              "            '<a target=\"_blank\" href=https://colab.research.google.com/notebooks/data_table.ipynb>data table notebook</a>'\n",
              "            + ' to learn more about interactive tables.';\n",
              "          element.innerHTML = '';\n",
              "          dataTable['output_type'] = 'display_data';\n",
              "          await google.colab.output.renderOutput(dataTable, element);\n",
              "          const docLink = document.createElement('div');\n",
              "          docLink.innerHTML = docLinkHtml;\n",
              "          element.appendChild(docLink);\n",
              "        }\n",
              "      </script>\n",
              "    </div>\n",
              "  </div>\n",
              "  "
            ],
            "text/plain": [
              "       train_loss  train_acc  val_loss  val_acc  f1_score  precision  recall\n",
              "epoch                                                                       \n",
              "1            0.66       0.64      0.63     0.70      0.53       0.48    0.01\n",
              "2            0.64       0.65      0.60     0.66      0.53       0.88    0.02\n",
              "3            0.45       0.79      0.47     0.78      0.53       0.73    0.68\n",
              "4            0.25       0.91      0.52     0.76      0.53       0.90    0.83"
            ]
          },
          "metadata": {},
          "execution_count": 50
        }
      ]
    },
    {
      "cell_type": "markdown",
      "source": [
        "As seen from the table above, while the training scores improved, the validation loss and accuracy is barely passable. This indicates that the model is very overfitted. However, it should be noted that precision and recall score has improved drastically to 96% each. "
      ],
      "metadata": {
        "id": "IZcnSm4eKLRm"
      }
    },
    {
      "cell_type": "code",
      "source": [
        "# Exporting results\n",
        "df_stats.to_csv('./drive/My Drive/GA/capstone/data/wordembeddings_results_df.csv')"
      ],
      "metadata": {
        "id": "8qnIkgYIKHPO"
      },
      "execution_count": 14,
      "outputs": []
    },
    {
      "cell_type": "code",
      "source": [
        "import matplotlib.pyplot as plt\n",
        "% matplotlib inline\n",
        "\n",
        "import seaborn as sns\n",
        "\n",
        "# Use plot styling from seaborn.\n",
        "sns.set(style='darkgrid')\n",
        "\n",
        "# Increase the plot size and font size.\n",
        "sns.set(font_scale=1.5)\n",
        "plt.rcParams[\"figure.figsize\"] = (12,6)\n",
        "\n",
        "# Plot the learning curve.\n",
        "plt.plot(df_stats['train_loss'], 'b-o', label=\"Training\")\n",
        "plt.plot(df_stats['val_loss'], 'g-o', label=\"Validation\")\n",
        "\n",
        "# Label the plot.\n",
        "plt.title(\"Training & Validation Loss\")\n",
        "plt.xlabel(\"Epoch\")\n",
        "plt.ylabel(\"Loss\")\n",
        "plt.legend()\n",
        "#plt.xticks([1, 2, 3, 4])\n",
        "\n",
        "plt.show()"
      ],
      "metadata": {
        "colab": {
          "base_uri": "https://localhost:8080/",
          "height": 427
        },
        "id": "DDaE6kUD1-he",
        "outputId": "854ec328-dd3e-4799-f234-2c9b6e0820a4"
      },
      "execution_count": 21,
      "outputs": [
        {
          "output_type": "display_data",
          "data": {
            "image/png": "[encoded data removed]",
            "text/plain": [
              "<Figure size 864x432 with 1 Axes>"
            ]
          },
          "metadata": {}
        }
      ]
    },
    {
      "cell_type": "code",
      "source": [
        "train_pred = model.predict(x=X_train_pad)\n",
        "val_pred = model.predict(x=X_val_pad)"
      ],
      "metadata": {
        "id": "vDypBJGU1Vf3"
      },
      "execution_count": 51,
      "outputs": []
    },
    {
      "cell_type": "code",
      "source": [
        "train_pred_df = pd.DataFrame(train_pred, columns=['predictions'])\n",
        "train_pred_df['predictions'] = train_pred_df['predictions'].map(lambda x: 1 if x > 0.5 else 0)\n",
        "train_pred_df['predictions'].value_counts()"
      ],
      "metadata": {
        "colab": {
          "base_uri": "https://localhost:8080/"
        },
        "id": "_Kl2pmz7_lcg",
        "outputId": "840bd2d3-7978-4820-bf69-feb682941894"
      },
      "execution_count": 52,
      "outputs": [
        {
          "output_type": "execute_result",
          "data": {
            "text/plain": [
              "0    1610\n",
              "1     905\n",
              "Name: predictions, dtype: int64"
            ]
          },
          "metadata": {},
          "execution_count": 52
        }
      ]
    },
    {
      "cell_type": "code",
      "source": [
        "val_df = pd.DataFrame(val_pred, columns=['predictions'])\n",
        "val_df['predictions'] = val_df['predictions'].map(lambda x: 1 if x > 0.5 else 0)\n",
        "val_df['predictions'].value_counts()"
      ],
      "metadata": {
        "colab": {
          "base_uri": "https://localhost:8080/"
        },
        "id": "mMiyLHZy1pgm",
        "outputId": "cdb58ee6-5055-4e2f-b89a-d7aaa3ea8534"
      },
      "execution_count": 53,
      "outputs": [
        {
          "output_type": "execute_result",
          "data": {
            "text/plain": [
              "0    409\n",
              "1    219\n",
              "Name: predictions, dtype: int64"
            ]
          },
          "metadata": {},
          "execution_count": 53
        }
      ]
    },
    {
      "cell_type": "code",
      "source": [
        "import numpy as np\n",
        "from sklearn.metrics import confusion_matrix\n",
        "\n",
        "def conf_unravel(true,pred):\n",
        "  tn, fp, fn, tp = confusion_matrix(true, pred).ravel()\n",
        "  print(\"True Negatives: %s\" % tn)\n",
        "  print(\"False Positives: %s\" % fp)\n",
        "  print(\"False Negatives: %s\" % fn)\n",
        "  print(\"True Positives: %s\" % tp)\n",
        "\n",
        "  accuracy_clean = (tp + tn) / (tp + tn + fp + fn)\n",
        "  print(f'Accuracy: {round(accuracy_clean,4)}')\n",
        "\n",
        "  misclass_clean = (fp + fn) / (tp + tn + fp + fn)\n",
        "  print(f'Misclassification Rate: {round(misclass_clean,4)}')\n",
        "\n",
        "  spec_clean = tn / (tn + fp) #how many of the negatives was correctly classified\n",
        "  print(f'Specificity: {round(spec_clean,4)}')\n",
        "\n",
        "  sens_clean = tp / (tp + fn) #how many of the negatives was correctly identified\n",
        "  print(f'Sensitivity: {round(sens_clean,4)}')"
      ],
      "metadata": {
        "id": "fAsn4wHs_Bub"
      },
      "execution_count": 54,
      "outputs": []
    },
    {
      "cell_type": "code",
      "source": [
        "import seaborn as sns\n",
        "sns.heatmap(confusion_matrix(y_train,train_pred_df['predictions']),annot=True,fmt='g',cmap=plt.cm.Blues);\n",
        "plt.ylabel('True Label')\n",
        "plt.xlabel('Predicted Label')\n",
        "plt.savefig('confusion_matrix_bert.png')"
      ],
      "metadata": {
        "colab": {
          "base_uri": "https://localhost:8080/",
          "height": 407
        },
        "id": "fF2UW5WG_fxk",
        "outputId": "961800c0-d365-48cf-e39c-1373cc1c8917"
      },
      "execution_count": 55,
      "outputs": [
        {
          "output_type": "display_data",
          "data": {
            "image/png": "[encoded data removed]",
            "text/plain": [
              "<Figure size 864x432 with 2 Axes>"
            ]
          },
          "metadata": {}
        }
      ]
    },
    {
      "cell_type": "code",
      "source": [
        "conf_unravel(y_train,train_pred_df['predictions'])"
      ],
      "metadata": {
        "colab": {
          "base_uri": "https://localhost:8080/"
        },
        "id": "p10xbEEa_7yR",
        "outputId": "b574780d-9392-4445-a9aa-7cb786d42181"
      },
      "execution_count": 56,
      "outputs": [
        {
          "output_type": "stream",
          "name": "stdout",
          "text": [
            "True Negatives: 1557\n",
            "False Positives: 50\n",
            "False Negatives: 53\n",
            "True Positives: 855\n",
            "Accuracy: 0.959\n",
            "Misclassification Rate: 0.041\n",
            "Specificity: 0.9689\n",
            "Sensitivity: 0.9416\n"
          ]
        }
      ]
    },
    {
      "cell_type": "code",
      "source": [
        "import seaborn as sns\n",
        "sns.heatmap(confusion_matrix(y_val,val_df['predictions']),annot=True,fmt='g',cmap=plt.cm.Blues);\n",
        "plt.ylabel('True Label')\n",
        "plt.xlabel('Predicted Label')\n",
        "plt.savefig('confusion_matrix_bert.png')"
      ],
      "metadata": {
        "colab": {
          "base_uri": "https://localhost:8080/",
          "height": 407
        },
        "id": "aAtIj5Uf_Gys",
        "outputId": "94ab251e-90bb-4a16-d1d5-af52980a6d4e"
      },
      "execution_count": 57,
      "outputs": [
        {
          "output_type": "display_data",
          "data": {
            "image/png": "[encoded data removed]",
            "text/plain": [
              "<Figure size 864x432 with 2 Axes>"
            ]
          },
          "metadata": {}
        }
      ]
    },
    {
      "cell_type": "code",
      "source": [
        "conf_unravel(y_val,val_df['predictions'])"
      ],
      "metadata": {
        "colab": {
          "base_uri": "https://localhost:8080/"
        },
        "id": "t9HUPl2W_Y5a",
        "outputId": "d042df40-9ab8-41d2-9f88-1d779131754b"
      },
      "execution_count": 58,
      "outputs": [
        {
          "output_type": "stream",
          "name": "stdout",
          "text": [
            "True Negatives: 349\n",
            "False Positives: 90\n",
            "False Negatives: 60\n",
            "True Positives: 129\n",
            "Accuracy: 0.7611\n",
            "Misclassification Rate: 0.2389\n",
            "Specificity: 0.795\n",
            "Sensitivity: 0.6825\n"
          ]
        }
      ]
    },
    {
      "cell_type": "markdown",
      "source": [
        "# Performance on Test Set"
      ],
      "metadata": {
        "id": "n1H8vt2GXrIg"
      }
    },
    {
      "cell_type": "code",
      "source": [
        "# importing test data\n",
        "test_df = pd.read_csv('./drive/My Drive/GA/capstone/data/tweets_test.csv')\n",
        "test_df.head()"
      ],
      "metadata": {
        "colab": {
          "base_uri": "https://localhost:8080/",
          "height": 206
        },
        "id": "jPWG9TqAngzW",
        "outputId": "5ebac42a-ddc6-40c7-b433-9d6698d1725b"
      },
      "execution_count": 69,
      "outputs": [
        {
          "output_type": "execute_result",
          "data": {
            "text/html": [
              "\n",
              "  <div id=\"df-3d04cf12-49f7-4096-81e0-9acc7cccdcd5\">\n",
              "    <div class=\"colab-df-container\">\n",
              "      <div>\n",
              "<style scoped>\n",
              "    .dataframe tbody tr th:only-of-type {\n",
              "        vertical-align: middle;\n",
              "    }\n",
              "\n",
              "    .dataframe tbody tr th {\n",
              "        vertical-align: top;\n",
              "    }\n",
              "\n",
              "    .dataframe thead th {\n",
              "        text-align: right;\n",
              "    }\n",
              "</style>\n",
              "<table border=\"1\" class=\"dataframe\">\n",
              "  <thead>\n",
              "    <tr style=\"text-align: right;\">\n",
              "      <th></th>\n",
              "      <th>id</th>\n",
              "      <th>text</th>\n",
              "      <th>sentiment</th>\n",
              "    </tr>\n",
              "  </thead>\n",
              "  <tbody>\n",
              "    <tr>\n",
              "      <th>0</th>\n",
              "      <td>1</td>\n",
              "      <td>Wow. Yall needa step it up @Apple RT @heynyla:...</td>\n",
              "      <td>-1</td>\n",
              "    </tr>\n",
              "    <tr>\n",
              "      <th>1</th>\n",
              "      <td>2</td>\n",
              "      <td>What Happened To Apple Inc?   http://t.co/FJEX...</td>\n",
              "      <td>0</td>\n",
              "    </tr>\n",
              "    <tr>\n",
              "      <th>2</th>\n",
              "      <td>3</td>\n",
              "      <td>Thank u @apple I can now compile all of the pi...</td>\n",
              "      <td>1</td>\n",
              "    </tr>\n",
              "    <tr>\n",
              "      <th>3</th>\n",
              "      <td>4</td>\n",
              "      <td>The oddly uplifting story of the Apple co-foun...</td>\n",
              "      <td>0</td>\n",
              "    </tr>\n",
              "    <tr>\n",
              "      <th>4</th>\n",
              "      <td>5</td>\n",
              "      <td>@apple can i exchange my iphone for a differen...</td>\n",
              "      <td>0</td>\n",
              "    </tr>\n",
              "  </tbody>\n",
              "</table>\n",
              "</div>\n",
              "      <button class=\"colab-df-convert\" onclick=\"convertToInteractive('df-3d04cf12-49f7-4096-81e0-9acc7cccdcd5')\"\n",
              "              title=\"Convert this dataframe to an interactive table.\"\n",
              "              style=\"display:none;\">\n",
              "        \n",
              "  <svg xmlns=\"http://www.w3.org/2000/svg\" height=\"24px\"viewBox=\"0 0 24 24\"\n",
              "       width=\"24px\">\n",
              "    <path d=\"M0 0h24v24H0V0z\" fill=\"none\"/>\n",
              "    <path d=\"M18.56 5.44l.94 2.06.94-2.06 2.06-.94-2.06-.94-.94-2.06-.94 2.06-2.06.94zm-11 1L8.5 8.5l.94-2.06 2.06-.94-2.06-.94L8.5 2.5l-.94 2.06-2.06.94zm10 10l.94 2.06.94-2.06 2.06-.94-2.06-.94-.94-2.06-.94 2.06-2.06.94z\"/><path d=\"M17.41 7.96l-1.37-1.37c-.4-.4-.92-.59-1.43-.59-.52 0-1.04.2-1.43.59L10.3 9.45l-7.72 7.72c-.78.78-.78 2.05 0 2.83L4 21.41c.39.39.9.59 1.41.59.51 0 1.02-.2 1.41-.59l7.78-7.78 2.81-2.81c.8-.78.8-2.07 0-2.86zM5.41 20L4 18.59l7.72-7.72 1.47 1.35L5.41 20z\"/>\n",
              "  </svg>\n",
              "      </button>\n",
              "      \n",
              "  <style>\n",
              "    .colab-df-container {\n",
              "      display:flex;\n",
              "      flex-wrap:wrap;\n",
              "      gap: 12px;\n",
              "    }\n",
              "\n",
              "    .colab-df-convert {\n",
              "      background-color: #E8F0FE;\n",
              "      border: none;\n",
              "      border-radius: 50%;\n",
              "      cursor: pointer;\n",
              "      display: none;\n",
              "      fill: #1967D2;\n",
              "      height: 32px;\n",
              "      padding: 0 0 0 0;\n",
              "      width: 32px;\n",
              "    }\n",
              "\n",
              "    .colab-df-convert:hover {\n",
              "      background-color: #E2EBFA;\n",
              "      box-shadow: 0px 1px 2px rgba(60, 64, 67, 0.3), 0px 1px 3px 1px rgba(60, 64, 67, 0.15);\n",
              "      fill: #174EA6;\n",
              "    }\n",
              "\n",
              "    [theme=dark] .colab-df-convert {\n",
              "      background-color: #3B4455;\n",
              "      fill: #D2E3FC;\n",
              "    }\n",
              "\n",
              "    [theme=dark] .colab-df-convert:hover {\n",
              "      background-color: #434B5C;\n",
              "      box-shadow: 0px 1px 3px 1px rgba(0, 0, 0, 0.15);\n",
              "      filter: drop-shadow(0px 1px 2px rgba(0, 0, 0, 0.3));\n",
              "      fill: #FFFFFF;\n",
              "    }\n",
              "  </style>\n",
              "\n",
              "      <script>\n",
              "        const buttonEl =\n",
              "          document.querySelector('#df-3d04cf12-49f7-4096-81e0-9acc7cccdcd5 button.colab-df-convert');\n",
              "        buttonEl.style.display =\n",
              "          google.colab.kernel.accessAllowed ? 'block' : 'none';\n",
              "\n",
              "        async function convertToInteractive(key) {\n",
              "          const element = document.querySelector('#df-3d04cf12-49f7-4096-81e0-9acc7cccdcd5');\n",
              "          const dataTable =\n",
              "            await google.colab.kernel.invokeFunction('convertToInteractive',\n",
              "                                                     [key], {});\n",
              "          if (!dataTable) return;\n",
              "\n",
              "          const docLinkHtml = 'Like what you see? Visit the ' +\n",
              "            '<a target=\"_blank\" href=https://colab.research.google.com/notebooks/data_table.ipynb>data table notebook</a>'\n",
              "            + ' to learn more about interactive tables.';\n",
              "          element.innerHTML = '';\n",
              "          dataTable['output_type'] = 'display_data';\n",
              "          await google.colab.output.renderOutput(dataTable, element);\n",
              "          const docLink = document.createElement('div');\n",
              "          docLink.innerHTML = docLinkHtml;\n",
              "          element.appendChild(docLink);\n",
              "        }\n",
              "      </script>\n",
              "    </div>\n",
              "  </div>\n",
              "  "
            ],
            "text/plain": [
              "   id                                               text  sentiment\n",
              "0   1  Wow. Yall needa step it up @Apple RT @heynyla:...         -1\n",
              "1   2  What Happened To Apple Inc?   http://t.co/FJEX...          0\n",
              "2   3  Thank u @apple I can now compile all of the pi...          1\n",
              "3   4  The oddly uplifting story of the Apple co-foun...          0\n",
              "4   5  @apple can i exchange my iphone for a differen...          0"
            ]
          },
          "metadata": {},
          "execution_count": 69
        }
      ]
    },
    {
      "cell_type": "code",
      "source": [
        "# Reclassifying the target sentiments to binary (0: non-negative, 1: negative)\n",
        "test_df['sentiment'].replace(1,0, inplace = True)\n",
        "test_df['sentiment'].replace(-1,1, inplace = True)\n",
        "test_df.head()"
      ],
      "metadata": {
        "colab": {
          "base_uri": "https://localhost:8080/",
          "height": 206
        },
        "id": "bI36K0jv0iTL",
        "outputId": "837d641a-ed23-4eb9-f201-02b30fa524ef"
      },
      "execution_count": 70,
      "outputs": [
        {
          "output_type": "execute_result",
          "data": {
            "text/html": [
              "\n",
              "  <div id=\"df-4b914a67-557c-4bb4-bd89-b8d9686d3668\">\n",
              "    <div class=\"colab-df-container\">\n",
              "      <div>\n",
              "<style scoped>\n",
              "    .dataframe tbody tr th:only-of-type {\n",
              "        vertical-align: middle;\n",
              "    }\n",
              "\n",
              "    .dataframe tbody tr th {\n",
              "        vertical-align: top;\n",
              "    }\n",
              "\n",
              "    .dataframe thead th {\n",
              "        text-align: right;\n",
              "    }\n",
              "</style>\n",
              "<table border=\"1\" class=\"dataframe\">\n",
              "  <thead>\n",
              "    <tr style=\"text-align: right;\">\n",
              "      <th></th>\n",
              "      <th>id</th>\n",
              "      <th>text</th>\n",
              "      <th>sentiment</th>\n",
              "    </tr>\n",
              "  </thead>\n",
              "  <tbody>\n",
              "    <tr>\n",
              "      <th>0</th>\n",
              "      <td>1</td>\n",
              "      <td>Wow. Yall needa step it up @Apple RT @heynyla:...</td>\n",
              "      <td>1</td>\n",
              "    </tr>\n",
              "    <tr>\n",
              "      <th>1</th>\n",
              "      <td>2</td>\n",
              "      <td>What Happened To Apple Inc?   http://t.co/FJEX...</td>\n",
              "      <td>0</td>\n",
              "    </tr>\n",
              "    <tr>\n",
              "      <th>2</th>\n",
              "      <td>3</td>\n",
              "      <td>Thank u @apple I can now compile all of the pi...</td>\n",
              "      <td>0</td>\n",
              "    </tr>\n",
              "    <tr>\n",
              "      <th>3</th>\n",
              "      <td>4</td>\n",
              "      <td>The oddly uplifting story of the Apple co-foun...</td>\n",
              "      <td>0</td>\n",
              "    </tr>\n",
              "    <tr>\n",
              "      <th>4</th>\n",
              "      <td>5</td>\n",
              "      <td>@apple can i exchange my iphone for a differen...</td>\n",
              "      <td>0</td>\n",
              "    </tr>\n",
              "  </tbody>\n",
              "</table>\n",
              "</div>\n",
              "      <button class=\"colab-df-convert\" onclick=\"convertToInteractive('df-4b914a67-557c-4bb4-bd89-b8d9686d3668')\"\n",
              "              title=\"Convert this dataframe to an interactive table.\"\n",
              "              style=\"display:none;\">\n",
              "        \n",
              "  <svg xmlns=\"http://www.w3.org/2000/svg\" height=\"24px\"viewBox=\"0 0 24 24\"\n",
              "       width=\"24px\">\n",
              "    <path d=\"M0 0h24v24H0V0z\" fill=\"none\"/>\n",
              "    <path d=\"M18.56 5.44l.94 2.06.94-2.06 2.06-.94-2.06-.94-.94-2.06-.94 2.06-2.06.94zm-11 1L8.5 8.5l.94-2.06 2.06-.94-2.06-.94L8.5 2.5l-.94 2.06-2.06.94zm10 10l.94 2.06.94-2.06 2.06-.94-2.06-.94-.94-2.06-.94 2.06-2.06.94z\"/><path d=\"M17.41 7.96l-1.37-1.37c-.4-.4-.92-.59-1.43-.59-.52 0-1.04.2-1.43.59L10.3 9.45l-7.72 7.72c-.78.78-.78 2.05 0 2.83L4 21.41c.39.39.9.59 1.41.59.51 0 1.02-.2 1.41-.59l7.78-7.78 2.81-2.81c.8-.78.8-2.07 0-2.86zM5.41 20L4 18.59l7.72-7.72 1.47 1.35L5.41 20z\"/>\n",
              "  </svg>\n",
              "      </button>\n",
              "      \n",
              "  <style>\n",
              "    .colab-df-container {\n",
              "      display:flex;\n",
              "      flex-wrap:wrap;\n",
              "      gap: 12px;\n",
              "    }\n",
              "\n",
              "    .colab-df-convert {\n",
              "      background-color: #E8F0FE;\n",
              "      border: none;\n",
              "      border-radius: 50%;\n",
              "      cursor: pointer;\n",
              "      display: none;\n",
              "      fill: #1967D2;\n",
              "      height: 32px;\n",
              "      padding: 0 0 0 0;\n",
              "      width: 32px;\n",
              "    }\n",
              "\n",
              "    .colab-df-convert:hover {\n",
              "      background-color: #E2EBFA;\n",
              "      box-shadow: 0px 1px 2px rgba(60, 64, 67, 0.3), 0px 1px 3px 1px rgba(60, 64, 67, 0.15);\n",
              "      fill: #174EA6;\n",
              "    }\n",
              "\n",
              "    [theme=dark] .colab-df-convert {\n",
              "      background-color: #3B4455;\n",
              "      fill: #D2E3FC;\n",
              "    }\n",
              "\n",
              "    [theme=dark] .colab-df-convert:hover {\n",
              "      background-color: #434B5C;\n",
              "      box-shadow: 0px 1px 3px 1px rgba(0, 0, 0, 0.15);\n",
              "      filter: drop-shadow(0px 1px 2px rgba(0, 0, 0, 0.3));\n",
              "      fill: #FFFFFF;\n",
              "    }\n",
              "  </style>\n",
              "\n",
              "      <script>\n",
              "        const buttonEl =\n",
              "          document.querySelector('#df-4b914a67-557c-4bb4-bd89-b8d9686d3668 button.colab-df-convert');\n",
              "        buttonEl.style.display =\n",
              "          google.colab.kernel.accessAllowed ? 'block' : 'none';\n",
              "\n",
              "        async function convertToInteractive(key) {\n",
              "          const element = document.querySelector('#df-4b914a67-557c-4bb4-bd89-b8d9686d3668');\n",
              "          const dataTable =\n",
              "            await google.colab.kernel.invokeFunction('convertToInteractive',\n",
              "                                                     [key], {});\n",
              "          if (!dataTable) return;\n",
              "\n",
              "          const docLinkHtml = 'Like what you see? Visit the ' +\n",
              "            '<a target=\"_blank\" href=https://colab.research.google.com/notebooks/data_table.ipynb>data table notebook</a>'\n",
              "            + ' to learn more about interactive tables.';\n",
              "          element.innerHTML = '';\n",
              "          dataTable['output_type'] = 'display_data';\n",
              "          await google.colab.output.renderOutput(dataTable, element);\n",
              "          const docLink = document.createElement('div');\n",
              "          docLink.innerHTML = docLinkHtml;\n",
              "          element.appendChild(docLink);\n",
              "        }\n",
              "      </script>\n",
              "    </div>\n",
              "  </div>\n",
              "  "
            ],
            "text/plain": [
              "   id                                               text  sentiment\n",
              "0   1  Wow. Yall needa step it up @Apple RT @heynyla:...          1\n",
              "1   2  What Happened To Apple Inc?   http://t.co/FJEX...          0\n",
              "2   3  Thank u @apple I can now compile all of the pi...          0\n",
              "3   4  The oddly uplifting story of the Apple co-foun...          0\n",
              "4   5  @apple can i exchange my iphone for a differen...          0"
            ]
          },
          "metadata": {},
          "execution_count": 70
        }
      ]
    },
    {
      "cell_type": "code",
      "source": [
        "# Tokenize test set\n",
        "test_tokens = tokenizer_obj.texts_to_sequences(test_df['text'].values)\n",
        "test_tokens_pad = pad_sequences(test_tokens, maxlen=max_length)"
      ],
      "metadata": {
        "id": "TBi45aiTXZZ4"
      },
      "execution_count": 71,
      "outputs": []
    },
    {
      "cell_type": "code",
      "source": [
        "# predict \n",
        "predictions = model.predict(x=test_tokens_pad)"
      ],
      "metadata": {
        "id": "YwmgGps4ly_-"
      },
      "execution_count": 72,
      "outputs": []
    },
    {
      "cell_type": "code",
      "source": [
        "predictions"
      ],
      "metadata": {
        "colab": {
          "base_uri": "https://localhost:8080/"
        },
        "id": "LbZ1SCm8oMyl",
        "outputId": "80ea5e7b-0858-401a-8f3a-c00eff37b288"
      },
      "execution_count": 73,
      "outputs": [
        {
          "output_type": "execute_result",
          "data": {
            "text/plain": [
              "array([[0.82064474],\n",
              "       [0.1850627 ],\n",
              "       [0.25189283],\n",
              "       ...,\n",
              "       [0.2219817 ],\n",
              "       [0.14596125],\n",
              "       [0.33871645]], dtype=float32)"
            ]
          },
          "metadata": {},
          "execution_count": 73
        }
      ]
    },
    {
      "cell_type": "code",
      "source": [
        "pred_df = pd.DataFrame(predictions, columns=['predictions'])"
      ],
      "metadata": {
        "id": "GK9PF831tcuP"
      },
      "execution_count": 74,
      "outputs": []
    },
    {
      "cell_type": "code",
      "source": [
        "pred_df['sentiment'] = pred_df['predictions'].map(lambda x: 1 if x > 0.5 else 0)"
      ],
      "metadata": {
        "id": "iZEQSFKttqre"
      },
      "execution_count": 75,
      "outputs": []
    },
    {
      "cell_type": "code",
      "source": [
        "pred_df['sentiment'].value_counts()"
      ],
      "metadata": {
        "colab": {
          "base_uri": "https://localhost:8080/"
        },
        "id": "-KqtQVMpssH5",
        "outputId": "5fdc595b-5c50-49d7-9728-7a74e76c6dd3"
      },
      "execution_count": 76,
      "outputs": [
        {
          "output_type": "execute_result",
          "data": {
            "text/plain": [
              "0    1098\n",
              "1     532\n",
              "Name: sentiment, dtype: int64"
            ]
          },
          "metadata": {},
          "execution_count": 76
        }
      ]
    },
    {
      "cell_type": "code",
      "source": [
        "import seaborn as sns\n",
        "sns.heatmap(confusion_matrix(test_df['sentiment'],pred_df['sentiment']),annot=True,fmt='g',cmap=plt.cm.Blues);\n",
        "plt.ylabel('True Label')\n",
        "plt.xlabel('Predicted Label')\n",
        "plt.savefig('confusion_matrix_bert.png')"
      ],
      "metadata": {
        "colab": {
          "base_uri": "https://localhost:8080/",
          "height": 407
        },
        "id": "VfIVotIp09n2",
        "outputId": "e396d0a8-f725-4fb4-9b05-f44e4fd8ab15"
      },
      "execution_count": 77,
      "outputs": [
        {
          "output_type": "display_data",
          "data": {
            "image/png": "[encoded data removed]",
            "text/plain": [
              "<Figure size 864x432 with 2 Axes>"
            ]
          },
          "metadata": {}
        }
      ]
    },
    {
      "cell_type": "code",
      "source": [
        "conf_unravel(test_df['sentiment'],pred_df['sentiment'])"
      ],
      "metadata": {
        "colab": {
          "base_uri": "https://localhost:8080/"
        },
        "id": "WfndBgZGzBO6",
        "outputId": "f489654f-a4de-4222-c419-09aeb1812a08"
      },
      "execution_count": 78,
      "outputs": [
        {
          "output_type": "stream",
          "name": "stdout",
          "text": [
            "True Negatives: 934\n",
            "False Positives: 10\n",
            "False Negatives: 164\n",
            "True Positives: 522\n",
            "Accuracy: 0.8933\n",
            "Misclassification Rate: 0.1067\n",
            "Specificity: 0.9894\n",
            "Sensitivity: 0.7609\n"
          ]
        }
      ]
    },
    {
      "cell_type": "markdown",
      "source": [
        "As seen from the confusion matrices above, when testing on the validation and test sets, the model faces some trouble when trying to correctly identify negative tweets as compared to the training confusion matrix. This indicates that the model is slightly overfitted. Overall, the model has done reasonably well in predicting with more room for improvement when predicting negative tweets."
      ],
      "metadata": {
        "id": "xNKHdJrx07dY"
      }
    }
  ]
}
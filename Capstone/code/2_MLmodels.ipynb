{
  "nbformat": 4,
  "nbformat_minor": 0,
  "metadata": {
    "colab": {
      "name": "2_MLmodels.ipynb",
      "provenance": [],
      "collapsed_sections": [],
      "authorship_tag": "ABX9TyNJPivfbwy3lDHVCylFnIc6",
      "include_colab_link": true
    },
    "kernelspec": {
      "name": "python3",
      "display_name": "Python 3"
    },
    "language_info": {
      "name": "python"
    }
  },
  "cells": [
    {
      "cell_type": "markdown",
      "metadata": {
        "id": "view-in-github",
        "colab_type": "text"
      },
      "source": [
        "<a href=\"https://colab.research.google.com/github/estherkxy/GA_Projects/blob/main/Capstone/code/2_MLmodels.ipynb\" target=\"_parent\"><img src=\"https://colab.research.google.com/assets/colab-badge.svg\" alt=\"Open In Colab\"/></a>"
      ]
    },
    {
      "cell_type": "markdown",
      "source": [
        "# Machine Learning Models\n",
        "\n",
        "Notebook 2/6"
      ],
      "metadata": {
        "id": "GFwNx2N9l8I-"
      }
    },
    {
      "cell_type": "code",
      "source": [
        "#!pip install transformers\n",
        "#!pip install tweet-preprocessor"
      ],
      "metadata": {
        "id": "F86XrZLv1VbX"
      },
      "execution_count": 21,
      "outputs": []
    },
    {
      "cell_type": "code",
      "execution_count": 1,
      "metadata": {
        "id": "3YItxN4Az4HH",
        "colab": {
          "base_uri": "https://localhost:8080/"
        },
        "outputId": "1a8f2dee-09ab-4f38-a8d1-50f6d3dd295b"
      },
      "outputs": [
        {
          "output_type": "stream",
          "name": "stdout",
          "text": [
            "[nltk_data] Downloading package stopwords to /root/nltk_data...\n",
            "[nltk_data]   Package stopwords is already up-to-date!\n",
            "[nltk_data] Downloading package wordnet to /root/nltk_data...\n",
            "[nltk_data]   Package wordnet is already up-to-date!\n"
          ]
        }
      ],
      "source": [
        "# Importing libraries needed for data cleaning and EDA\n",
        "import pandas as pd\n",
        "import numpy as np\n",
        "import matplotlib.pyplot as plt\n",
        "import seaborn as sns\n",
        "import regex as re\n",
        "import collections\n",
        "import transformers\n",
        "import preprocessor as p\n",
        "import nltk\n",
        "\n",
        "nltk.download('stopwords')\n",
        "nltk.download('wordnet')\n",
        "from nltk.tokenize import RegexpTokenizer, word_tokenize\n",
        "from nltk.corpus import stopwords\n",
        "from nltk.stem import WordNetLemmatizer\n",
        "from nltk.stem.porter import PorterStemmer\n",
        "#from IPython.display import IFrame\n",
        "from collections import Counter\n",
        "from bs4 import BeautifulSoup\n",
        "\n",
        "from sklearn.feature_extraction.text import CountVectorizer, TfidfVectorizer\n",
        "from sklearn.model_selection import train_test_split, GridSearchCV, cross_val_score\n",
        "from sklearn.pipeline import Pipeline\n",
        "from sklearn.linear_model import LogisticRegression\n",
        "from sklearn.metrics import confusion_matrix, classification_report, plot_roc_curve, roc_auc_score, \\\n",
        "                            accuracy_score, precision_score, recall_score, f1_score\n",
        "from sklearn.tree import DecisionTreeClassifier\n",
        "from sklearn.ensemble import RandomForestClassifier, ExtraTreesClassifier, \\\n",
        "                             GradientBoostingClassifier, AdaBoostClassifier, \\\n",
        "                             VotingClassifier\n",
        "from sklearn.neighbors import KNeighborsClassifier\n",
        "from sklearn.naive_bayes import ComplementNB\n",
        "from sklearn.svm import SVC\n",
        "from sklearn.preprocessing import StandardScaler\n",
        "from imblearn.over_sampling import SMOTE\n",
        "from imblearn.pipeline import Pipeline as Pipeline1\n",
        "\n",
        "\n",
        "import warnings\n",
        "warnings.filterwarnings(\"ignore\")"
      ]
    },
    {
      "cell_type": "code",
      "source": [
        "from google.colab import drive\n",
        "drive.mount('/content/drive')"
      ],
      "metadata": {
        "id": "6GS2FnA-0Ily",
        "colab": {
          "base_uri": "https://localhost:8080/"
        },
        "outputId": "4b541f13-7560-4f74-d346-677b85fe60c5"
      },
      "execution_count": 2,
      "outputs": [
        {
          "output_type": "stream",
          "name": "stdout",
          "text": [
            "Drive already mounted at /content/drive; to attempt to forcibly remount, call drive.mount(\"/content/drive\", force_remount=True).\n"
          ]
        }
      ]
    },
    {
      "cell_type": "code",
      "source": [
        "# Loading datasets\n",
        "tw = pd.read_csv('./drive/My Drive/GA/capstone/data/tweets_train.csv', encoding = 'latin-1')\n",
        "train_df = pd.read_csv('./drive/My Drive/GA/capstone/data/train_tweets_clean.csv')\n",
        "test_df = pd.read_csv('./drive/My Drive/GA/capstone/data/tweets_test.csv')"
      ],
      "metadata": {
        "id": "skZWU5TT0Tsz"
      },
      "execution_count": 3,
      "outputs": []
    },
    {
      "cell_type": "code",
      "source": [
        "stop_words = stopwords.words('english')\n",
        "extra_words = ['get', 'a', 'it', 'why', 'wont', 'u', 'ee', 'apple', 'aapl', \n",
        "               'via', 'inc', 'make', 'rt']\n",
        "stop_words.extend(extra_words)"
      ],
      "metadata": {
        "id": "akcSOT0GPsVQ"
      },
      "execution_count": 4,
      "outputs": []
    },
    {
      "cell_type": "markdown",
      "source": [
        "The next step that we'll cover below is selecting and tuning a model that can help predict where each post comes from. This is, in effect, a **binary classification** problem. To find the best model to use here, we'll carry out the following steps:\n",
        "\n",
        "1. Run a Train-Test-Split on our data\n",
        "2. Transform data using a vectorizer\n",
        "3. Fit model to training data\n",
        "4. Generate predictions using test data\n",
        "5. Evaluate model based on various evaluation metrics (accuracy, precision, recall, ROC-AUC).\n",
        "6. Select the best model and tune hyper-parameters\n",
        "\n",
        "Besides `CountVectorizer()`, we'll also be using `TfidfVectorizer()`. `TfidfVectorizer()` is pretty similar to `CountVectorizer()`, except that it looks at the frequency of words in our data. This means that it downweights words that appear in many posts, while upweighting the rarer words.\n",
        "\n",
        "We'll look to test a range of classification techniques including Logistic Regression, KNearest Neighbor Classifier, Boosting, Complement Naive Bayes classification and Decision tree classification.\n",
        "\n",
        "F1-score and accuracy will be our main metrics here with a higher focus on f1-score given that it would be ideal to minimize our false negatives. This is because false negatives are tweets with negative sentiments (y = 0) that are incorrectly predicted as positive sentiments (y = 1). As such, it would be more damaging if negative tweets were predicted as positive and were then missed as a result when filtering out negative tweets for purposes such as customer satisfaction monitoring. \n"
      ],
      "metadata": {
        "id": "OsuN71QDR9my"
      }
    },
    {
      "cell_type": "markdown",
      "source": [
        "#### Baseline"
      ],
      "metadata": {
        "id": "ny-mp9p_SALD"
      }
    },
    {
      "cell_type": "code",
      "source": [
        "# Baseline\n",
        "y = train_df['sentiment']\n",
        "y.value_counts(normalize=True)"
      ],
      "metadata": {
        "id": "wrixCbFSPsGl",
        "colab": {
          "base_uri": "https://localhost:8080/"
        },
        "outputId": "9ad4f2c0-1300-4199-a81b-5edb4464242b"
      },
      "execution_count": 5,
      "outputs": [
        {
          "output_type": "execute_result",
          "data": {
            "text/plain": [
              "0    0.651178\n",
              "1    0.348822\n",
              "Name: sentiment, dtype: float64"
            ]
          },
          "metadata": {},
          "execution_count": 5
        }
      ]
    },
    {
      "cell_type": "markdown",
      "source": [
        "To have something to compare our model against, we can use the normalized value of y which is the percentage of y within our target. This represents the simplest model we can use, where assigning a post randomly will give us a 65% chance of classifying it as a non-negative tweet. This will serve as a baseline for our model evaluation. This also shows that our model is imbalanced. \n",
        "\n",
        "Two ways to deal with the class imbalance are to use SMOTE or assign class weights. We will be using testing both methods and comparing the results. As this is a classification problem, we will be using the following models,\n",
        "\n",
        "- Logistic Regression\n",
        "- Complement Naive Bayes classifier\n",
        "- K Nearest Neighbor\n",
        "\n",
        "\n",
        "Note: The Complement Naive Bayes classifier was designed to correct the “severe assumptions” made by the standard Multinomial Naive Bayes classifier. It is particularly suited for imbalanced data sets."
      ],
      "metadata": {
        "id": "_gX-_DXcSEor"
      }
    },
    {
      "cell_type": "markdown",
      "source": [
        "# Train-Validation split"
      ],
      "metadata": {
        "id": "UXWohs_CSIO4"
      }
    },
    {
      "cell_type": "code",
      "source": [
        "X = train_df['text']\n",
        "y = train_df['sentiment']"
      ],
      "metadata": {
        "id": "hWLME_86PsCd"
      },
      "execution_count": 6,
      "outputs": []
    },
    {
      "cell_type": "code",
      "source": [
        "# Split our data into train and validation data: 80:20 split\n",
        "X_train, X_val, y_train, y_val = train_test_split(X, y, test_size=0.2, stratify=y, random_state=42)"
      ],
      "metadata": {
        "id": "ch_77SvxPr_v"
      },
      "execution_count": 7,
      "outputs": []
    },
    {
      "cell_type": "code",
      "source": [
        "X_train.shape"
      ],
      "metadata": {
        "id": "3RPbfmuQPr9V",
        "colab": {
          "base_uri": "https://localhost:8080/"
        },
        "outputId": "7c3482c7-bfed-4a36-f33f-19ab65559608"
      },
      "execution_count": 8,
      "outputs": [
        {
          "output_type": "execute_result",
          "data": {
            "text/plain": [
              "(2513,)"
            ]
          },
          "metadata": {},
          "execution_count": 8
        }
      ]
    },
    {
      "cell_type": "markdown",
      "source": [
        "# Model Preparation & Tuning\n",
        "\n",
        "Here, I instantiated a range of different vectorizers and models. To simplify my workflow slightly, I opted to create a function that utilises Sklearn's Pipeline tool that allows for easy fitting and transformation of data."
      ],
      "metadata": {
        "id": "8zvZ3FrMSYu5"
      }
    },
    {
      "cell_type": "code",
      "source": [
        "# Instantiate vectorizers\n",
        "vectorizers = {'cvec': CountVectorizer(stop_words = stop_words),\n",
        "               'tvec': TfidfVectorizer(stop_words = stop_words)}"
      ],
      "metadata": {
        "id": "f5c22XffPrxz"
      },
      "execution_count": 9,
      "outputs": []
    },
    {
      "cell_type": "code",
      "source": [
        "# Vectorizer hyperparameters\n",
        "cvec_params = {\n",
        "    # Setting a limit of n-number of features included/vocab size\n",
        "    'cvec__max_features': [None, 1_000],\n",
        "\n",
        "    # Setting a minimum number of times the word/token has to appear in n-documents\n",
        "    'cvec__min_df':[2, 3, 4],\n",
        "    \n",
        "    # Setting an upper threshold/max percentage of n% of documents from corpus \n",
        "    'cvec__max_df': [0.2, 0.3, 0.4],\n",
        "    \n",
        "    #'cvec__stop_words': [stop_words],\n",
        "    \n",
        "    # Testing with unigrams, bigrams and trigrams\n",
        "    'cvec__ngram_range':[(1,1), (1,2)]\n",
        "}\n",
        "\n",
        "tvec_params = {\n",
        "    'tvec__max_features': [None],\n",
        "    'tvec__min_df':[3, 4, 5],\n",
        "    'tvec__max_df': [0.2, 0.3, 0.4],\n",
        "    #'tvec__stop_words': [stop_words],\n",
        "    'tvec__ngram_range': [(1,1), (1,2)]\n",
        "}"
      ],
      "metadata": {
        "id": "Ifcpj60QShlj"
      },
      "execution_count": 10,
      "outputs": []
    },
    {
      "cell_type": "code",
      "source": [
        "# Instiantiate models (default)\n",
        "models = {'lr': LogisticRegression(random_state = 42),\n",
        "          'knn': KNeighborsClassifier(),\n",
        "          'cnb': ComplementNB()\n",
        "        }"
      ],
      "metadata": {
        "id": "o5k96-ZP5l6c"
      },
      "execution_count": 11,
      "outputs": []
    },
    {
      "cell_type": "code",
      "source": [
        "# model hyperparameters\n",
        "lr_params = {'lr__C':[0.5, 1, 10],\n",
        "             'lr__class_weight':[None, 'balanced'],\n",
        "             'lr__penalty':['l2', None],\n",
        "             'lr__solver':['newton-cg', 'sag']\n",
        "             }\n",
        "\n",
        "cnb_params = {'cnb__alpha': [0.1, 1, 2],\n",
        "              'cnb__fit_prior': [True, False],\n",
        "              'cnb__norm': [True, False]\n",
        "              }\n",
        "\n",
        "knn_params = {'knn__algorithm':['auto'],\n",
        "              'knn__weights':['uniform', 'distance']\n",
        "              }"
      ],
      "metadata": {
        "id": "ZvlfFQmvSnHW"
      },
      "execution_count": 12,
      "outputs": []
    },
    {
      "cell_type": "markdown",
      "source": [
        "There are a few parameters here that need a bit of explanation:\n",
        "\n",
        "- Alpha represents the level of regularization that we want to apply to our model -- in the case of our naive bayes model, this affects the level of LaPlace smoothing which helps to reduce the impact of zero probabilities in the case where none of the words in the training sample appear in the test sentence.\n",
        "\n",
        "\n",
        "- C is a penalty parameter, which represents misclassification or error term. The misclassification or error term tells the model how much error is bearable, which allows us to control the trade-off between decision boundary and misclassification term. When C is high it will classify all the data points correctly, but lead to a high risk of overfitting. Conversely, when C is low, it will 'smooth' out the decision boundary and could potentially lead to underfitting.\n",
        "\n",
        "\n",
        "- Gamma is a parameter that influences the calculation of plausible line of separation for SVM. When gamma is higher, nearby points will have high influence in the calculation of the decision boundary. Conversely, a low gamma means far away points also be considered when calculating the decision boundary.\n"
      ],
      "metadata": {
        "id": "Yf9KOMOJStpS"
      }
    },
    {
      "cell_type": "code",
      "source": [
        "# Function to run model -- input vectorizer and model\n",
        "def run_model(vec, mod, vec_params={}, mod_params={}, smote_model=True):\n",
        "    \n",
        "    results = {}\n",
        "    \n",
        "    if smote_model:\n",
        "      pipe = Pipeline1([\n",
        "                       (vec, vectorizers[vec]),\n",
        "                        # set random_state so our score does not change\n",
        "                       ('sampling', SMOTE(random_state = 42)),  \n",
        "                       (mod, models[mod])\n",
        "                       ])\n",
        "    else:\n",
        "      pipe = Pipeline([\n",
        "                       (vec, vectorizers[vec]),\n",
        "                       (mod, models[mod])\n",
        "                       ])\n",
        "    \n",
        "    gs = GridSearchCV(pipe, param_grid = {**vec_params, **mod_params}, \n",
        "                      scoring='f1', cv=5, verbose=1, n_jobs=-1)\n",
        "    gs.fit(X_train, y_train)\n",
        "    pipe = gs\n",
        "\n",
        "\n",
        "\n",
        "    \n",
        "    # Retrieve metrics\n",
        "    predictions = pipe.predict(X_val)\n",
        "    train_predict = pipe.predict(X_train)\n",
        "\n",
        "    results['model'] = mod\n",
        "    results['vectorizer'] = vec\n",
        "    results['train'] = pipe.score(X_train, y_train)\n",
        "    results['test'] = pipe.score(X_val, y_val)\n",
        "    results['train_acc'] = accuracy_score(y_train, train_predict)\n",
        "    results['val_acc'] = accuracy_score(y_val, predictions)\n",
        "    results['roc'] = roc_auc_score(y_val, predictions)\n",
        "    results['precision'] = precision_score(y_val, predictions)\n",
        "    results['recall'] = recall_score(y_val, predictions)\n",
        "    \n",
        "    if smote_model:\n",
        "        smote_tuning_list.append(results)\n",
        "        print('### BEST PARAMS ###')\n",
        "        display(pipe.best_params_)\n",
        "        display(pipe.best_score_)\n",
        "        \n",
        "    else:\n",
        "        tuning_list.append(results)\n",
        "        print('### BEST PARAMS ###')\n",
        "        display(pipe.best_params_)\n",
        "        display(pipe.best_score_)\n",
        "    \n",
        "    print('### METRICS ###')\n",
        "    display(results)\n",
        "    \n",
        "    tn, fp, fn, tp = confusion_matrix(y_val, predictions).ravel()\n",
        "    print(f\"True Negatives: {tn}\")\n",
        "    print(f\"False Positives: {fp}\")\n",
        "    print(f\"False Negatives: {fn}\")\n",
        "    print(f\"True Positives: {tp}\")\n",
        "    \n",
        "    return pipe"
      ],
      "metadata": {
        "id": "7qg2h8uou3aV"
      },
      "execution_count": 52,
      "outputs": []
    },
    {
      "cell_type": "code",
      "source": [
        "# Instantiate list to store tuning results\n",
        "tuning_list = []\n",
        "smote_tuning_list = []"
      ],
      "metadata": {
        "id": "0L_WE9TlSxXn"
      },
      "execution_count": 53,
      "outputs": []
    },
    {
      "cell_type": "code",
      "source": [
        "# Logistic Regression with CVEC - no smote\n",
        "%%time\n",
        "cvec_lr = run_model('cvec', 'lr', vec_params=cvec_params, mod_params=lr_params, \n",
        "                    smote_model=False)"
      ],
      "metadata": {
        "id": "kAHDM5rxS48Y",
        "colab": {
          "base_uri": "https://localhost:8080/",
          "height": 486
        },
        "outputId": "49213a78-0567-4759-ad62-f3066783a6c1"
      },
      "execution_count": 54,
      "outputs": [
        {
          "output_type": "stream",
          "name": "stdout",
          "text": [
            "Fitting 5 folds for each of 864 candidates, totalling 4320 fits\n",
            "### BEST PARAMS ###\n"
          ]
        },
        {
          "output_type": "display_data",
          "data": {
            "text/plain": [
              "{'cvec__max_df': 0.2,\n",
              " 'cvec__max_features': None,\n",
              " 'cvec__min_df': 2,\n",
              " 'cvec__ngram_range': (1, 2),\n",
              " 'lr__C': 1,\n",
              " 'lr__class_weight': 'balanced',\n",
              " 'lr__penalty': 'l2',\n",
              " 'lr__solver': 'sag'}"
            ]
          },
          "metadata": {}
        },
        {
          "output_type": "display_data",
          "data": {
            "text/plain": [
              "0.7203455026684711"
            ]
          },
          "metadata": {}
        },
        {
          "output_type": "stream",
          "name": "stdout",
          "text": [
            "### METRICS ###\n"
          ]
        },
        {
          "output_type": "display_data",
          "data": {
            "text/plain": [
              "{'model': 'lr',\n",
              " 'precision': 0.7263681592039801,\n",
              " 'recall': 0.6666666666666666,\n",
              " 'roc': 0.7662601626016259,\n",
              " 'test': 0.6952380952380953,\n",
              " 'train': 0.9518477043673013,\n",
              " 'train_acc': 0.9657779546358933,\n",
              " 'val_acc': 0.7965023847376789,\n",
              " 'vectorizer': 'cvec'}"
            ]
          },
          "metadata": {}
        },
        {
          "output_type": "stream",
          "name": "stdout",
          "text": [
            "True Negatives: 355\n",
            "False Positives: 55\n",
            "False Negatives: 73\n",
            "True Positives: 146\n",
            "CPU times: user 31.6 s, sys: 2.06 s, total: 33.6 s\n",
            "Wall time: 5min 2s\n"
          ]
        }
      ]
    },
    {
      "cell_type": "code",
      "source": [
        "# Logistic Regression with CVEC - smote\n",
        "%%time\n",
        "cvec_lr_sm = run_model('cvec', 'lr', vec_params=cvec_params, \n",
        "                       mod_params=lr_params, smote_model=True)"
      ],
      "metadata": {
        "id": "NHKa-AkyzK_4",
        "colab": {
          "base_uri": "https://localhost:8080/",
          "height": 486
        },
        "outputId": "0bb56aff-1368-48d6-95a7-79d2bbf476c4"
      },
      "execution_count": 55,
      "outputs": [
        {
          "output_type": "stream",
          "name": "stdout",
          "text": [
            "Fitting 5 folds for each of 864 candidates, totalling 4320 fits\n",
            "### BEST PARAMS ###\n"
          ]
        },
        {
          "output_type": "display_data",
          "data": {
            "text/plain": [
              "{'cvec__max_df': 0.2,\n",
              " 'cvec__max_features': None,\n",
              " 'cvec__min_df': 2,\n",
              " 'cvec__ngram_range': (1, 1),\n",
              " 'lr__C': 1,\n",
              " 'lr__class_weight': None,\n",
              " 'lr__penalty': 'l2',\n",
              " 'lr__solver': 'newton-cg'}"
            ]
          },
          "metadata": {}
        },
        {
          "output_type": "display_data",
          "data": {
            "text/plain": [
              "0.6696381723887457"
            ]
          },
          "metadata": {}
        },
        {
          "output_type": "stream",
          "name": "stdout",
          "text": [
            "### METRICS ###\n"
          ]
        },
        {
          "output_type": "display_data",
          "data": {
            "text/plain": [
              "{'model': 'lr',\n",
              " 'precision': 0.6178861788617886,\n",
              " 'recall': 0.6940639269406392,\n",
              " 'roc': 0.7323978171288562,\n",
              " 'test': 0.6537634408602151,\n",
              " 'train': 0.8949972512369434,\n",
              " 'train_acc': 0.9239952248308795,\n",
              " 'val_acc': 0.7440381558028617,\n",
              " 'vectorizer': 'cvec'}"
            ]
          },
          "metadata": {}
        },
        {
          "output_type": "stream",
          "name": "stdout",
          "text": [
            "True Negatives: 316\n",
            "False Positives: 94\n",
            "False Negatives: 67\n",
            "True Positives: 152\n",
            "CPU times: user 34.3 s, sys: 1.04 s, total: 35.4 s\n",
            "Wall time: 5min 53s\n"
          ]
        }
      ]
    },
    {
      "cell_type": "code",
      "source": [
        "# Logistic Regression with TVEC - no smote\n",
        "%%time\n",
        "tvec_lr = run_model('tvec', 'lr', vec_params=tvec_params, mod_params=lr_params, \n",
        "                    smote_model=False)"
      ],
      "metadata": {
        "id": "xXYka9KHzTiI",
        "colab": {
          "base_uri": "https://localhost:8080/",
          "height": 486
        },
        "outputId": "f78f8c63-e38f-4f12-b86d-f3b79fca54c2"
      },
      "execution_count": 56,
      "outputs": [
        {
          "output_type": "stream",
          "name": "stdout",
          "text": [
            "Fitting 5 folds for each of 432 candidates, totalling 2160 fits\n",
            "### BEST PARAMS ###\n"
          ]
        },
        {
          "output_type": "display_data",
          "data": {
            "text/plain": [
              "{'lr__C': 0.5,\n",
              " 'lr__class_weight': 'balanced',\n",
              " 'lr__penalty': 'l2',\n",
              " 'lr__solver': 'newton-cg',\n",
              " 'tvec__max_df': 0.2,\n",
              " 'tvec__max_features': None,\n",
              " 'tvec__min_df': 3,\n",
              " 'tvec__ngram_range': (1, 2)}"
            ]
          },
          "metadata": {}
        },
        {
          "output_type": "display_data",
          "data": {
            "text/plain": [
              "0.7126432679540826"
            ]
          },
          "metadata": {}
        },
        {
          "output_type": "stream",
          "name": "stdout",
          "text": [
            "### METRICS ###\n"
          ]
        },
        {
          "output_type": "display_data",
          "data": {
            "text/plain": [
              "{'model': 'lr',\n",
              " 'precision': 0.6807511737089202,\n",
              " 'recall': 0.6621004566210046,\n",
              " 'roc': 0.7481233990422096,\n",
              " 'test': 0.6712962962962964,\n",
              " 'train': 0.8509423186750428,\n",
              " 'train_acc': 0.8961400716275368,\n",
              " 'val_acc': 0.7742448330683624,\n",
              " 'vectorizer': 'tvec'}"
            ]
          },
          "metadata": {}
        },
        {
          "output_type": "stream",
          "name": "stdout",
          "text": [
            "True Negatives: 342\n",
            "False Positives: 68\n",
            "False Negatives: 74\n",
            "True Positives: 145\n",
            "CPU times: user 16.3 s, sys: 1 s, total: 17.3 s\n",
            "Wall time: 2min 6s\n"
          ]
        }
      ]
    },
    {
      "cell_type": "code",
      "source": [
        "# Logistic Regression with TVEC - smote\n",
        "%%time\n",
        "tvec_lr_sm = run_model('tvec', 'lr', vec_params=tvec_params, \n",
        "                       mod_params=lr_params, smote_model=True)"
      ],
      "metadata": {
        "id": "5UlRWK92S4Vw",
        "colab": {
          "base_uri": "https://localhost:8080/",
          "height": 486
        },
        "outputId": "60f9fb10-db94-42a2-f0aa-93398e0de697"
      },
      "execution_count": 57,
      "outputs": [
        {
          "output_type": "stream",
          "name": "stdout",
          "text": [
            "Fitting 5 folds for each of 432 candidates, totalling 2160 fits\n",
            "### BEST PARAMS ###\n"
          ]
        },
        {
          "output_type": "display_data",
          "data": {
            "text/plain": [
              "{'lr__C': 0.5,\n",
              " 'lr__class_weight': None,\n",
              " 'lr__penalty': 'l2',\n",
              " 'lr__solver': 'newton-cg',\n",
              " 'tvec__max_df': 0.2,\n",
              " 'tvec__max_features': None,\n",
              " 'tvec__min_df': 3,\n",
              " 'tvec__ngram_range': (1, 1)}"
            ]
          },
          "metadata": {}
        },
        {
          "output_type": "display_data",
          "data": {
            "text/plain": [
              "0.6947480783037555"
            ]
          },
          "metadata": {}
        },
        {
          "output_type": "stream",
          "name": "stdout",
          "text": [
            "### METRICS ###\n"
          ]
        },
        {
          "output_type": "display_data",
          "data": {
            "text/plain": [
              "{'model': 'lr',\n",
              " 'precision': 0.6462882096069869,\n",
              " 'recall': 0.6757990867579908,\n",
              " 'roc': 0.7391190555741174,\n",
              " 'test': 0.6607142857142857,\n",
              " 'train': 0.847206385404789,\n",
              " 'train_acc': 0.8933545563072025,\n",
              " 'val_acc': 0.7583465818759937,\n",
              " 'vectorizer': 'tvec'}"
            ]
          },
          "metadata": {}
        },
        {
          "output_type": "stream",
          "name": "stdout",
          "text": [
            "True Negatives: 329\n",
            "False Positives: 81\n",
            "False Negatives: 71\n",
            "True Positives: 148\n",
            "CPU times: user 17 s, sys: 496 ms, total: 17.5 s\n",
            "Wall time: 2min 31s\n"
          ]
        }
      ]
    },
    {
      "cell_type": "code",
      "source": [
        "# Complement Naive Bayes with CVEC - no smote\n",
        "%%time\n",
        "cvec_cnb = run_model('cvec', 'cnb', vec_params=cvec_params, \n",
        "                     mod_params=cnb_params, smote_model=False)"
      ],
      "metadata": {
        "id": "0N_8bSz3zeXi",
        "colab": {
          "base_uri": "https://localhost:8080/",
          "height": 468
        },
        "outputId": "7805a6ca-4bfb-43d9-b6b7-f05e3c66c469"
      },
      "execution_count": 58,
      "outputs": [
        {
          "output_type": "stream",
          "name": "stdout",
          "text": [
            "Fitting 5 folds for each of 432 candidates, totalling 2160 fits\n",
            "### BEST PARAMS ###\n"
          ]
        },
        {
          "output_type": "display_data",
          "data": {
            "text/plain": [
              "{'cnb__alpha': 2,\n",
              " 'cnb__fit_prior': True,\n",
              " 'cnb__norm': True,\n",
              " 'cvec__max_df': 0.2,\n",
              " 'cvec__max_features': None,\n",
              " 'cvec__min_df': 2,\n",
              " 'cvec__ngram_range': (1, 1)}"
            ]
          },
          "metadata": {}
        },
        {
          "output_type": "display_data",
          "data": {
            "text/plain": [
              "0.7174690523166714"
            ]
          },
          "metadata": {}
        },
        {
          "output_type": "stream",
          "name": "stdout",
          "text": [
            "### METRICS ###\n"
          ]
        },
        {
          "output_type": "display_data",
          "data": {
            "text/plain": [
              "{'model': 'cnb',\n",
              " 'precision': 0.6539923954372624,\n",
              " 'recall': 0.7853881278538812,\n",
              " 'roc': 0.7817184541708431,\n",
              " 'test': 0.7136929460580913,\n",
              " 'train': 0.8413793103448276,\n",
              " 'train_acc': 0.8810187027457222,\n",
              " 'val_acc': 0.78060413354531,\n",
              " 'vectorizer': 'cvec'}"
            ]
          },
          "metadata": {}
        },
        {
          "output_type": "stream",
          "name": "stdout",
          "text": [
            "True Negatives: 319\n",
            "False Positives: 91\n",
            "False Negatives: 47\n",
            "True Positives: 172\n",
            "CPU times: user 14.8 s, sys: 1.01 s, total: 15.8 s\n",
            "Wall time: 2min 2s\n"
          ]
        }
      ]
    },
    {
      "cell_type": "code",
      "source": [
        "# Complement Naive Bayes with CVEC - smote\n",
        "%%time\n",
        "cvec_cnb_sm = run_model('cvec', 'cnb', vec_params=cvec_params, \n",
        "                        mod_params=cnb_params, smote_model=True)"
      ],
      "metadata": {
        "id": "BhaIbdntS4RW",
        "colab": {
          "base_uri": "https://localhost:8080/",
          "height": 468
        },
        "outputId": "bf8a32cb-475d-4ac7-cd75-3d9719e7d643"
      },
      "execution_count": 59,
      "outputs": [
        {
          "output_type": "stream",
          "name": "stdout",
          "text": [
            "Fitting 5 folds for each of 432 candidates, totalling 2160 fits\n",
            "### BEST PARAMS ###\n"
          ]
        },
        {
          "output_type": "display_data",
          "data": {
            "text/plain": [
              "{'cnb__alpha': 2,\n",
              " 'cnb__fit_prior': True,\n",
              " 'cnb__norm': False,\n",
              " 'cvec__max_df': 0.2,\n",
              " 'cvec__max_features': None,\n",
              " 'cvec__min_df': 2,\n",
              " 'cvec__ngram_range': (1, 1)}"
            ]
          },
          "metadata": {}
        },
        {
          "output_type": "display_data",
          "data": {
            "text/plain": [
              "0.7184261995852019"
            ]
          },
          "metadata": {}
        },
        {
          "output_type": "stream",
          "name": "stdout",
          "text": [
            "### METRICS ###\n"
          ]
        },
        {
          "output_type": "display_data",
          "data": {
            "text/plain": [
              "{'model': 'cnb',\n",
              " 'precision': 0.6579925650557621,\n",
              " 'recall': 0.8082191780821918,\n",
              " 'roc': 0.7919144670898766,\n",
              " 'test': 0.7254098360655737,\n",
              " 'train': 0.8416050686378036,\n",
              " 'train_acc': 0.8806207719856745,\n",
              " 'val_acc': 0.7869634340222575,\n",
              " 'vectorizer': 'cvec'}"
            ]
          },
          "metadata": {}
        },
        {
          "output_type": "stream",
          "name": "stdout",
          "text": [
            "True Negatives: 318\n",
            "False Positives: 92\n",
            "False Negatives: 42\n",
            "True Positives: 177\n",
            "CPU times: user 15.8 s, sys: 620 ms, total: 16.4 s\n",
            "Wall time: 2min 25s\n"
          ]
        }
      ]
    },
    {
      "cell_type": "code",
      "source": [
        "# Complement Naive Bayes with TVEC - no smote\n",
        "%%time\n",
        "tvec_cnb = run_model('tvec', 'cnb', vec_params=tvec_params, \n",
        "                     mod_params=cnb_params, smote_model=False)"
      ],
      "metadata": {
        "id": "e_BtDb_-zhjP",
        "colab": {
          "base_uri": "https://localhost:8080/",
          "height": 468
        },
        "outputId": "209cc85b-5c07-4eb6-a16a-8a02ef2faba9"
      },
      "execution_count": 60,
      "outputs": [
        {
          "output_type": "stream",
          "name": "stdout",
          "text": [
            "Fitting 5 folds for each of 216 candidates, totalling 1080 fits\n",
            "### BEST PARAMS ###\n"
          ]
        },
        {
          "output_type": "display_data",
          "data": {
            "text/plain": [
              "{'cnb__alpha': 2,\n",
              " 'cnb__fit_prior': True,\n",
              " 'cnb__norm': True,\n",
              " 'tvec__max_df': 0.2,\n",
              " 'tvec__max_features': None,\n",
              " 'tvec__min_df': 4,\n",
              " 'tvec__ngram_range': (1, 1)}"
            ]
          },
          "metadata": {}
        },
        {
          "output_type": "display_data",
          "data": {
            "text/plain": [
              "0.7190590045128832"
            ]
          },
          "metadata": {}
        },
        {
          "output_type": "stream",
          "name": "stdout",
          "text": [
            "### METRICS ###\n"
          ]
        },
        {
          "output_type": "display_data",
          "data": {
            "text/plain": [
              "{'model': 'cnb',\n",
              " 'precision': 0.6363636363636364,\n",
              " 'recall': 0.7351598173515982,\n",
              " 'roc': 0.7553847867245796,\n",
              " 'test': 0.6822033898305085,\n",
              " 'train': 0.8014941302027748,\n",
              " 'train_acc': 0.8519697572622363,\n",
              " 'val_acc': 0.7615262321144675,\n",
              " 'vectorizer': 'tvec'}"
            ]
          },
          "metadata": {}
        },
        {
          "output_type": "stream",
          "name": "stdout",
          "text": [
            "True Negatives: 318\n",
            "False Positives: 92\n",
            "False Negatives: 58\n",
            "True Positives: 161\n",
            "CPU times: user 7.69 s, sys: 197 ms, total: 7.88 s\n",
            "Wall time: 58.3 s\n"
          ]
        }
      ]
    },
    {
      "cell_type": "code",
      "source": [
        "# Complement Naive Bayes with TVEC - smote\n",
        "%%time\n",
        "tvec_cnb_sm = run_model('tvec', 'cnb', vec_params=tvec_params, \n",
        "                        mod_params=cnb_params, smote_model=True)"
      ],
      "metadata": {
        "id": "jKzp6FSKS4LQ",
        "colab": {
          "base_uri": "https://localhost:8080/",
          "height": 468
        },
        "outputId": "2eacf83e-6c13-4e9b-9963-aae434b236ed"
      },
      "execution_count": 61,
      "outputs": [
        {
          "output_type": "stream",
          "name": "stdout",
          "text": [
            "Fitting 5 folds for each of 216 candidates, totalling 1080 fits\n",
            "### BEST PARAMS ###\n"
          ]
        },
        {
          "output_type": "display_data",
          "data": {
            "text/plain": [
              "{'cnb__alpha': 1,\n",
              " 'cnb__fit_prior': True,\n",
              " 'cnb__norm': False,\n",
              " 'tvec__max_df': 0.2,\n",
              " 'tvec__max_features': None,\n",
              " 'tvec__min_df': 4,\n",
              " 'tvec__ngram_range': (1, 1)}"
            ]
          },
          "metadata": {}
        },
        {
          "output_type": "display_data",
          "data": {
            "text/plain": [
              "0.7167462011686648"
            ]
          },
          "metadata": {}
        },
        {
          "output_type": "stream",
          "name": "stdout",
          "text": [
            "### METRICS ###\n"
          ]
        },
        {
          "output_type": "display_data",
          "data": {
            "text/plain": [
              "{'model': 'cnb',\n",
              " 'precision': 0.623574144486692,\n",
              " 'recall': 0.7488584474885844,\n",
              " 'roc': 0.753697516427219,\n",
              " 'test': 0.6804979253112033,\n",
              " 'train': 0.8074468085106383,\n",
              " 'train_acc': 0.8559490648627139,\n",
              " 'val_acc': 0.7551669316375199,\n",
              " 'vectorizer': 'tvec'}"
            ]
          },
          "metadata": {}
        },
        {
          "output_type": "stream",
          "name": "stdout",
          "text": [
            "True Negatives: 311\n",
            "False Positives: 99\n",
            "False Negatives: 55\n",
            "True Positives: 164\n",
            "CPU times: user 8.12 s, sys: 270 ms, total: 8.39 s\n",
            "Wall time: 1min 9s\n"
          ]
        }
      ]
    },
    {
      "cell_type": "code",
      "source": [
        "# KNearestNeighbor Classifier with CVEC - no smote\n",
        "%%time\n",
        "cvec_knn = run_model('cvec', 'knn', vec_params=cvec_params, \n",
        "                     mod_params=knn_params, smote_model=False)"
      ],
      "metadata": {
        "id": "cJieKhW3ZZyh",
        "colab": {
          "base_uri": "https://localhost:8080/",
          "height": 451
        },
        "outputId": "d5446ec5-df2d-4d5d-9ea9-059bd1f1814b"
      },
      "execution_count": 62,
      "outputs": [
        {
          "output_type": "stream",
          "name": "stdout",
          "text": [
            "Fitting 5 folds for each of 72 candidates, totalling 360 fits\n",
            "### BEST PARAMS ###\n"
          ]
        },
        {
          "output_type": "display_data",
          "data": {
            "text/plain": [
              "{'cvec__max_df': 0.2,\n",
              " 'cvec__max_features': None,\n",
              " 'cvec__min_df': 4,\n",
              " 'cvec__ngram_range': (1, 2),\n",
              " 'knn__algorithm': 'auto',\n",
              " 'knn__weights': 'distance'}"
            ]
          },
          "metadata": {}
        },
        {
          "output_type": "display_data",
          "data": {
            "text/plain": [
              "0.46151446202845053"
            ]
          },
          "metadata": {}
        },
        {
          "output_type": "stream",
          "name": "stdout",
          "text": [
            "### METRICS ###\n"
          ]
        },
        {
          "output_type": "display_data",
          "data": {
            "text/plain": [
              "{'model': 'knn',\n",
              " 'precision': 0.9012345679012346,\n",
              " 'recall': 0.3333333333333333,\n",
              " 'roc': 0.656910569105691,\n",
              " 'test': 0.48666666666666664,\n",
              " 'train': 0.9861431870669746,\n",
              " 'train_acc': 0.990449661758854,\n",
              " 'val_acc': 0.7551669316375199,\n",
              " 'vectorizer': 'cvec'}"
            ]
          },
          "metadata": {}
        },
        {
          "output_type": "stream",
          "name": "stdout",
          "text": [
            "True Negatives: 402\n",
            "False Positives: 8\n",
            "False Negatives: 146\n",
            "True Positives: 73\n",
            "CPU times: user 3.05 s, sys: 93.5 ms, total: 3.15 s\n",
            "Wall time: 27.9 s\n"
          ]
        }
      ]
    },
    {
      "cell_type": "code",
      "source": [
        "# KNearestNeighbor Classifier with CVEC - smote\n",
        "%%time\n",
        "cvec_knn_sm = run_model('cvec', 'knn', vec_params=cvec_params, \n",
        "                        mod_params=knn_params, smote_model=True)"
      ],
      "metadata": {
        "id": "coeH4Vzg0VUw",
        "colab": {
          "base_uri": "https://localhost:8080/",
          "height": 451
        },
        "outputId": "f05f7b72-e3a2-434a-d5e5-534820e9d630"
      },
      "execution_count": 63,
      "outputs": [
        {
          "output_type": "stream",
          "name": "stdout",
          "text": [
            "Fitting 5 folds for each of 72 candidates, totalling 360 fits\n",
            "### BEST PARAMS ###\n"
          ]
        },
        {
          "output_type": "display_data",
          "data": {
            "text/plain": [
              "{'cvec__max_df': 0.2,\n",
              " 'cvec__max_features': 1000,\n",
              " 'cvec__min_df': 2,\n",
              " 'cvec__ngram_range': (1, 2),\n",
              " 'knn__algorithm': 'auto',\n",
              " 'knn__weights': 'distance'}"
            ]
          },
          "metadata": {}
        },
        {
          "output_type": "display_data",
          "data": {
            "text/plain": [
              "0.6006452755128876"
            ]
          },
          "metadata": {}
        },
        {
          "output_type": "stream",
          "name": "stdout",
          "text": [
            "### METRICS ###\n"
          ]
        },
        {
          "output_type": "display_data",
          "data": {
            "text/plain": [
              "{'model': 'knn',\n",
              " 'precision': 0.47570332480818417,\n",
              " 'recall': 0.8493150684931506,\n",
              " 'roc': 0.6746575342465753,\n",
              " 'test': 0.6098360655737705,\n",
              " 'train': 0.9544444444444444,\n",
              " 'train_acc': 0.9673696776760844,\n",
              " 'val_acc': 0.6216216216216216,\n",
              " 'vectorizer': 'cvec'}"
            ]
          },
          "metadata": {}
        },
        {
          "output_type": "stream",
          "name": "stdout",
          "text": [
            "True Negatives: 205\n",
            "False Positives: 205\n",
            "False Negatives: 33\n",
            "True Positives: 186\n",
            "CPU times: user 3.33 s, sys: 89.4 ms, total: 3.41 s\n",
            "Wall time: 33.5 s\n"
          ]
        }
      ]
    },
    {
      "cell_type": "code",
      "source": [
        "# KNearestNeighbor Classifier with TVEC - no smote\n",
        "%%time\n",
        "tvec_knn = run_model('tvec', 'knn', vec_params=tvec_params, \n",
        "                     mod_params=knn_params, smote_model=False)"
      ],
      "metadata": {
        "id": "4oOzKcrX0YSX",
        "colab": {
          "base_uri": "https://localhost:8080/",
          "height": 451
        },
        "outputId": "0aedf291-f693-4d7e-b9f9-4c68df1536bc"
      },
      "execution_count": 64,
      "outputs": [
        {
          "output_type": "stream",
          "name": "stdout",
          "text": [
            "Fitting 5 folds for each of 36 candidates, totalling 180 fits\n",
            "### BEST PARAMS ###\n"
          ]
        },
        {
          "output_type": "display_data",
          "data": {
            "text/plain": [
              "{'knn__algorithm': 'auto',\n",
              " 'knn__weights': 'distance',\n",
              " 'tvec__max_df': 0.2,\n",
              " 'tvec__max_features': None,\n",
              " 'tvec__min_df': 5,\n",
              " 'tvec__ngram_range': (1, 1)}"
            ]
          },
          "metadata": {}
        },
        {
          "output_type": "display_data",
          "data": {
            "text/plain": [
              "0.3587523524730831"
            ]
          },
          "metadata": {}
        },
        {
          "output_type": "stream",
          "name": "stdout",
          "text": [
            "### METRICS ###\n"
          ]
        },
        {
          "output_type": "display_data",
          "data": {
            "text/plain": [
              "{'model': 'knn',\n",
              " 'precision': 0.7536231884057971,\n",
              " 'recall': 0.2374429223744292,\n",
              " 'roc': 0.5979897538701414,\n",
              " 'test': 0.3611111111111111,\n",
              " 'train': 0.9826187717265353,\n",
              " 'train_acc': 0.9880620771985674,\n",
              " 'val_acc': 0.7074721780604134,\n",
              " 'vectorizer': 'tvec'}"
            ]
          },
          "metadata": {}
        },
        {
          "output_type": "stream",
          "name": "stdout",
          "text": [
            "True Negatives: 393\n",
            "False Positives: 17\n",
            "False Negatives: 167\n",
            "True Positives: 52\n",
            "CPU times: user 1.72 s, sys: 43.4 ms, total: 1.76 s\n",
            "Wall time: 13.6 s\n"
          ]
        }
      ]
    },
    {
      "cell_type": "code",
      "source": [
        "# KNearestNeighbor Classifier with TVEC - smote\n",
        "%%time\n",
        "tvec_knn_sm = run_model('tvec', 'knn', vec_params=tvec_params, \n",
        "                        mod_params=knn_params, smote_model=True)"
      ],
      "metadata": {
        "id": "7hxkrjZP0dJf",
        "colab": {
          "base_uri": "https://localhost:8080/",
          "height": 451
        },
        "outputId": "f77c28fc-2f88-43c3-f127-d15b572eac1e"
      },
      "execution_count": 65,
      "outputs": [
        {
          "output_type": "stream",
          "name": "stdout",
          "text": [
            "Fitting 5 folds for each of 36 candidates, totalling 180 fits\n",
            "### BEST PARAMS ###\n"
          ]
        },
        {
          "output_type": "display_data",
          "data": {
            "text/plain": [
              "{'knn__algorithm': 'auto',\n",
              " 'knn__weights': 'distance',\n",
              " 'tvec__max_df': 0.2,\n",
              " 'tvec__max_features': None,\n",
              " 'tvec__min_df': 3,\n",
              " 'tvec__ngram_range': (1, 1)}"
            ]
          },
          "metadata": {}
        },
        {
          "output_type": "display_data",
          "data": {
            "text/plain": [
              "0.6348995239187852"
            ]
          },
          "metadata": {}
        },
        {
          "output_type": "stream",
          "name": "stdout",
          "text": [
            "### METRICS ###\n"
          ]
        },
        {
          "output_type": "display_data",
          "data": {
            "text/plain": [
              "{'model': 'knn',\n",
              " 'precision': 0.4824120603015075,\n",
              " 'recall': 0.8767123287671232,\n",
              " 'roc': 0.6871366521884397,\n",
              " 'test': 0.6223662884927066,\n",
              " 'train': 0.9878962536023055,\n",
              " 'train_acc': 0.9916434540389972,\n",
              " 'val_acc': 0.629570747217806,\n",
              " 'vectorizer': 'tvec'}"
            ]
          },
          "metadata": {}
        },
        {
          "output_type": "stream",
          "name": "stdout",
          "text": [
            "True Negatives: 204\n",
            "False Positives: 206\n",
            "False Negatives: 27\n",
            "True Positives: 192\n",
            "CPU times: user 1.9 s, sys: 53.4 ms, total: 1.96 s\n",
            "Wall time: 16.4 s\n"
          ]
        }
      ]
    },
    {
      "cell_type": "code",
      "source": [
        "tuning_list_df = pd.DataFrame(tuning_list)\n",
        "tuning_list_df['smote'] = 0\n",
        "tuning_list_df"
      ],
      "metadata": {
        "colab": {
          "base_uri": "https://localhost:8080/",
          "height": 238
        },
        "id": "6uTB0VX2uHto",
        "outputId": "15375070-784e-461d-8161-dd6275ce32f5"
      },
      "execution_count": 66,
      "outputs": [
        {
          "output_type": "execute_result",
          "data": {
            "text/html": [
              "\n",
              "  <div id=\"df-f299bbae-eb77-4b14-902e-a903a33a6413\">\n",
              "    <div class=\"colab-df-container\">\n",
              "      <div>\n",
              "<style scoped>\n",
              "    .dataframe tbody tr th:only-of-type {\n",
              "        vertical-align: middle;\n",
              "    }\n",
              "\n",
              "    .dataframe tbody tr th {\n",
              "        vertical-align: top;\n",
              "    }\n",
              "\n",
              "    .dataframe thead th {\n",
              "        text-align: right;\n",
              "    }\n",
              "</style>\n",
              "<table border=\"1\" class=\"dataframe\">\n",
              "  <thead>\n",
              "    <tr style=\"text-align: right;\">\n",
              "      <th></th>\n",
              "      <th>model</th>\n",
              "      <th>vectorizer</th>\n",
              "      <th>train</th>\n",
              "      <th>test</th>\n",
              "      <th>train_acc</th>\n",
              "      <th>val_acc</th>\n",
              "      <th>roc</th>\n",
              "      <th>precision</th>\n",
              "      <th>recall</th>\n",
              "      <th>smote</th>\n",
              "    </tr>\n",
              "  </thead>\n",
              "  <tbody>\n",
              "    <tr>\n",
              "      <th>0</th>\n",
              "      <td>lr</td>\n",
              "      <td>cvec</td>\n",
              "      <td>0.951848</td>\n",
              "      <td>0.695238</td>\n",
              "      <td>0.965778</td>\n",
              "      <td>0.796502</td>\n",
              "      <td>0.766260</td>\n",
              "      <td>0.726368</td>\n",
              "      <td>0.666667</td>\n",
              "      <td>0</td>\n",
              "    </tr>\n",
              "    <tr>\n",
              "      <th>1</th>\n",
              "      <td>lr</td>\n",
              "      <td>tvec</td>\n",
              "      <td>0.850942</td>\n",
              "      <td>0.671296</td>\n",
              "      <td>0.896140</td>\n",
              "      <td>0.774245</td>\n",
              "      <td>0.748123</td>\n",
              "      <td>0.680751</td>\n",
              "      <td>0.662100</td>\n",
              "      <td>0</td>\n",
              "    </tr>\n",
              "    <tr>\n",
              "      <th>2</th>\n",
              "      <td>cnb</td>\n",
              "      <td>cvec</td>\n",
              "      <td>0.841379</td>\n",
              "      <td>0.713693</td>\n",
              "      <td>0.881019</td>\n",
              "      <td>0.780604</td>\n",
              "      <td>0.781718</td>\n",
              "      <td>0.653992</td>\n",
              "      <td>0.785388</td>\n",
              "      <td>0</td>\n",
              "    </tr>\n",
              "    <tr>\n",
              "      <th>3</th>\n",
              "      <td>cnb</td>\n",
              "      <td>tvec</td>\n",
              "      <td>0.801494</td>\n",
              "      <td>0.682203</td>\n",
              "      <td>0.851970</td>\n",
              "      <td>0.761526</td>\n",
              "      <td>0.755385</td>\n",
              "      <td>0.636364</td>\n",
              "      <td>0.735160</td>\n",
              "      <td>0</td>\n",
              "    </tr>\n",
              "    <tr>\n",
              "      <th>4</th>\n",
              "      <td>knn</td>\n",
              "      <td>cvec</td>\n",
              "      <td>0.986143</td>\n",
              "      <td>0.486667</td>\n",
              "      <td>0.990450</td>\n",
              "      <td>0.755167</td>\n",
              "      <td>0.656911</td>\n",
              "      <td>0.901235</td>\n",
              "      <td>0.333333</td>\n",
              "      <td>0</td>\n",
              "    </tr>\n",
              "    <tr>\n",
              "      <th>5</th>\n",
              "      <td>knn</td>\n",
              "      <td>tvec</td>\n",
              "      <td>0.982619</td>\n",
              "      <td>0.361111</td>\n",
              "      <td>0.988062</td>\n",
              "      <td>0.707472</td>\n",
              "      <td>0.597990</td>\n",
              "      <td>0.753623</td>\n",
              "      <td>0.237443</td>\n",
              "      <td>0</td>\n",
              "    </tr>\n",
              "  </tbody>\n",
              "</table>\n",
              "</div>\n",
              "      <button class=\"colab-df-convert\" onclick=\"convertToInteractive('df-f299bbae-eb77-4b14-902e-a903a33a6413')\"\n",
              "              title=\"Convert this dataframe to an interactive table.\"\n",
              "              style=\"display:none;\">\n",
              "        \n",
              "  <svg xmlns=\"http://www.w3.org/2000/svg\" height=\"24px\"viewBox=\"0 0 24 24\"\n",
              "       width=\"24px\">\n",
              "    <path d=\"M0 0h24v24H0V0z\" fill=\"none\"/>\n",
              "    <path d=\"M18.56 5.44l.94 2.06.94-2.06 2.06-.94-2.06-.94-.94-2.06-.94 2.06-2.06.94zm-11 1L8.5 8.5l.94-2.06 2.06-.94-2.06-.94L8.5 2.5l-.94 2.06-2.06.94zm10 10l.94 2.06.94-2.06 2.06-.94-2.06-.94-.94-2.06-.94 2.06-2.06.94z\"/><path d=\"M17.41 7.96l-1.37-1.37c-.4-.4-.92-.59-1.43-.59-.52 0-1.04.2-1.43.59L10.3 9.45l-7.72 7.72c-.78.78-.78 2.05 0 2.83L4 21.41c.39.39.9.59 1.41.59.51 0 1.02-.2 1.41-.59l7.78-7.78 2.81-2.81c.8-.78.8-2.07 0-2.86zM5.41 20L4 18.59l7.72-7.72 1.47 1.35L5.41 20z\"/>\n",
              "  </svg>\n",
              "      </button>\n",
              "      \n",
              "  <style>\n",
              "    .colab-df-container {\n",
              "      display:flex;\n",
              "      flex-wrap:wrap;\n",
              "      gap: 12px;\n",
              "    }\n",
              "\n",
              "    .colab-df-convert {\n",
              "      background-color: #E8F0FE;\n",
              "      border: none;\n",
              "      border-radius: 50%;\n",
              "      cursor: pointer;\n",
              "      display: none;\n",
              "      fill: #1967D2;\n",
              "      height: 32px;\n",
              "      padding: 0 0 0 0;\n",
              "      width: 32px;\n",
              "    }\n",
              "\n",
              "    .colab-df-convert:hover {\n",
              "      background-color: #E2EBFA;\n",
              "      box-shadow: 0px 1px 2px rgba(60, 64, 67, 0.3), 0px 1px 3px 1px rgba(60, 64, 67, 0.15);\n",
              "      fill: #174EA6;\n",
              "    }\n",
              "\n",
              "    [theme=dark] .colab-df-convert {\n",
              "      background-color: #3B4455;\n",
              "      fill: #D2E3FC;\n",
              "    }\n",
              "\n",
              "    [theme=dark] .colab-df-convert:hover {\n",
              "      background-color: #434B5C;\n",
              "      box-shadow: 0px 1px 3px 1px rgba(0, 0, 0, 0.15);\n",
              "      filter: drop-shadow(0px 1px 2px rgba(0, 0, 0, 0.3));\n",
              "      fill: #FFFFFF;\n",
              "    }\n",
              "  </style>\n",
              "\n",
              "      <script>\n",
              "        const buttonEl =\n",
              "          document.querySelector('#df-f299bbae-eb77-4b14-902e-a903a33a6413 button.colab-df-convert');\n",
              "        buttonEl.style.display =\n",
              "          google.colab.kernel.accessAllowed ? 'block' : 'none';\n",
              "\n",
              "        async function convertToInteractive(key) {\n",
              "          const element = document.querySelector('#df-f299bbae-eb77-4b14-902e-a903a33a6413');\n",
              "          const dataTable =\n",
              "            await google.colab.kernel.invokeFunction('convertToInteractive',\n",
              "                                                     [key], {});\n",
              "          if (!dataTable) return;\n",
              "\n",
              "          const docLinkHtml = 'Like what you see? Visit the ' +\n",
              "            '<a target=\"_blank\" href=https://colab.research.google.com/notebooks/data_table.ipynb>data table notebook</a>'\n",
              "            + ' to learn more about interactive tables.';\n",
              "          element.innerHTML = '';\n",
              "          dataTable['output_type'] = 'display_data';\n",
              "          await google.colab.output.renderOutput(dataTable, element);\n",
              "          const docLink = document.createElement('div');\n",
              "          docLink.innerHTML = docLinkHtml;\n",
              "          element.appendChild(docLink);\n",
              "        }\n",
              "      </script>\n",
              "    </div>\n",
              "  </div>\n",
              "  "
            ],
            "text/plain": [
              "  model vectorizer     train      test  ...       roc  precision    recall  smote\n",
              "0    lr       cvec  0.951848  0.695238  ...  0.766260   0.726368  0.666667      0\n",
              "1    lr       tvec  0.850942  0.671296  ...  0.748123   0.680751  0.662100      0\n",
              "2   cnb       cvec  0.841379  0.713693  ...  0.781718   0.653992  0.785388      0\n",
              "3   cnb       tvec  0.801494  0.682203  ...  0.755385   0.636364  0.735160      0\n",
              "4   knn       cvec  0.986143  0.486667  ...  0.656911   0.901235  0.333333      0\n",
              "5   knn       tvec  0.982619  0.361111  ...  0.597990   0.753623  0.237443      0\n",
              "\n",
              "[6 rows x 10 columns]"
            ]
          },
          "metadata": {},
          "execution_count": 66
        }
      ]
    },
    {
      "cell_type": "code",
      "source": [
        "smote_tuning_list_df = pd.DataFrame(smote_tuning_list)\n",
        "smote_tuning_list_df['smote'] = 1\n",
        "smote_tuning_list_df"
      ],
      "metadata": {
        "colab": {
          "base_uri": "https://localhost:8080/",
          "height": 238
        },
        "id": "AsF7IqSeuHip",
        "outputId": "cffcee5a-6d99-49dd-9d1b-ee257ae71c85"
      },
      "execution_count": 67,
      "outputs": [
        {
          "output_type": "execute_result",
          "data": {
            "text/html": [
              "\n",
              "  <div id=\"df-64cd6f32-f9be-4c5c-9b3f-1893654a9a38\">\n",
              "    <div class=\"colab-df-container\">\n",
              "      <div>\n",
              "<style scoped>\n",
              "    .dataframe tbody tr th:only-of-type {\n",
              "        vertical-align: middle;\n",
              "    }\n",
              "\n",
              "    .dataframe tbody tr th {\n",
              "        vertical-align: top;\n",
              "    }\n",
              "\n",
              "    .dataframe thead th {\n",
              "        text-align: right;\n",
              "    }\n",
              "</style>\n",
              "<table border=\"1\" class=\"dataframe\">\n",
              "  <thead>\n",
              "    <tr style=\"text-align: right;\">\n",
              "      <th></th>\n",
              "      <th>model</th>\n",
              "      <th>vectorizer</th>\n",
              "      <th>train</th>\n",
              "      <th>test</th>\n",
              "      <th>train_acc</th>\n",
              "      <th>val_acc</th>\n",
              "      <th>roc</th>\n",
              "      <th>precision</th>\n",
              "      <th>recall</th>\n",
              "      <th>smote</th>\n",
              "    </tr>\n",
              "  </thead>\n",
              "  <tbody>\n",
              "    <tr>\n",
              "      <th>0</th>\n",
              "      <td>lr</td>\n",
              "      <td>cvec</td>\n",
              "      <td>0.894997</td>\n",
              "      <td>0.653763</td>\n",
              "      <td>0.923995</td>\n",
              "      <td>0.744038</td>\n",
              "      <td>0.732398</td>\n",
              "      <td>0.617886</td>\n",
              "      <td>0.694064</td>\n",
              "      <td>1</td>\n",
              "    </tr>\n",
              "    <tr>\n",
              "      <th>1</th>\n",
              "      <td>lr</td>\n",
              "      <td>tvec</td>\n",
              "      <td>0.847206</td>\n",
              "      <td>0.660714</td>\n",
              "      <td>0.893355</td>\n",
              "      <td>0.758347</td>\n",
              "      <td>0.739119</td>\n",
              "      <td>0.646288</td>\n",
              "      <td>0.675799</td>\n",
              "      <td>1</td>\n",
              "    </tr>\n",
              "    <tr>\n",
              "      <th>2</th>\n",
              "      <td>cnb</td>\n",
              "      <td>cvec</td>\n",
              "      <td>0.841605</td>\n",
              "      <td>0.725410</td>\n",
              "      <td>0.880621</td>\n",
              "      <td>0.786963</td>\n",
              "      <td>0.791914</td>\n",
              "      <td>0.657993</td>\n",
              "      <td>0.808219</td>\n",
              "      <td>1</td>\n",
              "    </tr>\n",
              "    <tr>\n",
              "      <th>3</th>\n",
              "      <td>cnb</td>\n",
              "      <td>tvec</td>\n",
              "      <td>0.807447</td>\n",
              "      <td>0.680498</td>\n",
              "      <td>0.855949</td>\n",
              "      <td>0.755167</td>\n",
              "      <td>0.753698</td>\n",
              "      <td>0.623574</td>\n",
              "      <td>0.748858</td>\n",
              "      <td>1</td>\n",
              "    </tr>\n",
              "    <tr>\n",
              "      <th>4</th>\n",
              "      <td>knn</td>\n",
              "      <td>cvec</td>\n",
              "      <td>0.954444</td>\n",
              "      <td>0.609836</td>\n",
              "      <td>0.967370</td>\n",
              "      <td>0.621622</td>\n",
              "      <td>0.674658</td>\n",
              "      <td>0.475703</td>\n",
              "      <td>0.849315</td>\n",
              "      <td>1</td>\n",
              "    </tr>\n",
              "    <tr>\n",
              "      <th>5</th>\n",
              "      <td>knn</td>\n",
              "      <td>tvec</td>\n",
              "      <td>0.987896</td>\n",
              "      <td>0.622366</td>\n",
              "      <td>0.991643</td>\n",
              "      <td>0.629571</td>\n",
              "      <td>0.687137</td>\n",
              "      <td>0.482412</td>\n",
              "      <td>0.876712</td>\n",
              "      <td>1</td>\n",
              "    </tr>\n",
              "  </tbody>\n",
              "</table>\n",
              "</div>\n",
              "      <button class=\"colab-df-convert\" onclick=\"convertToInteractive('df-64cd6f32-f9be-4c5c-9b3f-1893654a9a38')\"\n",
              "              title=\"Convert this dataframe to an interactive table.\"\n",
              "              style=\"display:none;\">\n",
              "        \n",
              "  <svg xmlns=\"http://www.w3.org/2000/svg\" height=\"24px\"viewBox=\"0 0 24 24\"\n",
              "       width=\"24px\">\n",
              "    <path d=\"M0 0h24v24H0V0z\" fill=\"none\"/>\n",
              "    <path d=\"M18.56 5.44l.94 2.06.94-2.06 2.06-.94-2.06-.94-.94-2.06-.94 2.06-2.06.94zm-11 1L8.5 8.5l.94-2.06 2.06-.94-2.06-.94L8.5 2.5l-.94 2.06-2.06.94zm10 10l.94 2.06.94-2.06 2.06-.94-2.06-.94-.94-2.06-.94 2.06-2.06.94z\"/><path d=\"M17.41 7.96l-1.37-1.37c-.4-.4-.92-.59-1.43-.59-.52 0-1.04.2-1.43.59L10.3 9.45l-7.72 7.72c-.78.78-.78 2.05 0 2.83L4 21.41c.39.39.9.59 1.41.59.51 0 1.02-.2 1.41-.59l7.78-7.78 2.81-2.81c.8-.78.8-2.07 0-2.86zM5.41 20L4 18.59l7.72-7.72 1.47 1.35L5.41 20z\"/>\n",
              "  </svg>\n",
              "      </button>\n",
              "      \n",
              "  <style>\n",
              "    .colab-df-container {\n",
              "      display:flex;\n",
              "      flex-wrap:wrap;\n",
              "      gap: 12px;\n",
              "    }\n",
              "\n",
              "    .colab-df-convert {\n",
              "      background-color: #E8F0FE;\n",
              "      border: none;\n",
              "      border-radius: 50%;\n",
              "      cursor: pointer;\n",
              "      display: none;\n",
              "      fill: #1967D2;\n",
              "      height: 32px;\n",
              "      padding: 0 0 0 0;\n",
              "      width: 32px;\n",
              "    }\n",
              "\n",
              "    .colab-df-convert:hover {\n",
              "      background-color: #E2EBFA;\n",
              "      box-shadow: 0px 1px 2px rgba(60, 64, 67, 0.3), 0px 1px 3px 1px rgba(60, 64, 67, 0.15);\n",
              "      fill: #174EA6;\n",
              "    }\n",
              "\n",
              "    [theme=dark] .colab-df-convert {\n",
              "      background-color: #3B4455;\n",
              "      fill: #D2E3FC;\n",
              "    }\n",
              "\n",
              "    [theme=dark] .colab-df-convert:hover {\n",
              "      background-color: #434B5C;\n",
              "      box-shadow: 0px 1px 3px 1px rgba(0, 0, 0, 0.15);\n",
              "      filter: drop-shadow(0px 1px 2px rgba(0, 0, 0, 0.3));\n",
              "      fill: #FFFFFF;\n",
              "    }\n",
              "  </style>\n",
              "\n",
              "      <script>\n",
              "        const buttonEl =\n",
              "          document.querySelector('#df-64cd6f32-f9be-4c5c-9b3f-1893654a9a38 button.colab-df-convert');\n",
              "        buttonEl.style.display =\n",
              "          google.colab.kernel.accessAllowed ? 'block' : 'none';\n",
              "\n",
              "        async function convertToInteractive(key) {\n",
              "          const element = document.querySelector('#df-64cd6f32-f9be-4c5c-9b3f-1893654a9a38');\n",
              "          const dataTable =\n",
              "            await google.colab.kernel.invokeFunction('convertToInteractive',\n",
              "                                                     [key], {});\n",
              "          if (!dataTable) return;\n",
              "\n",
              "          const docLinkHtml = 'Like what you see? Visit the ' +\n",
              "            '<a target=\"_blank\" href=https://colab.research.google.com/notebooks/data_table.ipynb>data table notebook</a>'\n",
              "            + ' to learn more about interactive tables.';\n",
              "          element.innerHTML = '';\n",
              "          dataTable['output_type'] = 'display_data';\n",
              "          await google.colab.output.renderOutput(dataTable, element);\n",
              "          const docLink = document.createElement('div');\n",
              "          docLink.innerHTML = docLinkHtml;\n",
              "          element.appendChild(docLink);\n",
              "        }\n",
              "      </script>\n",
              "    </div>\n",
              "  </div>\n",
              "  "
            ],
            "text/plain": [
              "  model vectorizer     train      test  ...       roc  precision    recall  smote\n",
              "0    lr       cvec  0.894997  0.653763  ...  0.732398   0.617886  0.694064      1\n",
              "1    lr       tvec  0.847206  0.660714  ...  0.739119   0.646288  0.675799      1\n",
              "2   cnb       cvec  0.841605  0.725410  ...  0.791914   0.657993  0.808219      1\n",
              "3   cnb       tvec  0.807447  0.680498  ...  0.753698   0.623574  0.748858      1\n",
              "4   knn       cvec  0.954444  0.609836  ...  0.674658   0.475703  0.849315      1\n",
              "5   knn       tvec  0.987896  0.622366  ...  0.687137   0.482412  0.876712      1\n",
              "\n",
              "[6 rows x 10 columns]"
            ]
          },
          "metadata": {},
          "execution_count": 67
        }
      ]
    },
    {
      "cell_type": "code",
      "source": [
        "# Combining unsmoted and smote results\n",
        "results_df = pd.concat([tuning_list_df, smote_tuning_list_df])\n",
        "results_df.reset_index(drop=True, inplace=True)\n",
        "results_df"
      ],
      "metadata": {
        "colab": {
          "base_uri": "https://localhost:8080/",
          "height": 426
        },
        "id": "hVCDocyTNYOs",
        "outputId": "a6df6855-0c96-4913-9ab2-220352d1a1c2"
      },
      "execution_count": 68,
      "outputs": [
        {
          "output_type": "execute_result",
          "data": {
            "text/html": [
              "\n",
              "  <div id=\"df-72a2ce8b-9bdb-44d2-8106-4f80430995b4\">\n",
              "    <div class=\"colab-df-container\">\n",
              "      <div>\n",
              "<style scoped>\n",
              "    .dataframe tbody tr th:only-of-type {\n",
              "        vertical-align: middle;\n",
              "    }\n",
              "\n",
              "    .dataframe tbody tr th {\n",
              "        vertical-align: top;\n",
              "    }\n",
              "\n",
              "    .dataframe thead th {\n",
              "        text-align: right;\n",
              "    }\n",
              "</style>\n",
              "<table border=\"1\" class=\"dataframe\">\n",
              "  <thead>\n",
              "    <tr style=\"text-align: right;\">\n",
              "      <th></th>\n",
              "      <th>model</th>\n",
              "      <th>vectorizer</th>\n",
              "      <th>train</th>\n",
              "      <th>test</th>\n",
              "      <th>train_acc</th>\n",
              "      <th>val_acc</th>\n",
              "      <th>roc</th>\n",
              "      <th>precision</th>\n",
              "      <th>recall</th>\n",
              "      <th>smote</th>\n",
              "    </tr>\n",
              "  </thead>\n",
              "  <tbody>\n",
              "    <tr>\n",
              "      <th>0</th>\n",
              "      <td>lr</td>\n",
              "      <td>cvec</td>\n",
              "      <td>0.951848</td>\n",
              "      <td>0.695238</td>\n",
              "      <td>0.965778</td>\n",
              "      <td>0.796502</td>\n",
              "      <td>0.766260</td>\n",
              "      <td>0.726368</td>\n",
              "      <td>0.666667</td>\n",
              "      <td>0</td>\n",
              "    </tr>\n",
              "    <tr>\n",
              "      <th>1</th>\n",
              "      <td>lr</td>\n",
              "      <td>tvec</td>\n",
              "      <td>0.850942</td>\n",
              "      <td>0.671296</td>\n",
              "      <td>0.896140</td>\n",
              "      <td>0.774245</td>\n",
              "      <td>0.748123</td>\n",
              "      <td>0.680751</td>\n",
              "      <td>0.662100</td>\n",
              "      <td>0</td>\n",
              "    </tr>\n",
              "    <tr>\n",
              "      <th>2</th>\n",
              "      <td>cnb</td>\n",
              "      <td>cvec</td>\n",
              "      <td>0.841379</td>\n",
              "      <td>0.713693</td>\n",
              "      <td>0.881019</td>\n",
              "      <td>0.780604</td>\n",
              "      <td>0.781718</td>\n",
              "      <td>0.653992</td>\n",
              "      <td>0.785388</td>\n",
              "      <td>0</td>\n",
              "    </tr>\n",
              "    <tr>\n",
              "      <th>3</th>\n",
              "      <td>cnb</td>\n",
              "      <td>tvec</td>\n",
              "      <td>0.801494</td>\n",
              "      <td>0.682203</td>\n",
              "      <td>0.851970</td>\n",
              "      <td>0.761526</td>\n",
              "      <td>0.755385</td>\n",
              "      <td>0.636364</td>\n",
              "      <td>0.735160</td>\n",
              "      <td>0</td>\n",
              "    </tr>\n",
              "    <tr>\n",
              "      <th>4</th>\n",
              "      <td>knn</td>\n",
              "      <td>cvec</td>\n",
              "      <td>0.986143</td>\n",
              "      <td>0.486667</td>\n",
              "      <td>0.990450</td>\n",
              "      <td>0.755167</td>\n",
              "      <td>0.656911</td>\n",
              "      <td>0.901235</td>\n",
              "      <td>0.333333</td>\n",
              "      <td>0</td>\n",
              "    </tr>\n",
              "    <tr>\n",
              "      <th>5</th>\n",
              "      <td>knn</td>\n",
              "      <td>tvec</td>\n",
              "      <td>0.982619</td>\n",
              "      <td>0.361111</td>\n",
              "      <td>0.988062</td>\n",
              "      <td>0.707472</td>\n",
              "      <td>0.597990</td>\n",
              "      <td>0.753623</td>\n",
              "      <td>0.237443</td>\n",
              "      <td>0</td>\n",
              "    </tr>\n",
              "    <tr>\n",
              "      <th>6</th>\n",
              "      <td>lr</td>\n",
              "      <td>cvec</td>\n",
              "      <td>0.894997</td>\n",
              "      <td>0.653763</td>\n",
              "      <td>0.923995</td>\n",
              "      <td>0.744038</td>\n",
              "      <td>0.732398</td>\n",
              "      <td>0.617886</td>\n",
              "      <td>0.694064</td>\n",
              "      <td>1</td>\n",
              "    </tr>\n",
              "    <tr>\n",
              "      <th>7</th>\n",
              "      <td>lr</td>\n",
              "      <td>tvec</td>\n",
              "      <td>0.847206</td>\n",
              "      <td>0.660714</td>\n",
              "      <td>0.893355</td>\n",
              "      <td>0.758347</td>\n",
              "      <td>0.739119</td>\n",
              "      <td>0.646288</td>\n",
              "      <td>0.675799</td>\n",
              "      <td>1</td>\n",
              "    </tr>\n",
              "    <tr>\n",
              "      <th>8</th>\n",
              "      <td>cnb</td>\n",
              "      <td>cvec</td>\n",
              "      <td>0.841605</td>\n",
              "      <td>0.725410</td>\n",
              "      <td>0.880621</td>\n",
              "      <td>0.786963</td>\n",
              "      <td>0.791914</td>\n",
              "      <td>0.657993</td>\n",
              "      <td>0.808219</td>\n",
              "      <td>1</td>\n",
              "    </tr>\n",
              "    <tr>\n",
              "      <th>9</th>\n",
              "      <td>cnb</td>\n",
              "      <td>tvec</td>\n",
              "      <td>0.807447</td>\n",
              "      <td>0.680498</td>\n",
              "      <td>0.855949</td>\n",
              "      <td>0.755167</td>\n",
              "      <td>0.753698</td>\n",
              "      <td>0.623574</td>\n",
              "      <td>0.748858</td>\n",
              "      <td>1</td>\n",
              "    </tr>\n",
              "    <tr>\n",
              "      <th>10</th>\n",
              "      <td>knn</td>\n",
              "      <td>cvec</td>\n",
              "      <td>0.954444</td>\n",
              "      <td>0.609836</td>\n",
              "      <td>0.967370</td>\n",
              "      <td>0.621622</td>\n",
              "      <td>0.674658</td>\n",
              "      <td>0.475703</td>\n",
              "      <td>0.849315</td>\n",
              "      <td>1</td>\n",
              "    </tr>\n",
              "    <tr>\n",
              "      <th>11</th>\n",
              "      <td>knn</td>\n",
              "      <td>tvec</td>\n",
              "      <td>0.987896</td>\n",
              "      <td>0.622366</td>\n",
              "      <td>0.991643</td>\n",
              "      <td>0.629571</td>\n",
              "      <td>0.687137</td>\n",
              "      <td>0.482412</td>\n",
              "      <td>0.876712</td>\n",
              "      <td>1</td>\n",
              "    </tr>\n",
              "  </tbody>\n",
              "</table>\n",
              "</div>\n",
              "      <button class=\"colab-df-convert\" onclick=\"convertToInteractive('df-72a2ce8b-9bdb-44d2-8106-4f80430995b4')\"\n",
              "              title=\"Convert this dataframe to an interactive table.\"\n",
              "              style=\"display:none;\">\n",
              "        \n",
              "  <svg xmlns=\"http://www.w3.org/2000/svg\" height=\"24px\"viewBox=\"0 0 24 24\"\n",
              "       width=\"24px\">\n",
              "    <path d=\"M0 0h24v24H0V0z\" fill=\"none\"/>\n",
              "    <path d=\"M18.56 5.44l.94 2.06.94-2.06 2.06-.94-2.06-.94-.94-2.06-.94 2.06-2.06.94zm-11 1L8.5 8.5l.94-2.06 2.06-.94-2.06-.94L8.5 2.5l-.94 2.06-2.06.94zm10 10l.94 2.06.94-2.06 2.06-.94-2.06-.94-.94-2.06-.94 2.06-2.06.94z\"/><path d=\"M17.41 7.96l-1.37-1.37c-.4-.4-.92-.59-1.43-.59-.52 0-1.04.2-1.43.59L10.3 9.45l-7.72 7.72c-.78.78-.78 2.05 0 2.83L4 21.41c.39.39.9.59 1.41.59.51 0 1.02-.2 1.41-.59l7.78-7.78 2.81-2.81c.8-.78.8-2.07 0-2.86zM5.41 20L4 18.59l7.72-7.72 1.47 1.35L5.41 20z\"/>\n",
              "  </svg>\n",
              "      </button>\n",
              "      \n",
              "  <style>\n",
              "    .colab-df-container {\n",
              "      display:flex;\n",
              "      flex-wrap:wrap;\n",
              "      gap: 12px;\n",
              "    }\n",
              "\n",
              "    .colab-df-convert {\n",
              "      background-color: #E8F0FE;\n",
              "      border: none;\n",
              "      border-radius: 50%;\n",
              "      cursor: pointer;\n",
              "      display: none;\n",
              "      fill: #1967D2;\n",
              "      height: 32px;\n",
              "      padding: 0 0 0 0;\n",
              "      width: 32px;\n",
              "    }\n",
              "\n",
              "    .colab-df-convert:hover {\n",
              "      background-color: #E2EBFA;\n",
              "      box-shadow: 0px 1px 2px rgba(60, 64, 67, 0.3), 0px 1px 3px 1px rgba(60, 64, 67, 0.15);\n",
              "      fill: #174EA6;\n",
              "    }\n",
              "\n",
              "    [theme=dark] .colab-df-convert {\n",
              "      background-color: #3B4455;\n",
              "      fill: #D2E3FC;\n",
              "    }\n",
              "\n",
              "    [theme=dark] .colab-df-convert:hover {\n",
              "      background-color: #434B5C;\n",
              "      box-shadow: 0px 1px 3px 1px rgba(0, 0, 0, 0.15);\n",
              "      filter: drop-shadow(0px 1px 2px rgba(0, 0, 0, 0.3));\n",
              "      fill: #FFFFFF;\n",
              "    }\n",
              "  </style>\n",
              "\n",
              "      <script>\n",
              "        const buttonEl =\n",
              "          document.querySelector('#df-72a2ce8b-9bdb-44d2-8106-4f80430995b4 button.colab-df-convert');\n",
              "        buttonEl.style.display =\n",
              "          google.colab.kernel.accessAllowed ? 'block' : 'none';\n",
              "\n",
              "        async function convertToInteractive(key) {\n",
              "          const element = document.querySelector('#df-72a2ce8b-9bdb-44d2-8106-4f80430995b4');\n",
              "          const dataTable =\n",
              "            await google.colab.kernel.invokeFunction('convertToInteractive',\n",
              "                                                     [key], {});\n",
              "          if (!dataTable) return;\n",
              "\n",
              "          const docLinkHtml = 'Like what you see? Visit the ' +\n",
              "            '<a target=\"_blank\" href=https://colab.research.google.com/notebooks/data_table.ipynb>data table notebook</a>'\n",
              "            + ' to learn more about interactive tables.';\n",
              "          element.innerHTML = '';\n",
              "          dataTable['output_type'] = 'display_data';\n",
              "          await google.colab.output.renderOutput(dataTable, element);\n",
              "          const docLink = document.createElement('div');\n",
              "          docLink.innerHTML = docLinkHtml;\n",
              "          element.appendChild(docLink);\n",
              "        }\n",
              "      </script>\n",
              "    </div>\n",
              "  </div>\n",
              "  "
            ],
            "text/plain": [
              "   model vectorizer     train      test  ...       roc  precision    recall  smote\n",
              "0     lr       cvec  0.951848  0.695238  ...  0.766260   0.726368  0.666667      0\n",
              "1     lr       tvec  0.850942  0.671296  ...  0.748123   0.680751  0.662100      0\n",
              "2    cnb       cvec  0.841379  0.713693  ...  0.781718   0.653992  0.785388      0\n",
              "3    cnb       tvec  0.801494  0.682203  ...  0.755385   0.636364  0.735160      0\n",
              "4    knn       cvec  0.986143  0.486667  ...  0.656911   0.901235  0.333333      0\n",
              "5    knn       tvec  0.982619  0.361111  ...  0.597990   0.753623  0.237443      0\n",
              "6     lr       cvec  0.894997  0.653763  ...  0.732398   0.617886  0.694064      1\n",
              "7     lr       tvec  0.847206  0.660714  ...  0.739119   0.646288  0.675799      1\n",
              "8    cnb       cvec  0.841605  0.725410  ...  0.791914   0.657993  0.808219      1\n",
              "9    cnb       tvec  0.807447  0.680498  ...  0.753698   0.623574  0.748858      1\n",
              "10   knn       cvec  0.954444  0.609836  ...  0.674658   0.475703  0.849315      1\n",
              "11   knn       tvec  0.987896  0.622366  ...  0.687137   0.482412  0.876712      1\n",
              "\n",
              "[12 rows x 10 columns]"
            ]
          },
          "metadata": {},
          "execution_count": 68
        }
      ]
    },
    {
      "cell_type": "code",
      "source": [
        "# Exporting results\n",
        "results_df.to_csv('./drive/My Drive/GA/capstone/data/MLmetrics_df.csv')"
      ],
      "metadata": {
        "id": "fUZ3qTKiDzWz"
      },
      "execution_count": 69,
      "outputs": []
    }
  ]
}
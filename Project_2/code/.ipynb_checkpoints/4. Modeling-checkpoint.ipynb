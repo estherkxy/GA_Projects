{
 "cells": [
  {
   "cell_type": "markdown",
   "id": "4e66025a",
   "metadata": {},
   "source": [
    "<img src=\"http://imgur.com/1ZcRyrc.png\" style=\"float: left; margin: 20px; height: 55px\">\n",
    "\n",
    "# Project 2: Ames Housing Data and Kaggle Challenge"
   ]
  },
  {
   "cell_type": "markdown",
   "id": "1397e2cf",
   "metadata": {},
   "source": [
    "### Notebook 4/4: Modeling, Selection and Insights\n",
    "\n",
    "Notebook 1: Preliminary EDA of 'train' dataset .<br>\n",
    "Notebook 2: Cleaning and Modfications of 'train' and 'test' datasets.<br>\n",
    "Notebook 3: Preprocessing and Feature Engineering.<br>\n",
    "Notebook 4: Modeling, Selection and Insights"
   ]
  },
  {
   "cell_type": "code",
   "execution_count": 1,
   "id": "7914f791",
   "metadata": {},
   "outputs": [],
   "source": [
    "# Importing libraries\n",
    "import pandas as pd\n",
    "import numpy as np\n",
    "import matplotlib.pyplot as plt\n",
    "import seaborn as sns\n",
    "%matplotlib inline\n",
    "\n",
    "from sklearn.model_selection import train_test_split, cross_val_score\n",
    "from sklearn.feature_selection import SelectKBest, f_regression\n",
    "from sklearn.linear_model import LinearRegression, Lasso, Ridge, ElasticNet, LassoCV, RidgeCV, ElasticNetCV\n",
    "from sklearn.preprocessing import StandardScaler\n",
    "from sklearn.metrics import mean_squared_error, r2_score\n",
    "\n",
    "from scipy import stats\n",
    "import statsmodels.api as sm\n",
    "from statsmodels.stats.outliers_influence import variance_inflation_factor"
   ]
  },
  {
   "cell_type": "code",
   "execution_count": 2,
   "id": "44d9cbc9",
   "metadata": {},
   "outputs": [],
   "source": [
    "# Import cleaned dataset\n",
    "train = pd.read_csv('../datasets/train_final.csv')"
   ]
  },
  {
   "cell_type": "code",
   "execution_count": 3,
   "id": "05f17c4f",
   "metadata": {},
   "outputs": [],
   "source": [
    "# Import cleaned testset and save IDs separately\n",
    "test_ids = pd.read_csv('../datasets/test.csv')['Id']\n",
    "test = pd.read_csv('../datasets/test_final.csv')"
   ]
  },
  {
   "cell_type": "markdown",
   "id": "07c527bb",
   "metadata": {},
   "source": [
    "### Model Preparation"
   ]
  },
  {
   "cell_type": "markdown",
   "id": "33f905d6",
   "metadata": {},
   "source": [
    "#### Train-Test Split + Scaling"
   ]
  },
  {
   "cell_type": "markdown",
   "id": "a8865707",
   "metadata": {},
   "source": [
    "Here we are going to standardise our dataset in order to avoid penalising any features due to their scale. "
   ]
  },
  {
   "cell_type": "code",
   "execution_count": 4,
   "id": "89a23419",
   "metadata": {},
   "outputs": [],
   "source": [
    "features = [col for col in train._get_numeric_data().columns if col !='SalePrice']"
   ]
  },
  {
   "cell_type": "code",
   "execution_count": 5,
   "id": "64bb84df",
   "metadata": {},
   "outputs": [],
   "source": [
    "X = train[features]\n",
    "y = train['SalePrice']"
   ]
  },
  {
   "cell_type": "code",
   "execution_count": 6,
   "id": "5c3f3597",
   "metadata": {},
   "outputs": [],
   "source": [
    "X_train, X_test, y_train, y_test = train_test_split(X, y, test_size=0.3, random_state=42)"
   ]
  },
  {
   "cell_type": "code",
   "execution_count": 7,
   "id": "1837a8a2",
   "metadata": {},
   "outputs": [],
   "source": [
    "ss = StandardScaler()\n",
    "ss.fit(X_train)\n",
    "\n",
    "X_train_scaled = ss.transform(X_train)\n",
    "X_test_scaled = ss.transform(X_test)"
   ]
  },
  {
   "cell_type": "code",
   "execution_count": 8,
   "id": "aea58eda",
   "metadata": {},
   "outputs": [],
   "source": [
    "# Instantiate Models \n",
    "# Trying out a few different types of regularisation methods as there is still multicollinearity in our dataset\n",
    "\n",
    "lr = LinearRegression()"
   ]
  },
  {
   "cell_type": "code",
   "execution_count": 9,
   "id": "2e8e1945",
   "metadata": {},
   "outputs": [],
   "source": [
    "ridge = RidgeCV(alphas = np.linspace(1, 200, 100))"
   ]
  },
  {
   "cell_type": "code",
   "execution_count": 10,
   "id": "6c6f0acd",
   "metadata": {},
   "outputs": [],
   "source": [
    "lasso = LassoCV(n_alphas = 100)"
   ]
  },
  {
   "cell_type": "code",
   "execution_count": 12,
   "id": "b6c928b4",
   "metadata": {},
   "outputs": [],
   "source": [
    "enet_alphas = np.arange(0.5, 1.0, 0.005)\n",
    "enet_ratio = 0.5\n",
    "enet = ElasticNetCV(alphas = enet_alphas, l1_ratio = enet_ratio, cv=5)"
   ]
  },
  {
   "cell_type": "markdown",
   "id": "2ee364ad",
   "metadata": {},
   "source": [
    "### Model Evaluation\n",
    "#### Cross Validation \n",
    "Evaluating the model using `cross_val_score`"
   ]
  },
  {
   "cell_type": "code",
   "execution_count": 16,
   "id": "86356357",
   "metadata": {},
   "outputs": [
    {
     "name": "stdout",
     "output_type": "stream",
     "text": [
      "Linear Regression\n",
      "R2: 0.8604472922747325\n",
      "RSME: 28941.779912968297\n"
     ]
    }
   ],
   "source": [
    "# Testing our linear regression model on unseen data\n",
    "print('Linear Regression')\n",
    "lr_cv_scores = cross_val_score(lr, X_train_scaled, y_train, cv = 5)\n",
    "print('R2:', lr_cv_scores.mean())\n",
    "lr_cv_mse_scores = -cross_val_score(lr, X_train_scaled, y_train, cv = 5, scoring ='neg_mean_squared_error')\n",
    "print('RSME:', np.sqrt(lr_cv_mse_scores.mean()))"
   ]
  },
  {
   "cell_type": "code",
   "execution_count": 17,
   "id": "20a3ba96",
   "metadata": {},
   "outputs": [
    {
     "name": "stdout",
     "output_type": "stream",
     "text": [
      "Ridge Regession\n",
      "R2: 0.8627690215773794\n",
      "RSME: 28708.854805098512\n"
     ]
    }
   ],
   "source": [
    "# Testing our ridge regression model on unseen data\n",
    "print('Ridge Regession')\n",
    "ridge_cv_scores = cross_val_score(ridge, X_train_scaled, y_train, cv = 5)\n",
    "print('R2:', ridge_cv_scores.mean())\n",
    "ridge_cv_mse_scores = -cross_val_score(ridge, X_train_scaled, y_train, cv = 5, scoring ='neg_mean_squared_error')\n",
    "print('RSME:', np.sqrt(ridge_cv_mse_scores.mean()))\n"
   ]
  },
  {
   "cell_type": "code",
   "execution_count": 18,
   "id": "a8d7fb0c",
   "metadata": {},
   "outputs": [
    {
     "name": "stdout",
     "output_type": "stream",
     "text": [
      "Lasso Regression\n",
      "R2: 0.8630282070820601\n",
      "RSME: 28709.91682794398\n"
     ]
    }
   ],
   "source": [
    "# Testing our lasso regression model on unseen data\n",
    "print('Lasso Regression')\n",
    "lasso_cv_scores = cross_val_score(lasso, X_train_scaled, y_train, cv = 5)\n",
    "print('R2:', lasso_cv_scores.mean())\n",
    "lasso_cv_mse_scores = -cross_val_score(lasso, X_train_scaled, y_train, cv = 5, scoring ='neg_mean_squared_error')\n",
    "print('RSME:', np.sqrt(lasso_cv_mse_scores.mean()))"
   ]
  },
  {
   "cell_type": "code",
   "execution_count": 19,
   "id": "bf12e5b6",
   "metadata": {},
   "outputs": [
    {
     "name": "stdout",
     "output_type": "stream",
     "text": [
      "Elasticnet Regression\n",
      "R2: 0.8614564516416318\n",
      "RSME: 28879.764400435717\n"
     ]
    }
   ],
   "source": [
    "# Testing our elasticnet regression model on unseen data\n",
    "print('Elasticnet Regression')\n",
    "enet_cv_scores = cross_val_score(enet, X_train_scaled, y_train, cv = 5)\n",
    "print('R2:', enet_cv_scores.mean())\n",
    "enet_cv_mse_scores = -cross_val_score(enet, X_train_scaled, y_train,cv = 5, scoring ='neg_mean_squared_error')\n",
    "print('RSME:', np.sqrt(enet_cv_mse_scores.mean()))"
   ]
  },
  {
   "cell_type": "markdown",
   "id": "b923ae82",
   "metadata": {},
   "source": [
    "Comparing all the different types of regularisation, we can see that the normal linear regression model has the worst performance with the highest RMSE score. Based on the above scores, the ridge model has the best performance with an R2 score of 0.863 and an RMSE score of 28708.85 which is marginally better than the rest. \n"
   ]
  },
  {
   "cell_type": "markdown",
   "id": "d1782923",
   "metadata": {},
   "source": [
    "#### Standard Linear Regression"
   ]
  },
  {
   "cell_type": "code",
   "execution_count": 20,
   "id": "91d68af0",
   "metadata": {},
   "outputs": [
    {
     "name": "stdout",
     "output_type": "stream",
     "text": [
      "Training R2(LR): 0.8901597290384285\n",
      "Testing R2(LR): 0.8701849129031728\n",
      "Estimate of Testing R2(LR): 0.8604472922747325\n"
     ]
    }
   ],
   "source": [
    "lr.fit(X_train_scaled,y_train)\n",
    "\n",
    "print(\"Training R2(LR): \" + str(lr.score(X_train_scaled,y_train)))\n",
    "print(\"Testing R2(LR): \" + str(lr.score(X_test_scaled,y_test)))\n",
    "print(\"Estimate of Testing R2(LR): \" + str(lr_cv_scores.mean()))"
   ]
  },
  {
   "cell_type": "code",
   "execution_count": 21,
   "id": "548dd81e",
   "metadata": {},
   "outputs": [
    {
     "name": "stdout",
     "output_type": "stream",
     "text": [
      "Training RMSE(LR): 25870.02586469693\n",
      "Testing RMSE(LR): 29503.906494842435\n",
      "Estimate of Testing RMSE(LR): 28941.779912968297\n"
     ]
    }
   ],
   "source": [
    "print(\"Training RMSE(LR): \" + str(np.sqrt(mean_squared_error(y_train, lr.predict(X_train_scaled)))))\n",
    "print(\"Testing RMSE(LR): \" + str(np.sqrt(mean_squared_error(y_test,lr.predict(X_test_scaled)))))\n",
    "print(\"Estimate of Testing RMSE(LR): \" + str(np.sqrt(lr_cv_mse_scores.mean())))"
   ]
  },
  {
   "cell_type": "markdown",
   "id": "344eb670",
   "metadata": {},
   "source": [
    "Based on the above scores, we can see that the model is slightly overfitted as the accuracy between our train and validation data has decreased. \n",
    "\n",
    "Next, we will see how the ridge model fares."
   ]
  },
  {
   "cell_type": "markdown",
   "id": "e352cc9d",
   "metadata": {},
   "source": [
    "#### Ridge Regression"
   ]
  },
  {
   "cell_type": "code",
   "execution_count": 23,
   "id": "3e453a20",
   "metadata": {},
   "outputs": [],
   "source": [
    "ridge.fit(X_train_scaled, y_train);"
   ]
  },
  {
   "cell_type": "code",
   "execution_count": 24,
   "id": "5234f316",
   "metadata": {},
   "outputs": [
    {
     "data": {
      "text/plain": [
       "79.39393939393939"
      ]
     },
     "execution_count": 24,
     "metadata": {},
     "output_type": "execute_result"
    }
   ],
   "source": [
    "# Optimal ridge alpha\n",
    "best_ridge_alpha = ridge.alpha_\n",
    "best_ridge_alpha"
   ]
  },
  {
   "cell_type": "code",
   "execution_count": 25,
   "id": "b8ac46c1",
   "metadata": {},
   "outputs": [],
   "source": [
    "# Create new ridge model with optimal alpha and fit to training data\n",
    "ridge = Ridge(alpha = best_ridge_alpha)\n",
    "ridge.fit(X_train_scaled, y_train);"
   ]
  },
  {
   "cell_type": "code",
   "execution_count": 26,
   "id": "c070f878",
   "metadata": {},
   "outputs": [
    {
     "name": "stdout",
     "output_type": "stream",
     "text": [
      "Training R2(ridge) 0.887632169031072\n",
      "Testing R2(ridge) 0.8721019106113936\n",
      "Estimate of Testing R2(ridge) 0.8627690215773794\n"
     ]
    }
   ],
   "source": [
    "print(\"Training R2(ridge) \" + str(ridge.score(X_train_scaled,y_train)))\n",
    "print(\"Testing R2(ridge) \" + str(ridge.score(X_test_scaled,y_test)))\n",
    "print(\"Estimate of Testing R2(ridge) \" + str(ridge_cv_scores.mean()))"
   ]
  },
  {
   "cell_type": "code",
   "execution_count": 28,
   "id": "b87131a6",
   "metadata": {},
   "outputs": [
    {
     "name": "stdout",
     "output_type": "stream",
     "text": [
      "Training MSE(Ridge)  26165.98354980433\n",
      "Testing MSE(Ridge)  29285.25209230535\n",
      "Estimate of Testing RMSE (Ridge) 28708.854805098512\n"
     ]
    }
   ],
   "source": [
    "print(\"Training MSE(Ridge) \", np.sqrt(mean_squared_error(y_train, ridge.predict(X_train_scaled))))\n",
    "print(\"Testing MSE(Ridge) \", np.sqrt(mean_squared_error(y_test, ridge.predict(X_test_scaled))))\n",
    "print(\"Estimate of Testing RMSE (Ridge) \" + str(np.sqrt(ridge_cv_mse_scores.mean())))"
   ]
  },
  {
   "cell_type": "markdown",
   "id": "db77a928",
   "metadata": {},
   "source": [
    "The ridge model seems to be overfitted as well, but is seen to produce slightly better results that the standard linear model regression."
   ]
  },
  {
   "cell_type": "markdown",
   "id": "f02d6860",
   "metadata": {},
   "source": [
    "#### Lasso Regression"
   ]
  },
  {
   "cell_type": "code",
   "execution_count": 29,
   "id": "d99c9570",
   "metadata": {},
   "outputs": [
    {
     "data": {
      "text/plain": [
       "LassoCV()"
      ]
     },
     "execution_count": 29,
     "metadata": {},
     "output_type": "execute_result"
    }
   ],
   "source": [
    "# Fit LassoCV model to data\n",
    "lasso.fit(X_train_scaled, y_train)"
   ]
  },
  {
   "cell_type": "code",
   "execution_count": 30,
   "id": "f87b4a0c",
   "metadata": {},
   "outputs": [
    {
     "data": {
      "text/plain": [
       "409.92423001925744"
      ]
     },
     "execution_count": 30,
     "metadata": {},
     "output_type": "execute_result"
    }
   ],
   "source": [
    "# Generate best alpha\n",
    "best_lasso_alpha = lasso.alpha_\n",
    "best_lasso_alpha"
   ]
  },
  {
   "cell_type": "code",
   "execution_count": 31,
   "id": "4e74d721",
   "metadata": {},
   "outputs": [
    {
     "data": {
      "text/plain": [
       "Lasso(alpha=409.92423001925744)"
      ]
     },
     "execution_count": 31,
     "metadata": {},
     "output_type": "execute_result"
    }
   ],
   "source": [
    "# Create new lasso model with optimal alpha and fit to training data\n",
    "lasso = Lasso(alpha = best_lasso_alpha)\n",
    "lasso.fit(X_train_scaled, y_train)"
   ]
  },
  {
   "cell_type": "code",
   "execution_count": 32,
   "id": "ae4aa970",
   "metadata": {},
   "outputs": [
    {
     "name": "stdout",
     "output_type": "stream",
     "text": [
      "Training R2(Lasso)  0.8843022182829392\n",
      "Testing R2(Lasso): 0.8711869150899787\n",
      "Estimate of Testing R2(Lasso): 0.8630282070820601\n"
     ]
    }
   ],
   "source": [
    "print(\"Training R2(Lasso) \", lasso.score(X_train_scaled, y_train))\n",
    "print(\"Testing R2(Lasso):\", lasso.score(X_test_scaled, y_test))\n",
    "print(\"Estimate of Testing R2(Lasso):\", lasso_cv_scores.mean())"
   ]
  },
  {
   "cell_type": "code",
   "execution_count": 33,
   "id": "474ae5df",
   "metadata": {},
   "outputs": [
    {
     "name": "stdout",
     "output_type": "stream",
     "text": [
      "Training RMSE(Lasso): 26550.859299074313\n",
      "Testing RMSE(Lasso): 29389.820191103838\n",
      "Estimate of Testing RMSE(Lasso): 28709.91682794398\n"
     ]
    }
   ],
   "source": [
    "print(\"Training RMSE(Lasso):\", np.sqrt(mean_squared_error(y_train, lasso.predict(X_train_scaled))))\n",
    "print(\"Testing RMSE(Lasso):\", np.sqrt(mean_squared_error(y_test, lasso.predict(X_test_scaled))))\n",
    "print(\"Estimate of Testing RMSE(Lasso):\", np.sqrt(lasso_cv_mse_scores.mean()))"
   ]
  },
  {
   "cell_type": "markdown",
   "id": "22976f6d",
   "metadata": {},
   "source": [
    "The lasso model is also overfitted but as with the ridge model, it produces better results than the standard linear regression model. Comparing the lasso and ridge model, the ridge model seems to have a slightly better performance. "
   ]
  },
  {
   "cell_type": "markdown",
   "id": "84060263",
   "metadata": {},
   "source": [
    "#### ElasticNet Regression"
   ]
  },
  {
   "cell_type": "code",
   "execution_count": 38,
   "id": "0af3eaa8",
   "metadata": {},
   "outputs": [],
   "source": [
    "enet_alphas = np.arange(0.01, 1.0, 0.005)\n",
    "enet_ratio = 0.5\n",
    "enet = ElasticNetCV(alphas = enet_alphas, l1_ratio = enet_ratio, cv = 5, max_iter = 5000)\n",
    "enet = enet.fit(X_train_scaled, y_train)"
   ]
  },
  {
   "cell_type": "code",
   "execution_count": 39,
   "id": "8db76ce8",
   "metadata": {},
   "outputs": [
    {
     "data": {
      "text/plain": [
       "0.18999999999999997"
      ]
     },
     "execution_count": 39,
     "metadata": {},
     "output_type": "execute_result"
    }
   ],
   "source": [
    "# Optimal Enet Alpha\n",
    "enet_optimal_alpha = enet.alpha_\n",
    "enet_optimal_alpha"
   ]
  },
  {
   "cell_type": "code",
   "execution_count": 40,
   "id": "0f16b090",
   "metadata": {},
   "outputs": [
    {
     "data": {
      "text/plain": [
       "ElasticNet(alpha=0.18999999999999997)"
      ]
     },
     "execution_count": 40,
     "metadata": {},
     "output_type": "execute_result"
    }
   ],
   "source": [
    "# Create new enet model with optimal alpha and fit to training data\n",
    "enet = ElasticNet(alpha = enet_optimal_alpha)\n",
    "enet.fit(X_train_scaled, y_train)"
   ]
  },
  {
   "cell_type": "code",
   "execution_count": 41,
   "id": "18dea004",
   "metadata": {},
   "outputs": [
    {
     "data": {
      "text/plain": [
       "0.8627814498766352"
      ]
     },
     "execution_count": 41,
     "metadata": {},
     "output_type": "execute_result"
    }
   ],
   "source": [
    "enet_cv_scores = cross_val_score(enet,X_train_scaled,y_train,cv=5)\n",
    "enet_cv_scores.mean()"
   ]
  },
  {
   "cell_type": "code",
   "execution_count": 42,
   "id": "6fe12593",
   "metadata": {},
   "outputs": [
    {
     "data": {
      "text/plain": [
       "28709.725427892543"
      ]
     },
     "execution_count": 42,
     "metadata": {},
     "output_type": "execute_result"
    }
   ],
   "source": [
    "enet_cv_mse_scores = -cross_val_score(enet,X_train_scaled,y_train,cv=5, scoring ='neg_mean_squared_error')\n",
    "np.sqrt(enet_cv_mse_scores.mean())"
   ]
  },
  {
   "cell_type": "code",
   "execution_count": 43,
   "id": "3b6ba0a6",
   "metadata": {},
   "outputs": [
    {
     "name": "stdout",
     "output_type": "stream",
     "text": [
      "Training R2(ElasticNet): 0.8861550319542072\n",
      "Testing R2(ElasticNet): 0.8711454413435138\n",
      "Estimate of Testing R2(ElasticNet):  0.8627814498766352\n"
     ]
    }
   ],
   "source": [
    "print('Training R2(ElasticNet):', enet.score(X_train_scaled, y_train))\n",
    "print('Testing R2(ElasticNet):', enet.score(X_test_scaled, y_test))\n",
    "print('Estimate of Testing R2(ElasticNet): ', enet_cv_scores.mean())"
   ]
  },
  {
   "cell_type": "code",
   "execution_count": 44,
   "id": "f6c5217a",
   "metadata": {},
   "outputs": [
    {
     "name": "stdout",
     "output_type": "stream",
     "text": [
      "Training MSE(ElasticNet): 26337.40516964228\n",
      "Testing MSE(ElasticNet): 29394.551107437346\n",
      "Estimate of Testing RMSE(ElasticNet): 28709.725427892543\n"
     ]
    }
   ],
   "source": [
    "print('Training MSE(ElasticNet):', np.sqrt(mean_squared_error(y_train, enet.predict(X_train_scaled))))\n",
    "print('Testing MSE(ElasticNet):', np.sqrt(mean_squared_error(y_test, enet.predict(X_test_scaled))))\n",
    "print('Estimate of Testing RMSE(ElasticNet):', np.sqrt(enet_cv_mse_scores.mean()))"
   ]
  },
  {
   "cell_type": "markdown",
   "id": "1749e2a3",
   "metadata": {},
   "source": [
    "The ElasticNet model is also overfitted and fares slightly better than the standard linear regression model but is worse off when compared to the ridge and lasso model. "
   ]
  },
  {
   "cell_type": "markdown",
   "id": "39d6ace9",
   "metadata": {},
   "source": [
    "### Submission"
   ]
  },
  {
   "cell_type": "code",
   "execution_count": 45,
   "id": "36478a09",
   "metadata": {},
   "outputs": [
    {
     "data": {
      "text/plain": [
       "0.8858303715892194"
      ]
     },
     "execution_count": 45,
     "metadata": {},
     "output_type": "execute_result"
    }
   ],
   "source": [
    "# Refit model on entire training dataset\n",
    "X_scaled = ss.fit_transform(X)\n",
    "lasso = LassoCV()\n",
    "lasso.fit(X_scaled, y)\n",
    "lasso.score(X_scaled,y)"
   ]
  },
  {
   "cell_type": "code",
   "execution_count": 47,
   "id": "16a10069",
   "metadata": {},
   "outputs": [
    {
     "name": "stdout",
     "output_type": "stream",
     "text": [
      "Total Features before Lasso regression: 120\n",
      "Features Zeroed by Lasso regression: 16\n",
      "Features Remaining after Lasso regression: 104\n"
     ]
    }
   ],
   "source": [
    "# Remaining features after zeroing by lasso regression\n",
    "print('Total Features before Lasso regression:', len(features))\n",
    "print('Features Zeroed by Lasso regression:', len(lasso.coef_[lasso.coef_ == 0]))\n",
    "print('Features Remaining after Lasso regression:', len(features) - len(lasso.coef_[lasso.coef_ == 0]))\n"
   ]
  },
  {
   "cell_type": "code",
   "execution_count": 50,
   "id": "7c554447",
   "metadata": {},
   "outputs": [],
   "source": [
    "final_test_scaled = ss.transform(test)"
   ]
  },
  {
   "cell_type": "code",
   "execution_count": 51,
   "id": "e0d81238",
   "metadata": {},
   "outputs": [],
   "source": [
    "final_predictions = lasso.predict(final_test_scaled)"
   ]
  },
  {
   "cell_type": "code",
   "execution_count": 52,
   "id": "fd721dde",
   "metadata": {},
   "outputs": [],
   "source": [
    "test['SalePrice'] = final_predictions"
   ]
  },
  {
   "cell_type": "code",
   "execution_count": 53,
   "id": "b2037070",
   "metadata": {},
   "outputs": [],
   "source": [
    "test['Id'] = test_ids"
   ]
  },
  {
   "cell_type": "code",
   "execution_count": 54,
   "id": "ccbac24d",
   "metadata": {},
   "outputs": [
    {
     "data": {
      "text/html": [
       "<div>\n",
       "<style scoped>\n",
       "    .dataframe tbody tr th:only-of-type {\n",
       "        vertical-align: middle;\n",
       "    }\n",
       "\n",
       "    .dataframe tbody tr th {\n",
       "        vertical-align: top;\n",
       "    }\n",
       "\n",
       "    .dataframe thead th {\n",
       "        text-align: right;\n",
       "    }\n",
       "</style>\n",
       "<table border=\"1\" class=\"dataframe\">\n",
       "  <thead>\n",
       "    <tr style=\"text-align: right;\">\n",
       "      <th></th>\n",
       "      <th>Id</th>\n",
       "      <th>SalePrice</th>\n",
       "    </tr>\n",
       "  </thead>\n",
       "  <tbody>\n",
       "    <tr>\n",
       "      <th>0</th>\n",
       "      <td>2658</td>\n",
       "      <td>148482.399200</td>\n",
       "    </tr>\n",
       "    <tr>\n",
       "      <th>1</th>\n",
       "      <td>2718</td>\n",
       "      <td>152002.442472</td>\n",
       "    </tr>\n",
       "    <tr>\n",
       "      <th>2</th>\n",
       "      <td>2414</td>\n",
       "      <td>239786.155158</td>\n",
       "    </tr>\n",
       "    <tr>\n",
       "      <th>3</th>\n",
       "      <td>1989</td>\n",
       "      <td>115708.173243</td>\n",
       "    </tr>\n",
       "    <tr>\n",
       "      <th>4</th>\n",
       "      <td>625</td>\n",
       "      <td>189361.657803</td>\n",
       "    </tr>\n",
       "  </tbody>\n",
       "</table>\n",
       "</div>"
      ],
      "text/plain": [
       "     Id      SalePrice\n",
       "0  2658  148482.399200\n",
       "1  2718  152002.442472\n",
       "2  2414  239786.155158\n",
       "3  1989  115708.173243\n",
       "4   625  189361.657803"
      ]
     },
     "execution_count": 54,
     "metadata": {},
     "output_type": "execute_result"
    }
   ],
   "source": [
    "# Create csv for submission\n",
    "submission = test[['Id','SalePrice']]\n",
    "submission.to_csv('../datasets/kaggle_submission.csv', index=False)\n",
    "\n",
    "#View submission\n",
    "submission.head()"
   ]
  },
  {
   "cell_type": "code",
   "execution_count": 55,
   "id": "c093e5f7",
   "metadata": {},
   "outputs": [
    {
     "data": {
      "text/plain": [
       "(878, 2)"
      ]
     },
     "execution_count": 55,
     "metadata": {},
     "output_type": "execute_result"
    }
   ],
   "source": [
    "submission.shape"
   ]
  },
  {
   "cell_type": "code",
   "execution_count": 56,
   "id": "5b7e09b5",
   "metadata": {},
   "outputs": [
    {
     "data": {
      "text/plain": [
       "0.8875069742095555"
      ]
     },
     "execution_count": 56,
     "metadata": {},
     "output_type": "execute_result"
    }
   ],
   "source": [
    "# Refit model on entire training dataset\n",
    "X_scaled = ss.fit_transform(X)\n",
    "ridge = RidgeCV()\n",
    "ridge.fit(X_scaled, y)\n",
    "ridge.score(X_scaled,y)"
   ]
  },
  {
   "cell_type": "code",
   "execution_count": 57,
   "id": "db11ffa5",
   "metadata": {},
   "outputs": [
    {
     "name": "stdout",
     "output_type": "stream",
     "text": [
      "Total Features before Ridge regression: 120\n",
      "Features Zeroed by Ridge regression: 0\n",
      "Features Remaining after Ridge regression: 120\n"
     ]
    }
   ],
   "source": [
    "# Remaining features after zeroing by lasso regression\n",
    "print('Total Features before Ridge regression:', len(features))\n",
    "print('Features Zeroed by Ridge regression:', len(ridge.coef_[ridge.coef_ == 0]))\n",
    "print('Features Remaining after Ridge regression:', len(features) - len(ridge.coef_[ridge.coef_ == 0]))"
   ]
  },
  {
   "cell_type": "code",
   "execution_count": 58,
   "id": "3c4c994a",
   "metadata": {},
   "outputs": [],
   "source": [
    "final_predictions_ridge = ridge.predict(final_test_scaled)"
   ]
  },
  {
   "cell_type": "code",
   "execution_count": 59,
   "id": "1fef4938",
   "metadata": {},
   "outputs": [
    {
     "data": {
      "text/html": [
       "<div>\n",
       "<style scoped>\n",
       "    .dataframe tbody tr th:only-of-type {\n",
       "        vertical-align: middle;\n",
       "    }\n",
       "\n",
       "    .dataframe tbody tr th {\n",
       "        vertical-align: top;\n",
       "    }\n",
       "\n",
       "    .dataframe thead th {\n",
       "        text-align: right;\n",
       "    }\n",
       "</style>\n",
       "<table border=\"1\" class=\"dataframe\">\n",
       "  <thead>\n",
       "    <tr style=\"text-align: right;\">\n",
       "      <th></th>\n",
       "      <th>Id</th>\n",
       "      <th>SalePrice</th>\n",
       "    </tr>\n",
       "  </thead>\n",
       "  <tbody>\n",
       "    <tr>\n",
       "      <th>0</th>\n",
       "      <td>2658</td>\n",
       "      <td>147559.204134</td>\n",
       "    </tr>\n",
       "    <tr>\n",
       "      <th>1</th>\n",
       "      <td>2718</td>\n",
       "      <td>148973.857461</td>\n",
       "    </tr>\n",
       "    <tr>\n",
       "      <th>2</th>\n",
       "      <td>2414</td>\n",
       "      <td>237862.607321</td>\n",
       "    </tr>\n",
       "    <tr>\n",
       "      <th>3</th>\n",
       "      <td>1989</td>\n",
       "      <td>114770.346934</td>\n",
       "    </tr>\n",
       "    <tr>\n",
       "      <th>4</th>\n",
       "      <td>625</td>\n",
       "      <td>188368.951680</td>\n",
       "    </tr>\n",
       "  </tbody>\n",
       "</table>\n",
       "</div>"
      ],
      "text/plain": [
       "     Id      SalePrice\n",
       "0  2658  147559.204134\n",
       "1  2718  148973.857461\n",
       "2  2414  237862.607321\n",
       "3  1989  114770.346934\n",
       "4   625  188368.951680"
      ]
     },
     "execution_count": 59,
     "metadata": {},
     "output_type": "execute_result"
    }
   ],
   "source": [
    "test['SalePrice'] = final_predictions_ridge\n",
    "test['Id'] = test_ids\n",
    "\n",
    "# Create csv for submission\n",
    "submission_ridge = test[['Id','SalePrice']]\n",
    "submission_ridge.to_csv('../datasets/kaggle_submission_ridge.csv', index=False)\n",
    "\n",
    "#View submission\n",
    "submission_ridge.head()"
   ]
  },
  {
   "cell_type": "code",
   "execution_count": 60,
   "id": "50acd210",
   "metadata": {},
   "outputs": [
    {
     "data": {
      "text/plain": [
       "(878, 2)"
      ]
     },
     "execution_count": 60,
     "metadata": {},
     "output_type": "execute_result"
    }
   ],
   "source": [
    "submission_ridge.shape"
   ]
  },
  {
   "cell_type": "code",
   "execution_count": 63,
   "id": "0ab6bbdf",
   "metadata": {},
   "outputs": [
    {
     "data": {
      "text/plain": [
       "0.18930996011331502"
      ]
     },
     "execution_count": 63,
     "metadata": {},
     "output_type": "execute_result"
    }
   ],
   "source": [
    "# Refit model on entire training dataset\n",
    "X_scaled = ss.fit_transform(X)\n",
    "enet = ElasticNetCV()\n",
    "enet.fit(X_scaled, y)\n",
    "enet.score(X_scaled,y)"
   ]
  },
  {
   "cell_type": "code",
   "execution_count": 64,
   "id": "b3b1822a",
   "metadata": {},
   "outputs": [
    {
     "name": "stdout",
     "output_type": "stream",
     "text": [
      "Total Features before ElasticNet regression: 120\n",
      "Features Zeroed by ElasticNet regression: 0\n",
      "Features Remaining after ElasticNet regression: 120\n"
     ]
    }
   ],
   "source": [
    "# Remaining features after zeroing by lasso regression\n",
    "print('Total Features before ElasticNet regression:', len(features))\n",
    "print('Features Zeroed by ElasticNet regression:', len(enet.coef_[enet.coef_ == 0]))\n",
    "print('Features Remaining after ElasticNet regression:', len(features) - len(enet.coef_[enet.coef_ == 0]))\n"
   ]
  },
  {
   "cell_type": "code",
   "execution_count": 65,
   "id": "c1aab4c0",
   "metadata": {},
   "outputs": [],
   "source": [
    "final_predictions_enet = enet.predict(final_test_scaled)"
   ]
  },
  {
   "cell_type": "code",
   "execution_count": 66,
   "id": "ff3eb87d",
   "metadata": {},
   "outputs": [
    {
     "data": {
      "text/html": [
       "<div>\n",
       "<style scoped>\n",
       "    .dataframe tbody tr th:only-of-type {\n",
       "        vertical-align: middle;\n",
       "    }\n",
       "\n",
       "    .dataframe tbody tr th {\n",
       "        vertical-align: top;\n",
       "    }\n",
       "\n",
       "    .dataframe thead th {\n",
       "        text-align: right;\n",
       "    }\n",
       "</style>\n",
       "<table border=\"1\" class=\"dataframe\">\n",
       "  <thead>\n",
       "    <tr style=\"text-align: right;\">\n",
       "      <th></th>\n",
       "      <th>Id</th>\n",
       "      <th>SalePrice</th>\n",
       "    </tr>\n",
       "  </thead>\n",
       "  <tbody>\n",
       "    <tr>\n",
       "      <th>0</th>\n",
       "      <td>2658</td>\n",
       "      <td>168349.034797</td>\n",
       "    </tr>\n",
       "    <tr>\n",
       "      <th>1</th>\n",
       "      <td>2718</td>\n",
       "      <td>178840.567998</td>\n",
       "    </tr>\n",
       "    <tr>\n",
       "      <th>2</th>\n",
       "      <td>2414</td>\n",
       "      <td>192765.989628</td>\n",
       "    </tr>\n",
       "    <tr>\n",
       "      <th>3</th>\n",
       "      <td>1989</td>\n",
       "      <td>168581.778934</td>\n",
       "    </tr>\n",
       "    <tr>\n",
       "      <th>4</th>\n",
       "      <td>625</td>\n",
       "      <td>183362.456342</td>\n",
       "    </tr>\n",
       "  </tbody>\n",
       "</table>\n",
       "</div>"
      ],
      "text/plain": [
       "     Id      SalePrice\n",
       "0  2658  168349.034797\n",
       "1  2718  178840.567998\n",
       "2  2414  192765.989628\n",
       "3  1989  168581.778934\n",
       "4   625  183362.456342"
      ]
     },
     "execution_count": 66,
     "metadata": {},
     "output_type": "execute_result"
    }
   ],
   "source": [
    "test['SalePrice'] = final_predictions_enet\n",
    "test['Id'] = test_ids\n",
    "\n",
    "# Create csv for submission\n",
    "submission_enet = test[['Id','SalePrice']]\n",
    "submission_enet.to_csv('../datasets/kaggle_submission_enet.csv', index=False)\n",
    "\n",
    "#View submission\n",
    "submission_enet.head()"
   ]
  },
  {
   "cell_type": "code",
   "execution_count": 67,
   "id": "cfe54581",
   "metadata": {},
   "outputs": [
    {
     "data": {
      "text/plain": [
       "(878, 2)"
      ]
     },
     "execution_count": 67,
     "metadata": {},
     "output_type": "execute_result"
    }
   ],
   "source": [
    "submission_enet.shape"
   ]
  },
  {
   "cell_type": "markdown",
   "id": "e19e7ca4",
   "metadata": {},
   "source": [
    "The Lasso model produced a better score on Kaggle and will be the one used. "
   ]
  },
  {
   "cell_type": "code",
   "execution_count": 70,
   "id": "acb0d8dc",
   "metadata": {},
   "outputs": [
    {
     "data": {
      "text/plain": [
       "181479.01805758907"
      ]
     },
     "execution_count": 70,
     "metadata": {},
     "output_type": "execute_result"
    }
   ],
   "source": [
    "train['SalePrice'].mean()"
   ]
  },
  {
   "cell_type": "markdown",
   "id": "260d323a",
   "metadata": {},
   "source": [
    "### Conclusion"
   ]
  },
  {
   "cell_type": "markdown",
   "id": "ef98aa88",
   "metadata": {},
   "source": [
    "Based on the scores returned from Kaggle, the Lasso model was the most successful in predicting housing sale prices. On the dataset comprising of 30% of the test data, the model achieved an RMSE of 33859.87. On the dataset comprising of the other 70% of the test data, the model performed within expectations, returning an RMSE of 25979.44. This is a strong improvement over the baseline score (~181,000) generated by using the mean of all sale prices as predictions. This answers our problem statement of how we can best predict housing prices.\n",
    "\n",
    "Earlier versions of the model without systematic feature engineering saw up to a difference of 9,000 in terms of RMSE when given the two different test datasets. Overall, the model seems to have become much more generalizable and consistent. It also has a high R2 on our training data, where it can explain up to 88.4% of the variance in sale price."
   ]
  },
  {
   "cell_type": "code",
   "execution_count": 71,
   "id": "74fb520e",
   "metadata": {},
   "outputs": [
    {
     "data": {
      "text/plain": [
       "Text(0.5, 1.0, 'Ridge Predictions of Sale Price vs Actual Sale Price')"
      ]
     },
     "execution_count": 71,
     "metadata": {},
     "output_type": "execute_result"
    },
    {
     "data": {
      "image/png": "[encoded data removed]",
      "text/plain": [
       "<Figure size 720x576 with 1 Axes>"
      ]
     },
     "metadata": {
      "needs_background": "light"
     },
     "output_type": "display_data"
    }
   ],
   "source": [
    "# Create scatterplot to show predicted values versus actual values\n",
    "ridge_preds = ridge.predict(X_test_scaled)\n",
    "\n",
    "plt.figure(figsize = (10,8))\n",
    "sns.regplot(data = X_train_scaled, x = ridge_preds, y = y_test, marker = 'x', color = 'skyblue', line_kws = {'color':'black'})\n",
    "plt.xlabel('Predicted Sale Price', fontsize = 14)\n",
    "plt.ylabel('Actual Sale Price', fontsize = 14)\n",
    "plt.title('Ridge Predictions of Sale Price vs Actual Sale Price', fontsize = 22)"
   ]
  },
  {
   "cell_type": "markdown",
   "id": "ca99ca81",
   "metadata": {},
   "source": [
    "From the graph above, we can see that the line of best fit passes through most of the points aside from a few outliers in the higher end of the sale price range. We cna then say that the model is acceptable. "
   ]
  },
  {
   "cell_type": "code",
   "execution_count": 73,
   "id": "bc1f3c46",
   "metadata": {},
   "outputs": [
    {
     "data": {
      "text/plain": [
       "Text(0.5, 1.0, 'Residuals')"
      ]
     },
     "execution_count": 73,
     "metadata": {},
     "output_type": "execute_result"
    },
    {
     "data": {
      "image/png": "[encoded data removed]",
      "text/plain": [
       "<Figure size 432x288 with 1 Axes>"
      ]
     },
     "metadata": {
      "needs_background": "light"
     },
     "output_type": "display_data"
    }
   ],
   "source": [
    "ax = sns.scatterplot(data = train, x = y_test, y = y_test - ridge_preds)\n",
    "ax.axhline(y = 0, c = 'red')\n",
    "plt.xlabel('Predicted Sale Price', fontsize = 12)\n",
    "plt.ylabel('Actual Sale Price', fontsize = 12)\n",
    "plt.title('Residuals', fontsize = 18)"
   ]
  },
  {
   "cell_type": "markdown",
   "id": "092d2e7c",
   "metadata": {},
   "source": [
    "We can see from the above that the residuals are generally equally distributed. This supports the multiple linear regression assumption of homoscedasticity which states that the variance of error must be similar across the values of the independent variables. "
   ]
  },
  {
   "cell_type": "code",
   "execution_count": 74,
   "id": "0b7073a7",
   "metadata": {},
   "outputs": [
    {
     "data": {
      "image/png": "[encoded data removed]",
      "text/plain": [
       "<Figure size 864x720 with 1 Axes>"
      ]
     },
     "metadata": {
      "needs_background": "light"
     },
     "output_type": "display_data"
    }
   ],
   "source": [
    "# Create dataframe of features, coefficients and absolute coefficients\n",
    "ridge_df = pd.DataFrame(columns=['Feature', 'Coef', 'Abs Coef'])\n",
    "ridge_df['Abs Coef'] = abs(ridge.coef_)\n",
    "ridge_df['Coef'] = ridge.coef_\n",
    "ridge_df['Feature'] = features\n",
    "\n",
    "# Plot top 30 features (sorted by absolute regression coefficient)\n",
    "plt.figure(figsize=(12,10))\n",
    "data = ridge_df.sort_values(by = 'Abs Coef', ascending = False).head(30)[['Feature', 'Coef']] \\\n",
    "               .sort_values(by = 'Coef', ascending = False).reset_index(drop = True)\n",
    "    \n",
    "ax = sns.barplot(data = data, y ='Feature', x = 'Coef', orient = 'h', palette = 'Spectral')\n",
    "ax.set_ylabel('')\n",
    "ax.set_yticklabels(data['Feature'], size = 11)\n",
    "ax.set_xlabel('Ridge Regression Coefficient', fontsize = 14)\n",
    "plt.title('Top 30 Housing Features', fontsize = 20);"
   ]
  },
  {
   "cell_type": "code",
   "execution_count": 78,
   "id": "30014443",
   "metadata": {},
   "outputs": [
    {
     "data": {
      "text/html": [
       "<div>\n",
       "<style scoped>\n",
       "    .dataframe tbody tr th:only-of-type {\n",
       "        vertical-align: middle;\n",
       "    }\n",
       "\n",
       "    .dataframe tbody tr th {\n",
       "        vertical-align: top;\n",
       "    }\n",
       "\n",
       "    .dataframe thead th {\n",
       "        text-align: right;\n",
       "    }\n",
       "</style>\n",
       "<table border=\"1\" class=\"dataframe\">\n",
       "  <thead>\n",
       "    <tr style=\"text-align: right;\">\n",
       "      <th></th>\n",
       "      <th>Feature</th>\n",
       "      <th>Coef</th>\n",
       "    </tr>\n",
       "  </thead>\n",
       "  <tbody>\n",
       "    <tr>\n",
       "      <th>0</th>\n",
       "      <td>Overall Qual</td>\n",
       "      <td>15547.061627</td>\n",
       "    </tr>\n",
       "    <tr>\n",
       "      <th>1</th>\n",
       "      <td>TotRms AbvGrd</td>\n",
       "      <td>13591.672791</td>\n",
       "    </tr>\n",
       "    <tr>\n",
       "      <th>2</th>\n",
       "      <td>Kitchen Qual</td>\n",
       "      <td>8636.261379</td>\n",
       "    </tr>\n",
       "    <tr>\n",
       "      <th>3</th>\n",
       "      <td>Full Bath</td>\n",
       "      <td>8432.679809</td>\n",
       "    </tr>\n",
       "    <tr>\n",
       "      <th>4</th>\n",
       "      <td>Bsmt Qual</td>\n",
       "      <td>7627.810359</td>\n",
       "    </tr>\n",
       "    <tr>\n",
       "      <th>5</th>\n",
       "      <td>Bsmt Exposure</td>\n",
       "      <td>7412.767279</td>\n",
       "    </tr>\n",
       "    <tr>\n",
       "      <th>6</th>\n",
       "      <td>Neighborhood_NridgHt</td>\n",
       "      <td>7343.064009</td>\n",
       "    </tr>\n",
       "    <tr>\n",
       "      <th>7</th>\n",
       "      <td>Fireplaces</td>\n",
       "      <td>7311.909057</td>\n",
       "    </tr>\n",
       "    <tr>\n",
       "      <th>8</th>\n",
       "      <td>Neighborhood_StoneBr</td>\n",
       "      <td>6850.686597</td>\n",
       "    </tr>\n",
       "    <tr>\n",
       "      <th>9</th>\n",
       "      <td>Garage Cars</td>\n",
       "      <td>6787.738163</td>\n",
       "    </tr>\n",
       "    <tr>\n",
       "      <th>10</th>\n",
       "      <td>Roof Style_Hip</td>\n",
       "      <td>6739.623579</td>\n",
       "    </tr>\n",
       "    <tr>\n",
       "      <th>11</th>\n",
       "      <td>Half Bath</td>\n",
       "      <td>5878.294425</td>\n",
       "    </tr>\n",
       "    <tr>\n",
       "      <th>12</th>\n",
       "      <td>Exter Qual</td>\n",
       "      <td>5858.594582</td>\n",
       "    </tr>\n",
       "    <tr>\n",
       "      <th>13</th>\n",
       "      <td>Bsmt Full Bath</td>\n",
       "      <td>5856.525254</td>\n",
       "    </tr>\n",
       "    <tr>\n",
       "      <th>14</th>\n",
       "      <td>Neighborhood_NoRidge</td>\n",
       "      <td>5444.097258</td>\n",
       "    </tr>\n",
       "  </tbody>\n",
       "</table>\n",
       "</div>"
      ],
      "text/plain": [
       "                 Feature          Coef\n",
       "0           Overall Qual  15547.061627\n",
       "1          TotRms AbvGrd  13591.672791\n",
       "2           Kitchen Qual   8636.261379\n",
       "3              Full Bath   8432.679809\n",
       "4              Bsmt Qual   7627.810359\n",
       "5          Bsmt Exposure   7412.767279\n",
       "6   Neighborhood_NridgHt   7343.064009\n",
       "7             Fireplaces   7311.909057\n",
       "8   Neighborhood_StoneBr   6850.686597\n",
       "9            Garage Cars   6787.738163\n",
       "10        Roof Style_Hip   6739.623579\n",
       "11             Half Bath   5878.294425\n",
       "12            Exter Qual   5858.594582\n",
       "13        Bsmt Full Bath   5856.525254\n",
       "14  Neighborhood_NoRidge   5444.097258"
      ]
     },
     "metadata": {},
     "output_type": "display_data"
    },
    {
     "data": {
      "text/html": [
       "<div>\n",
       "<style scoped>\n",
       "    .dataframe tbody tr th:only-of-type {\n",
       "        vertical-align: middle;\n",
       "    }\n",
       "\n",
       "    .dataframe tbody tr th {\n",
       "        vertical-align: top;\n",
       "    }\n",
       "\n",
       "    .dataframe thead th {\n",
       "        text-align: right;\n",
       "    }\n",
       "</style>\n",
       "<table border=\"1\" class=\"dataframe\">\n",
       "  <thead>\n",
       "    <tr style=\"text-align: right;\">\n",
       "      <th></th>\n",
       "      <th>Feature</th>\n",
       "      <th>Coef</th>\n",
       "    </tr>\n",
       "  </thead>\n",
       "  <tbody>\n",
       "    <tr>\n",
       "      <th>25</th>\n",
       "      <td>ExtHdBoard</td>\n",
       "      <td>-2974.083662</td>\n",
       "    </tr>\n",
       "    <tr>\n",
       "      <th>26</th>\n",
       "      <td>Neighborhood_Gilbert</td>\n",
       "      <td>-3267.899317</td>\n",
       "    </tr>\n",
       "    <tr>\n",
       "      <th>27</th>\n",
       "      <td>MS SubClass_120</td>\n",
       "      <td>-3270.788402</td>\n",
       "    </tr>\n",
       "    <tr>\n",
       "      <th>28</th>\n",
       "      <td>House Style_SLvl</td>\n",
       "      <td>-4129.101264</td>\n",
       "    </tr>\n",
       "    <tr>\n",
       "      <th>29</th>\n",
       "      <td>House Style_2Story</td>\n",
       "      <td>-4949.824221</td>\n",
       "    </tr>\n",
       "  </tbody>\n",
       "</table>\n",
       "</div>"
      ],
      "text/plain": [
       "                 Feature         Coef\n",
       "25            ExtHdBoard -2974.083662\n",
       "26  Neighborhood_Gilbert -3267.899317\n",
       "27       MS SubClass_120 -3270.788402\n",
       "28      House Style_SLvl -4129.101264\n",
       "29    House Style_2Story -4949.824221"
      ]
     },
     "metadata": {},
     "output_type": "display_data"
    }
   ],
   "source": [
    "# Displaying top 20 coefficients - Top 15 positive coefficients and bottom 5 negative coefficients\n",
    "display(data.head(15), data.tail(5))"
   ]
  },
  {
   "cell_type": "markdown",
   "id": "f882a4a1",
   "metadata": {},
   "source": [
    "Overall, the top predictive features seems reasonable with our top two features being the overall quality and the total of rooms above grade. This is followed by other features looking at the quality of the kitchen and basement as well as full bathrooms. Certain neighbourhoods such as Northridge Heights, Stone Brook and Northridge were also found to be strong positive predictors. \n",
    "\n",
    "Conversely, we see that houses that are in `MS SubClass_120` (1 story houses built in 1946 and after, as part of a planned unit development) predict lower prices. The Gilbert neighborhood also predicts lower prices, along with certain features such as the hard board exterior covering on the house. Having two stories also hurts the value of the home as well as having a split level style of dwelling. "
   ]
  },
  {
   "cell_type": "markdown",
   "id": "62c0b686",
   "metadata": {},
   "source": [
    "#### Feature coefficients"
   ]
  },
  {
   "cell_type": "code",
   "execution_count": 79,
   "id": "6cc463ac",
   "metadata": {},
   "outputs": [
    {
     "data": {
      "text/plain": [
       "181479.01805758904"
      ]
     },
     "execution_count": 79,
     "metadata": {},
     "output_type": "execute_result"
    }
   ],
   "source": [
    "ridge.intercept_"
   ]
  },
  {
   "cell_type": "markdown",
   "id": "f32c574d",
   "metadata": {},
   "source": [
    "Linear regression equation where the feature coefficients can be interpreted as β1:\n",
    "\n",
    "$$   y =  \\beta_0 +  \\beta_1 x_1 + \\epsilon $$\n",
    "\n",
    "The predicted value of Y here is affected by β1 which represents the estimated slope. For every 1 unit change in `Overall Qual` (X1), the target variable (y), `SalePrice`, will increase by $15,547. This number has a pretty large magnitude which makes it easy for the model to become overfit as a slight increase in `Overall Qual` will result in a large shift as compared to changes to other features.    \n",
    "\n",
    "The intercept of our model (β0) is \\\\$181,479 which suggests that when our predictors are equal to 0, the mean sale price is $181,479. However, this is not as relevant as our X will never be 0.\n",
    "\n",
    "In short, we can interpet our `Overall Qual` coefficient's effect on our model as:\n",
    "\n",
    "$$   Sale\\hat Price = 181479 + 15547[Overall Qual]    $$\n"
   ]
  },
  {
   "cell_type": "markdown",
   "id": "a7f707bc",
   "metadata": {},
   "source": [
    "### Recommendations"
   ]
  },
  {
   "cell_type": "markdown",
   "id": "dc4f2561",
   "metadata": {},
   "source": [
    "Based on the model, there are several ways to increase the value of a house in Ames (for sellers):\n",
    "- Renovate to improve the overall, basement and exterior quality of the house\n",
    "- Improve grade of the bathrooms\n",
    "- Increase the number of Fireplaces\n",
    "- Increase the garage size to fit more than one car\n",
    "- If using a hard board exterior, switch to cement or brick instead\n",
    "\n",
    "Based on the model, there are several ways to efficiently look for a lower value house in Ames (for buyers):\n",
    "- Avoid neighbourhood such as Northridge Heights, Stone Brook and Northridge.\n",
    "- Instead go for neighbourhood such as Gilbert. \n",
    "- Look for 1 story houses built in 1946 and after, as part of a planned unit development\n",
    "- Houses with a split level style of dwelling"
   ]
  },
  {
   "cell_type": "markdown",
   "id": "a3df27d2",
   "metadata": {},
   "source": [
    "### Model Limitations"
   ]
  },
  {
   "cell_type": "markdown",
   "id": "bb7b1ded",
   "metadata": {},
   "source": [
    "While this model generalizes well to the city of Ames, it's probably not generalizable to other cities, given that each city tends to differ greatly in terms of external factors like geographical features, seasonal weather or the economic climate of that particular city.\n",
    "\n",
    "\n",
    "It is also to be noted that further preprocessing of the target variable could be done. For example, we can consider adding a log function to it. This will mostly likely assist in reducing the variability of the data to one that is more normally distributed. However, this was not done here due to time constraints and can be considered if time permits in the future for further finetuning of the model. "
   ]
  },
  {
   "cell_type": "markdown",
   "id": "6c7d4155",
   "metadata": {},
   "source": [
    "#### Tradeoffs between interpretability and accuracy\n",
    "A key consideration in this project was whether to create a more interpretable model which had a total of 30 or less features. Ultimately, I decided against this as this led to a significant tradeoff in accuracy. Using RFE to select 30 features greatly reduced my model's R2 and greatly increased RMSE. Therefore in this case, I believe that it's not worth trading off model complexity for accuracy, given the model's current performance with less than 100 features.\n",
    "\n",
    "However, this does create some limitations. For example, some of the negative predictors are hard to interpret without extensive domain knowledge. For example, on the surface, it doesn't seen logical for the number of kitchens or bedrooms to be negative predictors for price. This can be explained by the fact that these features are acting as a proxy for other features.\n"
   ]
  }
 ],
 "metadata": {
  "kernelspec": {
   "display_name": "Python 3 (ipykernel)",
   "language": "python",
   "name": "python3"
  },
  "language_info": {
   "codemirror_mode": {
    "name": "ipython",
    "version": 3
   },
   "file_extension": ".py",
   "mimetype": "text/x-python",
   "name": "python",
   "nbconvert_exporter": "python",
   "pygments_lexer": "ipython3",
   "version": "3.9.7"
  }
 },
 "nbformat": 4,
 "nbformat_minor": 5
}

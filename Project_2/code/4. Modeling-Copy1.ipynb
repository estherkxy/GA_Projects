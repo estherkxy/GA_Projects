{
 "cells": [
  {
   "cell_type": "markdown",
   "id": "379f76d0",
   "metadata": {},
   "source": [
    "<img src=\"http://imgur.com/1ZcRyrc.png\" style=\"float: left; margin: 20px; height: 55px\">\n",
    "\n",
    "# Project 2: Ames Housing Data and Kaggle Challenge"
   ]
  },
  {
   "cell_type": "markdown",
   "id": "106338a6",
   "metadata": {},
   "source": [
    "### Notebook 4/4: Modeling, Selection and Insights\n",
    "\n",
    "Notebook 1: Preliminary EDA of 'train' dataset .<br>\n",
    "Notebook 2: Cleaning and Modfications of 'train' and 'test' datasets.<br>\n",
    "Notebook 3: Preprocessing and Feature Engineering.<br>\n",
    "Notebook 4: Modeling, Selection and Insights"
   ]
  },
  {
   "cell_type": "code",
   "execution_count": 1,
   "id": "d4b5df8b",
   "metadata": {},
   "outputs": [],
   "source": [
    "# Importing libraries\n",
    "import pandas as pd\n",
    "import numpy as np\n",
    "import matplotlib.pyplot as plt\n",
    "import seaborn as sns\n",
    "%matplotlib inline\n",
    "\n",
    "from sklearn.model_selection import train_test_split, cross_val_score\n",
    "from sklearn.feature_selection import SelectKBest, f_regression\n",
    "from sklearn.linear_model import LinearRegression, Lasso, Ridge, ElasticNet, LassoCV, RidgeCV, ElasticNetCV\n",
    "from sklearn.preprocessing import StandardScaler\n",
    "from sklearn.metrics import mean_squared_error, r2_score\n",
    "\n",
    "from scipy import stats\n",
    "import statsmodels.api as sm\n",
    "from statsmodels.stats.outliers_influence import variance_inflation_factor"
   ]
  },
  {
   "cell_type": "code",
   "execution_count": 2,
   "id": "07a44bb1",
   "metadata": {},
   "outputs": [],
   "source": [
    "# Import cleaned dataset\n",
    "train = pd.read_csv('../datasets/train_final1.csv')"
   ]
  },
  {
   "cell_type": "code",
   "execution_count": 3,
   "id": "faa1d52d",
   "metadata": {},
   "outputs": [],
   "source": [
    "# Import cleaned testset and save IDs separately\n",
    "test_ids = pd.read_csv('../datasets/test.csv')['Id']\n",
    "test = pd.read_csv('../datasets/test_final1.csv')"
   ]
  },
  {
   "cell_type": "markdown",
   "id": "fe21a073",
   "metadata": {},
   "source": [
    "### Model Preparation"
   ]
  },
  {
   "cell_type": "markdown",
   "id": "42b4830f",
   "metadata": {},
   "source": [
    "#### Train-Test Split + Scaling"
   ]
  },
  {
   "cell_type": "markdown",
   "id": "65010eec",
   "metadata": {},
   "source": [
    "Here we are going to standardise our dataset in order to avoid penalising any features due to their scale. "
   ]
  },
  {
   "cell_type": "code",
   "execution_count": 4,
   "id": "7e7b9d23",
   "metadata": {},
   "outputs": [],
   "source": [
    "features = [col for col in train._get_numeric_data().columns if col !='SalePrice']"
   ]
  },
  {
   "cell_type": "code",
   "execution_count": 5,
   "id": "f83b1da6",
   "metadata": {},
   "outputs": [],
   "source": [
    "X = train[features]\n",
    "y = train['SalePrice']"
   ]
  },
  {
   "cell_type": "code",
   "execution_count": 6,
   "id": "448bb5a0",
   "metadata": {},
   "outputs": [],
   "source": [
    "X_train, X_test, y_train, y_test = train_test_split(X, y, test_size=0.3, random_state=42)"
   ]
  },
  {
   "cell_type": "code",
   "execution_count": 7,
   "id": "2f841773",
   "metadata": {},
   "outputs": [],
   "source": [
    "ss = StandardScaler()\n",
    "ss.fit(X_train)\n",
    "\n",
    "X_train_scaled = ss.transform(X_train)\n",
    "X_test_scaled = ss.transform(X_test)"
   ]
  },
  {
   "cell_type": "code",
   "execution_count": 8,
   "id": "5cf6db64",
   "metadata": {},
   "outputs": [],
   "source": [
    "# Instantiate Models \n",
    "# Trying out a few different types of regularisation methods as there is still multicollinearity in our dataset\n",
    "\n",
    "lr = LinearRegression()"
   ]
  },
  {
   "cell_type": "code",
   "execution_count": 9,
   "id": "aba7205a",
   "metadata": {},
   "outputs": [],
   "source": [
    "ridge = RidgeCV(alphas = np.linspace(1, 200, 100))"
   ]
  },
  {
   "cell_type": "code",
   "execution_count": 10,
   "id": "1ae80d2e",
   "metadata": {},
   "outputs": [],
   "source": [
    "lasso = LassoCV(n_alphas = 100)"
   ]
  },
  {
   "cell_type": "code",
   "execution_count": 11,
   "id": "2b419d72",
   "metadata": {},
   "outputs": [],
   "source": [
    "enet_alphas = np.arange(0.5, 1.0, 0.005)\n",
    "enet_ratio = 0.5\n",
    "enet = ElasticNetCV(alphas = enet_alphas, l1_ratio = enet_ratio, cv=5)"
   ]
  },
  {
   "cell_type": "markdown",
   "id": "e349e3cd",
   "metadata": {},
   "source": [
    "### Model Evaluation\n",
    "#### Cross Validation \n",
    "Evaluating the model using `cross_val_score`"
   ]
  },
  {
   "cell_type": "code",
   "execution_count": 12,
   "id": "9350c242",
   "metadata": {},
   "outputs": [
    {
     "name": "stdout",
     "output_type": "stream",
     "text": [
      "Linear Regression\n",
      "R2: 0.8372479172050202\n",
      "RSME: 31361.358746953887\n"
     ]
    }
   ],
   "source": [
    "# Testing our linear regression model on unseen data\n",
    "print('Linear Regression')\n",
    "lr_cv_scores = cross_val_score(lr, X_train_scaled, y_train, cv = 5)\n",
    "print('R2:', lr_cv_scores.mean())\n",
    "lr_cv_mse_scores = -cross_val_score(lr, X_train_scaled, y_train, cv = 5, scoring ='neg_mean_squared_error')\n",
    "print('RSME:', np.sqrt(lr_cv_mse_scores.mean()))"
   ]
  },
  {
   "cell_type": "code",
   "execution_count": 13,
   "id": "5945886d",
   "metadata": {},
   "outputs": [
    {
     "name": "stdout",
     "output_type": "stream",
     "text": [
      "Ridge Regession\n",
      "R2: 0.8372421725721996\n",
      "RSME: 31365.543090746545\n"
     ]
    }
   ],
   "source": [
    "# Testing our ridge regression model on unseen data\n",
    "print('Ridge Regession')\n",
    "ridge_cv_scores = cross_val_score(ridge, X_train_scaled, y_train, cv = 5)\n",
    "print('R2:', ridge_cv_scores.mean())\n",
    "ridge_cv_mse_scores = -cross_val_score(ridge, X_train_scaled, y_train, cv = 5, scoring ='neg_mean_squared_error')\n",
    "print('RSME:', np.sqrt(ridge_cv_mse_scores.mean()))\n"
   ]
  },
  {
   "cell_type": "code",
   "execution_count": 14,
   "id": "2b2978a6",
   "metadata": {},
   "outputs": [
    {
     "name": "stdout",
     "output_type": "stream",
     "text": [
      "Lasso Regression\n",
      "R2: 0.8361952735248426\n",
      "RSME: 31450.578564656636\n"
     ]
    }
   ],
   "source": [
    "# Testing our lasso regression model on unseen data\n",
    "print('Lasso Regression')\n",
    "lasso_cv_scores = cross_val_score(lasso, X_train_scaled, y_train, cv = 5)\n",
    "print('R2:', lasso_cv_scores.mean())\n",
    "lasso_cv_mse_scores = -cross_val_score(lasso, X_train_scaled, y_train, cv = 5, scoring ='neg_mean_squared_error')\n",
    "print('RSME:', np.sqrt(lasso_cv_mse_scores.mean()))"
   ]
  },
  {
   "cell_type": "code",
   "execution_count": 15,
   "id": "ea1995c8",
   "metadata": {},
   "outputs": [
    {
     "name": "stdout",
     "output_type": "stream",
     "text": [
      "Elasticnet Regression\n",
      "R2: 0.8316164395207004\n",
      "RSME: 31967.162278350293\n"
     ]
    }
   ],
   "source": [
    "# Testing our elasticnet regression model on unseen data\n",
    "print('Elasticnet Regression')\n",
    "enet_cv_scores = cross_val_score(enet, X_train_scaled, y_train, cv = 5)\n",
    "print('R2:', enet_cv_scores.mean())\n",
    "enet_cv_mse_scores = -cross_val_score(enet, X_train_scaled, y_train,cv = 5, scoring ='neg_mean_squared_error')\n",
    "print('RSME:', np.sqrt(enet_cv_mse_scores.mean()))"
   ]
  },
  {
   "cell_type": "markdown",
   "id": "f371a203",
   "metadata": {},
   "source": [
    "Comparing all the different types of regularisation, we can see that the normal linear regression model has the worst performance with the highest RMSE score. Based on the above scores, the ridge model has the best performance with an R2 score of 0.863 and an RMSE score of 28708.85 which is marginally better than the rest. \n"
   ]
  },
  {
   "cell_type": "markdown",
   "id": "35349458",
   "metadata": {},
   "source": [
    "#### Standard Linear Regression"
   ]
  },
  {
   "cell_type": "code",
   "execution_count": 16,
   "id": "75f96a32",
   "metadata": {},
   "outputs": [
    {
     "name": "stdout",
     "output_type": "stream",
     "text": [
      "Training R2(LR): 0.8483654960461193\n",
      "Testing R2(LR): 0.8300975670702266\n",
      "Estimate of Testing R2(LR): 0.8372479172050202\n"
     ]
    }
   ],
   "source": [
    "lr.fit(X_train_scaled,y_train)\n",
    "\n",
    "print(\"Training R2(LR): \" + str(lr.score(X_train_scaled,y_train)))\n",
    "print(\"Testing R2(LR): \" + str(lr.score(X_test_scaled,y_test)))\n",
    "print(\"Estimate of Testing R2(LR): \" + str(lr_cv_scores.mean()))"
   ]
  },
  {
   "cell_type": "code",
   "execution_count": 17,
   "id": "86d0e86d",
   "metadata": {},
   "outputs": [
    {
     "name": "stdout",
     "output_type": "stream",
     "text": [
      "Training RMSE(LR): 30395.905286058914\n",
      "Testing RMSE(LR): 33753.33869911966\n",
      "Estimate of Testing RMSE(LR): 31361.358746953887\n"
     ]
    }
   ],
   "source": [
    "print(\"Training RMSE(LR): \" + str(np.sqrt(mean_squared_error(y_train, lr.predict(X_train_scaled)))))\n",
    "print(\"Testing RMSE(LR): \" + str(np.sqrt(mean_squared_error(y_test,lr.predict(X_test_scaled)))))\n",
    "print(\"Estimate of Testing RMSE(LR): \" + str(np.sqrt(lr_cv_mse_scores.mean())))"
   ]
  },
  {
   "cell_type": "markdown",
   "id": "b3804791",
   "metadata": {},
   "source": [
    "Based on the above scores, we can see that the model is slightly overfitted as the accuracy between our train and validation data has decreased. \n",
    "\n",
    "Next, we will see how the ridge model fares."
   ]
  },
  {
   "cell_type": "markdown",
   "id": "6310d59c",
   "metadata": {},
   "source": [
    "#### Ridge Regression"
   ]
  },
  {
   "cell_type": "code",
   "execution_count": 18,
   "id": "68137303",
   "metadata": {},
   "outputs": [],
   "source": [
    "ridge.fit(X_train_scaled, y_train);"
   ]
  },
  {
   "cell_type": "code",
   "execution_count": 19,
   "id": "f0554243",
   "metadata": {},
   "outputs": [
    {
     "data": {
      "text/plain": [
       "17.08080808080808"
      ]
     },
     "execution_count": 19,
     "metadata": {},
     "output_type": "execute_result"
    }
   ],
   "source": [
    "# Optimal ridge alpha\n",
    "best_ridge_alpha = ridge.alpha_\n",
    "best_ridge_alpha"
   ]
  },
  {
   "cell_type": "code",
   "execution_count": 20,
   "id": "b4b95146",
   "metadata": {},
   "outputs": [],
   "source": [
    "# Create new ridge model with optimal alpha and fit to training data\n",
    "ridge = Ridge(alpha = best_ridge_alpha)\n",
    "ridge.fit(X_train_scaled, y_train);"
   ]
  },
  {
   "cell_type": "code",
   "execution_count": 21,
   "id": "8e95edf0",
   "metadata": {},
   "outputs": [
    {
     "name": "stdout",
     "output_type": "stream",
     "text": [
      "Training R2(ridge) 0.8482028735060045\n",
      "Testing R2(ridge) 0.8298202528335804\n",
      "Estimate of Testing R2(ridge) 0.8372421725721996\n"
     ]
    }
   ],
   "source": [
    "print(\"Training R2(ridge) \" + str(ridge.score(X_train_scaled,y_train)))\n",
    "print(\"Testing R2(ridge) \" + str(ridge.score(X_test_scaled,y_test)))\n",
    "print(\"Estimate of Testing R2(ridge) \" + str(ridge_cv_scores.mean()))"
   ]
  },
  {
   "cell_type": "code",
   "execution_count": 22,
   "id": "0aa1279e",
   "metadata": {},
   "outputs": [
    {
     "name": "stdout",
     "output_type": "stream",
     "text": [
      "Training MSE(Ridge)  30412.20017473798\n",
      "Testing MSE(Ridge)  33780.873516757114\n",
      "Estimate of Testing RMSE (Ridge) 31365.543090746545\n"
     ]
    }
   ],
   "source": [
    "print(\"Training MSE(Ridge) \", np.sqrt(mean_squared_error(y_train, ridge.predict(X_train_scaled))))\n",
    "print(\"Testing MSE(Ridge) \", np.sqrt(mean_squared_error(y_test, ridge.predict(X_test_scaled))))\n",
    "print(\"Estimate of Testing RMSE (Ridge) \" + str(np.sqrt(ridge_cv_mse_scores.mean())))"
   ]
  },
  {
   "cell_type": "markdown",
   "id": "b72d61b2",
   "metadata": {},
   "source": [
    "The ridge model seems to be overfitted as well, but is seen to produce slightly better results that the standard linear model regression."
   ]
  },
  {
   "cell_type": "markdown",
   "id": "fa01df4e",
   "metadata": {},
   "source": [
    "#### Lasso Regression"
   ]
  },
  {
   "cell_type": "code",
   "execution_count": 23,
   "id": "289f974e",
   "metadata": {},
   "outputs": [
    {
     "data": {
      "text/plain": [
       "LassoCV()"
      ]
     },
     "execution_count": 23,
     "metadata": {},
     "output_type": "execute_result"
    }
   ],
   "source": [
    "# Fit LassoCV model to data\n",
    "lasso.fit(X_train_scaled, y_train)"
   ]
  },
  {
   "cell_type": "code",
   "execution_count": 24,
   "id": "1ae6d15c",
   "metadata": {},
   "outputs": [
    {
     "data": {
      "text/plain": [
       "62.304838037721716"
      ]
     },
     "execution_count": 24,
     "metadata": {},
     "output_type": "execute_result"
    }
   ],
   "source": [
    "# Generate best alpha\n",
    "best_lasso_alpha = lasso.alpha_\n",
    "best_lasso_alpha"
   ]
  },
  {
   "cell_type": "code",
   "execution_count": 25,
   "id": "c53e54a0",
   "metadata": {},
   "outputs": [
    {
     "data": {
      "text/plain": [
       "Lasso(alpha=62.304838037721716)"
      ]
     },
     "execution_count": 25,
     "metadata": {},
     "output_type": "execute_result"
    }
   ],
   "source": [
    "# Create new lasso model with optimal alpha and fit to training data\n",
    "lasso = Lasso(alpha = best_lasso_alpha)\n",
    "lasso.fit(X_train_scaled, y_train)"
   ]
  },
  {
   "cell_type": "code",
   "execution_count": 26,
   "id": "847f7902",
   "metadata": {},
   "outputs": [
    {
     "name": "stdout",
     "output_type": "stream",
     "text": [
      "Training R2(Lasso)  0.8482079066043153\n",
      "Testing R2(Lasso): 0.8302271954350436\n",
      "Estimate of Testing R2(Lasso): 0.8361952735248426\n"
     ]
    }
   ],
   "source": [
    "print(\"Training R2(Lasso) \", lasso.score(X_train_scaled, y_train))\n",
    "print(\"Testing R2(Lasso):\", lasso.score(X_test_scaled, y_test))\n",
    "print(\"Estimate of Testing R2(Lasso):\", lasso_cv_scores.mean())"
   ]
  },
  {
   "cell_type": "code",
   "execution_count": 27,
   "id": "263c38b8",
   "metadata": {},
   "outputs": [
    {
     "name": "stdout",
     "output_type": "stream",
     "text": [
      "Training RMSE(Lasso): 30411.695985806044\n",
      "Testing RMSE(Lasso): 33740.46005781624\n",
      "Estimate of Testing RMSE(Lasso): 31450.578564656636\n"
     ]
    }
   ],
   "source": [
    "print(\"Training RMSE(Lasso):\", np.sqrt(mean_squared_error(y_train, lasso.predict(X_train_scaled))))\n",
    "print(\"Testing RMSE(Lasso):\", np.sqrt(mean_squared_error(y_test, lasso.predict(X_test_scaled))))\n",
    "print(\"Estimate of Testing RMSE(Lasso):\", np.sqrt(lasso_cv_mse_scores.mean()))"
   ]
  },
  {
   "cell_type": "markdown",
   "id": "821895b5",
   "metadata": {},
   "source": [
    "The lasso model is also overfitted but as with the ridge model, it produces better results than the standard linear regression model. Comparing the lasso and ridge model, the ridge model seems to have a slightly better performance. "
   ]
  },
  {
   "cell_type": "markdown",
   "id": "fe9de392",
   "metadata": {},
   "source": [
    "#### ElasticNet Regression"
   ]
  },
  {
   "cell_type": "code",
   "execution_count": 28,
   "id": "6ff4b994",
   "metadata": {},
   "outputs": [],
   "source": [
    "enet_alphas = np.arange(0.01, 1.0, 0.005)\n",
    "enet_ratio = 0.5\n",
    "enet = ElasticNetCV(alphas = enet_alphas, l1_ratio = enet_ratio, cv = 5, max_iter = 5000)\n",
    "enet = enet.fit(X_train_scaled, y_train)"
   ]
  },
  {
   "cell_type": "code",
   "execution_count": 29,
   "id": "1f84fc5d",
   "metadata": {},
   "outputs": [
    {
     "data": {
      "text/plain": [
       "0.015"
      ]
     },
     "execution_count": 29,
     "metadata": {},
     "output_type": "execute_result"
    }
   ],
   "source": [
    "# Optimal Enet Alpha\n",
    "enet_optimal_alpha = enet.alpha_\n",
    "enet_optimal_alpha"
   ]
  },
  {
   "cell_type": "code",
   "execution_count": 30,
   "id": "523ea33a",
   "metadata": {},
   "outputs": [
    {
     "data": {
      "text/plain": [
       "ElasticNet(alpha=0.015)"
      ]
     },
     "execution_count": 30,
     "metadata": {},
     "output_type": "execute_result"
    }
   ],
   "source": [
    "# Create new enet model with optimal alpha and fit to training data\n",
    "enet = ElasticNet(alpha = enet_optimal_alpha)\n",
    "enet.fit(X_train_scaled, y_train)"
   ]
  },
  {
   "cell_type": "code",
   "execution_count": 31,
   "id": "2e121b00",
   "metadata": {},
   "outputs": [
    {
     "data": {
      "text/plain": [
       "0.83730210716651"
      ]
     },
     "execution_count": 31,
     "metadata": {},
     "output_type": "execute_result"
    }
   ],
   "source": [
    "enet_cv_scores = cross_val_score(enet,X_train_scaled,y_train,cv=5)\n",
    "enet_cv_scores.mean()"
   ]
  },
  {
   "cell_type": "code",
   "execution_count": 32,
   "id": "91026cc4",
   "metadata": {},
   "outputs": [
    {
     "data": {
      "text/plain": [
       "31356.742604851428"
      ]
     },
     "execution_count": 32,
     "metadata": {},
     "output_type": "execute_result"
    }
   ],
   "source": [
    "enet_cv_mse_scores = -cross_val_score(enet,X_train_scaled,y_train,cv=5, scoring ='neg_mean_squared_error')\n",
    "np.sqrt(enet_cv_mse_scores.mean())"
   ]
  },
  {
   "cell_type": "code",
   "execution_count": 33,
   "id": "ccdd3bab",
   "metadata": {},
   "outputs": [
    {
     "name": "stdout",
     "output_type": "stream",
     "text": [
      "Training R2(ElasticNet): 0.8482877643027793\n",
      "Testing R2(ElasticNet): 0.8299478892304396\n",
      "Estimate of Testing R2(ElasticNet):  0.83730210716651\n"
     ]
    }
   ],
   "source": [
    "print('Training R2(ElasticNet):', enet.score(X_train_scaled, y_train))\n",
    "print('Testing R2(ElasticNet):', enet.score(X_test_scaled, y_test))\n",
    "print('Estimate of Testing R2(ElasticNet): ', enet_cv_scores.mean())"
   ]
  },
  {
   "cell_type": "code",
   "execution_count": 34,
   "id": "419bfa26",
   "metadata": {},
   "outputs": [
    {
     "name": "stdout",
     "output_type": "stream",
     "text": [
      "Training MSE(ElasticNet): 30403.69514893861\n",
      "Testing MSE(ElasticNet): 33768.20315556097\n",
      "Estimate of Testing RMSE(ElasticNet): 31356.742604851428\n"
     ]
    }
   ],
   "source": [
    "print('Training MSE(ElasticNet):', np.sqrt(mean_squared_error(y_train, enet.predict(X_train_scaled))))\n",
    "print('Testing MSE(ElasticNet):', np.sqrt(mean_squared_error(y_test, enet.predict(X_test_scaled))))\n",
    "print('Estimate of Testing RMSE(ElasticNet):', np.sqrt(enet_cv_mse_scores.mean()))"
   ]
  },
  {
   "cell_type": "markdown",
   "id": "85194a64",
   "metadata": {},
   "source": [
    "The ElasticNet model is also overfitted and fares slightly better than the standard linear regression model but is worse off when compared to the ridge and lasso model. "
   ]
  },
  {
   "cell_type": "markdown",
   "id": "3d09b9cd",
   "metadata": {},
   "source": [
    "### Submission"
   ]
  },
  {
   "cell_type": "code",
   "execution_count": 35,
   "id": "607c8d46",
   "metadata": {},
   "outputs": [
    {
     "data": {
      "text/plain": [
       "0.8437686125996595"
      ]
     },
     "execution_count": 35,
     "metadata": {},
     "output_type": "execute_result"
    }
   ],
   "source": [
    "# Refit model on entire training dataset\n",
    "X_scaled = ss.fit_transform(X)\n",
    "lasso = LassoCV()\n",
    "lasso.fit(X_scaled, y)\n",
    "lasso.score(X_scaled,y)"
   ]
  },
  {
   "cell_type": "code",
   "execution_count": 36,
   "id": "7f2e9b6b",
   "metadata": {},
   "outputs": [
    {
     "name": "stdout",
     "output_type": "stream",
     "text": [
      "Total Features before Lasso regression: 30\n",
      "Features Zeroed by Lasso regression: 0\n",
      "Features Remaining after Lasso regression: 30\n"
     ]
    }
   ],
   "source": [
    "# Remaining features after zeroing by lasso regression\n",
    "print('Total Features before Lasso regression:', len(features))\n",
    "print('Features Zeroed by Lasso regression:', len(lasso.coef_[lasso.coef_ == 0]))\n",
    "print('Features Remaining after Lasso regression:', len(features) - len(lasso.coef_[lasso.coef_ == 0]))\n"
   ]
  },
  {
   "cell_type": "code",
   "execution_count": 37,
   "id": "21832146",
   "metadata": {},
   "outputs": [],
   "source": [
    "final_test_scaled = ss.transform(test)"
   ]
  },
  {
   "cell_type": "code",
   "execution_count": 38,
   "id": "d05a2c29",
   "metadata": {},
   "outputs": [],
   "source": [
    "final_predictions = lasso.predict(final_test_scaled)"
   ]
  },
  {
   "cell_type": "code",
   "execution_count": 39,
   "id": "8da373dd",
   "metadata": {},
   "outputs": [],
   "source": [
    "test['SalePrice'] = final_predictions"
   ]
  },
  {
   "cell_type": "code",
   "execution_count": 40,
   "id": "61c11ea0",
   "metadata": {},
   "outputs": [],
   "source": [
    "test['Id'] = test_ids"
   ]
  },
  {
   "cell_type": "code",
   "execution_count": 41,
   "id": "6f12849a",
   "metadata": {},
   "outputs": [
    {
     "data": {
      "text/html": [
       "<div>\n",
       "<style scoped>\n",
       "    .dataframe tbody tr th:only-of-type {\n",
       "        vertical-align: middle;\n",
       "    }\n",
       "\n",
       "    .dataframe tbody tr th {\n",
       "        vertical-align: top;\n",
       "    }\n",
       "\n",
       "    .dataframe thead th {\n",
       "        text-align: right;\n",
       "    }\n",
       "</style>\n",
       "<table border=\"1\" class=\"dataframe\">\n",
       "  <thead>\n",
       "    <tr style=\"text-align: right;\">\n",
       "      <th></th>\n",
       "      <th>Id</th>\n",
       "      <th>SalePrice</th>\n",
       "    </tr>\n",
       "  </thead>\n",
       "  <tbody>\n",
       "    <tr>\n",
       "      <th>0</th>\n",
       "      <td>2658</td>\n",
       "      <td>124382.050021</td>\n",
       "    </tr>\n",
       "    <tr>\n",
       "      <th>1</th>\n",
       "      <td>2718</td>\n",
       "      <td>128272.269709</td>\n",
       "    </tr>\n",
       "    <tr>\n",
       "      <th>2</th>\n",
       "      <td>2414</td>\n",
       "      <td>245064.419899</td>\n",
       "    </tr>\n",
       "    <tr>\n",
       "      <th>3</th>\n",
       "      <td>1989</td>\n",
       "      <td>115925.341876</td>\n",
       "    </tr>\n",
       "    <tr>\n",
       "      <th>4</th>\n",
       "      <td>625</td>\n",
       "      <td>189128.707055</td>\n",
       "    </tr>\n",
       "  </tbody>\n",
       "</table>\n",
       "</div>"
      ],
      "text/plain": [
       "     Id      SalePrice\n",
       "0  2658  124382.050021\n",
       "1  2718  128272.269709\n",
       "2  2414  245064.419899\n",
       "3  1989  115925.341876\n",
       "4   625  189128.707055"
      ]
     },
     "execution_count": 41,
     "metadata": {},
     "output_type": "execute_result"
    }
   ],
   "source": [
    "# Create csv for submission\n",
    "submission = test[['Id','SalePrice']]\n",
    "submission.to_csv('../datasets/kaggle_submission.csv', index=False)\n",
    "\n",
    "#View submission\n",
    "submission.head()"
   ]
  },
  {
   "cell_type": "code",
   "execution_count": 42,
   "id": "e601c938",
   "metadata": {},
   "outputs": [
    {
     "data": {
      "text/plain": [
       "(878, 2)"
      ]
     },
     "execution_count": 42,
     "metadata": {},
     "output_type": "execute_result"
    }
   ],
   "source": [
    "submission.shape"
   ]
  },
  {
   "cell_type": "code",
   "execution_count": 43,
   "id": "f602faac",
   "metadata": {},
   "outputs": [
    {
     "data": {
      "text/plain": [
       "0.843903399148797"
      ]
     },
     "execution_count": 43,
     "metadata": {},
     "output_type": "execute_result"
    }
   ],
   "source": [
    "# Refit model on entire training dataset\n",
    "X_scaled = ss.fit_transform(X)\n",
    "ridge = RidgeCV()\n",
    "ridge.fit(X_scaled, y)\n",
    "ridge.score(X_scaled,y)"
   ]
  },
  {
   "cell_type": "code",
   "execution_count": 44,
   "id": "307d9b21",
   "metadata": {},
   "outputs": [
    {
     "name": "stdout",
     "output_type": "stream",
     "text": [
      "Total Features before Ridge regression: 30\n",
      "Features Zeroed by Ridge regression: 0\n",
      "Features Remaining after Ridge regression: 30\n"
     ]
    }
   ],
   "source": [
    "# Remaining features after zeroing by lasso regression\n",
    "print('Total Features before Ridge regression:', len(features))\n",
    "print('Features Zeroed by Ridge regression:', len(ridge.coef_[ridge.coef_ == 0]))\n",
    "print('Features Remaining after Ridge regression:', len(features) - len(ridge.coef_[ridge.coef_ == 0]))"
   ]
  },
  {
   "cell_type": "code",
   "execution_count": 45,
   "id": "7b0b4d77",
   "metadata": {},
   "outputs": [],
   "source": [
    "final_predictions_ridge = ridge.predict(final_test_scaled)"
   ]
  },
  {
   "cell_type": "code",
   "execution_count": 46,
   "id": "ef9d605a",
   "metadata": {},
   "outputs": [
    {
     "data": {
      "text/html": [
       "<div>\n",
       "<style scoped>\n",
       "    .dataframe tbody tr th:only-of-type {\n",
       "        vertical-align: middle;\n",
       "    }\n",
       "\n",
       "    .dataframe tbody tr th {\n",
       "        vertical-align: top;\n",
       "    }\n",
       "\n",
       "    .dataframe thead th {\n",
       "        text-align: right;\n",
       "    }\n",
       "</style>\n",
       "<table border=\"1\" class=\"dataframe\">\n",
       "  <thead>\n",
       "    <tr style=\"text-align: right;\">\n",
       "      <th></th>\n",
       "      <th>Id</th>\n",
       "      <th>SalePrice</th>\n",
       "    </tr>\n",
       "  </thead>\n",
       "  <tbody>\n",
       "    <tr>\n",
       "      <th>0</th>\n",
       "      <td>2658</td>\n",
       "      <td>124319.380600</td>\n",
       "    </tr>\n",
       "    <tr>\n",
       "      <th>1</th>\n",
       "      <td>2718</td>\n",
       "      <td>128279.243210</td>\n",
       "    </tr>\n",
       "    <tr>\n",
       "      <th>2</th>\n",
       "      <td>2414</td>\n",
       "      <td>245063.426443</td>\n",
       "    </tr>\n",
       "    <tr>\n",
       "      <th>3</th>\n",
       "      <td>1989</td>\n",
       "      <td>116157.780901</td>\n",
       "    </tr>\n",
       "    <tr>\n",
       "      <th>4</th>\n",
       "      <td>625</td>\n",
       "      <td>189186.489783</td>\n",
       "    </tr>\n",
       "  </tbody>\n",
       "</table>\n",
       "</div>"
      ],
      "text/plain": [
       "     Id      SalePrice\n",
       "0  2658  124319.380600\n",
       "1  2718  128279.243210\n",
       "2  2414  245063.426443\n",
       "3  1989  116157.780901\n",
       "4   625  189186.489783"
      ]
     },
     "execution_count": 46,
     "metadata": {},
     "output_type": "execute_result"
    }
   ],
   "source": [
    "test['SalePrice'] = final_predictions_ridge\n",
    "test['Id'] = test_ids\n",
    "\n",
    "# Create csv for submission\n",
    "submission_ridge = test[['Id','SalePrice']]\n",
    "submission_ridge.to_csv('../datasets/kaggle_submission_ridge.csv', index=False)\n",
    "\n",
    "#View submission\n",
    "submission_ridge.head()"
   ]
  },
  {
   "cell_type": "code",
   "execution_count": 47,
   "id": "56a28c09",
   "metadata": {},
   "outputs": [
    {
     "data": {
      "text/plain": [
       "(878, 2)"
      ]
     },
     "execution_count": 47,
     "metadata": {},
     "output_type": "execute_result"
    }
   ],
   "source": [
    "submission_ridge.shape"
   ]
  },
  {
   "cell_type": "code",
   "execution_count": 48,
   "id": "45072bd9",
   "metadata": {},
   "outputs": [
    {
     "data": {
      "text/plain": [
       "0.0916777324980379"
      ]
     },
     "execution_count": 48,
     "metadata": {},
     "output_type": "execute_result"
    }
   ],
   "source": [
    "# Refit model on entire training dataset\n",
    "X_scaled = ss.fit_transform(X)\n",
    "enet = ElasticNetCV()\n",
    "enet.fit(X_scaled, y)\n",
    "enet.score(X_scaled,y)"
   ]
  },
  {
   "cell_type": "code",
   "execution_count": 49,
   "id": "27ee4671",
   "metadata": {},
   "outputs": [
    {
     "name": "stdout",
     "output_type": "stream",
     "text": [
      "Total Features before ElasticNet regression: 30\n",
      "Features Zeroed by ElasticNet regression: 0\n",
      "Features Remaining after ElasticNet regression: 30\n"
     ]
    }
   ],
   "source": [
    "# Remaining features after zeroing by lasso regression\n",
    "print('Total Features before ElasticNet regression:', len(features))\n",
    "print('Features Zeroed by ElasticNet regression:', len(enet.coef_[enet.coef_ == 0]))\n",
    "print('Features Remaining after ElasticNet regression:', len(features) - len(enet.coef_[enet.coef_ == 0]))\n"
   ]
  },
  {
   "cell_type": "code",
   "execution_count": 50,
   "id": "a65def9a",
   "metadata": {},
   "outputs": [],
   "source": [
    "final_predictions_enet = enet.predict(final_test_scaled)"
   ]
  },
  {
   "cell_type": "code",
   "execution_count": 51,
   "id": "56069c28",
   "metadata": {},
   "outputs": [
    {
     "data": {
      "text/html": [
       "<div>\n",
       "<style scoped>\n",
       "    .dataframe tbody tr th:only-of-type {\n",
       "        vertical-align: middle;\n",
       "    }\n",
       "\n",
       "    .dataframe tbody tr th {\n",
       "        vertical-align: top;\n",
       "    }\n",
       "\n",
       "    .dataframe thead th {\n",
       "        text-align: right;\n",
       "    }\n",
       "</style>\n",
       "<table border=\"1\" class=\"dataframe\">\n",
       "  <thead>\n",
       "    <tr style=\"text-align: right;\">\n",
       "      <th></th>\n",
       "      <th>Id</th>\n",
       "      <th>SalePrice</th>\n",
       "    </tr>\n",
       "  </thead>\n",
       "  <tbody>\n",
       "    <tr>\n",
       "      <th>0</th>\n",
       "      <td>2658</td>\n",
       "      <td>176568.767971</td>\n",
       "    </tr>\n",
       "    <tr>\n",
       "      <th>1</th>\n",
       "      <td>2718</td>\n",
       "      <td>178552.423966</td>\n",
       "    </tr>\n",
       "    <tr>\n",
       "      <th>2</th>\n",
       "      <td>2414</td>\n",
       "      <td>186258.934348</td>\n",
       "    </tr>\n",
       "    <tr>\n",
       "      <th>3</th>\n",
       "      <td>1989</td>\n",
       "      <td>177284.112589</td>\n",
       "    </tr>\n",
       "    <tr>\n",
       "      <th>4</th>\n",
       "      <td>625</td>\n",
       "      <td>181124.389188</td>\n",
       "    </tr>\n",
       "  </tbody>\n",
       "</table>\n",
       "</div>"
      ],
      "text/plain": [
       "     Id      SalePrice\n",
       "0  2658  176568.767971\n",
       "1  2718  178552.423966\n",
       "2  2414  186258.934348\n",
       "3  1989  177284.112589\n",
       "4   625  181124.389188"
      ]
     },
     "execution_count": 51,
     "metadata": {},
     "output_type": "execute_result"
    }
   ],
   "source": [
    "test['SalePrice'] = final_predictions_enet\n",
    "test['Id'] = test_ids\n",
    "\n",
    "# Create csv for submission\n",
    "submission_enet = test[['Id','SalePrice']]\n",
    "submission_enet.to_csv('../datasets/kaggle_submission_enet.csv', index=False)\n",
    "\n",
    "#View submission\n",
    "submission_enet.head()"
   ]
  },
  {
   "cell_type": "code",
   "execution_count": 52,
   "id": "98f80ff8",
   "metadata": {},
   "outputs": [
    {
     "data": {
      "text/plain": [
       "(878, 2)"
      ]
     },
     "execution_count": 52,
     "metadata": {},
     "output_type": "execute_result"
    }
   ],
   "source": [
    "submission_enet.shape"
   ]
  },
  {
   "cell_type": "markdown",
   "id": "f7e8b467",
   "metadata": {},
   "source": [
    "The Lasso model produced a better score on Kaggle and will be the one used. "
   ]
  },
  {
   "cell_type": "code",
   "execution_count": 53,
   "id": "24efdb4e",
   "metadata": {},
   "outputs": [
    {
     "data": {
      "text/plain": [
       "181479.01805758907"
      ]
     },
     "execution_count": 53,
     "metadata": {},
     "output_type": "execute_result"
    }
   ],
   "source": [
    "train['SalePrice'].mean()"
   ]
  },
  {
   "cell_type": "markdown",
   "id": "dd323ecf",
   "metadata": {},
   "source": [
    "### Conclusion"
   ]
  },
  {
   "cell_type": "markdown",
   "id": "e2c70fd1",
   "metadata": {},
   "source": [
    "Based on the scores returned from Kaggle, the Lasso model was the most successful in predicting housing sale prices. On the dataset comprising of 30% of the test data, the model achieved an RMSE of 33859.87. On the dataset comprising of the other 70% of the test data, the model performed within expectations, returning an RMSE of 25979.44. This is a strong improvement over the baseline score (~181,000) generated by using the mean of all sale prices as predictions. This answers our problem statement of how we can best predict housing prices.\n",
    "\n",
    "Earlier versions of the model without systematic feature engineering saw up to a difference of 9,000 in terms of RMSE when given the two different test datasets. Overall, the model seems to have become much more generalizable and consistent. It also has a high R2 on our training data, where it can explain up to 88.4% of the variance in sale price."
   ]
  },
  {
   "cell_type": "code",
   "execution_count": 54,
   "id": "32d9c21f",
   "metadata": {},
   "outputs": [
    {
     "data": {
      "text/plain": [
       "Text(0.5, 1.0, 'Ridge Predictions of Sale Price vs Actual Sale Price')"
      ]
     },
     "execution_count": 54,
     "metadata": {},
     "output_type": "execute_result"
    },
    {
     "data": {
      "image/png": "[encoded data removed]",
      "text/plain": [
       "<Figure size 720x576 with 1 Axes>"
      ]
     },
     "metadata": {
      "needs_background": "light"
     },
     "output_type": "display_data"
    }
   ],
   "source": [
    "# Create scatterplot to show predicted values versus actual values\n",
    "ridge_preds = ridge.predict(X_test_scaled)\n",
    "\n",
    "plt.figure(figsize = (10,8))\n",
    "sns.regplot(data = X_train_scaled, x = ridge_preds, y = y_test, marker = 'x', color = 'skyblue', line_kws = {'color':'black'})\n",
    "plt.xlabel('Predicted Sale Price', fontsize = 14)\n",
    "plt.ylabel('Actual Sale Price', fontsize = 14)\n",
    "plt.title('Ridge Predictions of Sale Price vs Actual Sale Price', fontsize = 22)"
   ]
  },
  {
   "cell_type": "markdown",
   "id": "e767deb1",
   "metadata": {},
   "source": [
    "From the graph above, we can see that the line of best fit passes through most of the points aside from a few outliers in the higher end of the sale price range. We cna then say that the model is acceptable. "
   ]
  },
  {
   "cell_type": "code",
   "execution_count": 55,
   "id": "a04b97b7",
   "metadata": {},
   "outputs": [
    {
     "data": {
      "text/plain": [
       "Text(0.5, 1.0, 'Residuals')"
      ]
     },
     "execution_count": 55,
     "metadata": {},
     "output_type": "execute_result"
    },
    {
     "data": {
      "image/png": "[encoded data removed]",
      "text/plain": [
       "<Figure size 432x288 with 1 Axes>"
      ]
     },
     "metadata": {
      "needs_background": "light"
     },
     "output_type": "display_data"
    }
   ],
   "source": [
    "ax = sns.scatterplot(data = train, x = y_test, y = y_test - ridge_preds)\n",
    "ax.axhline(y = 0, c = 'red')\n",
    "plt.xlabel('Predicted Sale Price', fontsize = 12)\n",
    "plt.ylabel('Actual Sale Price', fontsize = 12)\n",
    "plt.title('Residuals', fontsize = 18)"
   ]
  },
  {
   "cell_type": "markdown",
   "id": "8a4e76fa",
   "metadata": {},
   "source": [
    "We can see from the above that the residuals are generally equally distributed. This supports the multiple linear regression assumption of homoscedasticity which states that the variance of error must be similar across the values of the independent variables. "
   ]
  },
  {
   "cell_type": "code",
   "execution_count": 56,
   "id": "08bda6c4",
   "metadata": {},
   "outputs": [
    {
     "data": {
      "image/png": "[encoded data removed]",
      "text/plain": [
       "<Figure size 864x720 with 1 Axes>"
      ]
     },
     "metadata": {
      "needs_background": "light"
     },
     "output_type": "display_data"
    }
   ],
   "source": [
    "# Create dataframe of features, coefficients and absolute coefficients\n",
    "ridge_df = pd.DataFrame(columns=['Feature', 'Coef', 'Abs Coef'])\n",
    "ridge_df['Abs Coef'] = abs(ridge.coef_)\n",
    "ridge_df['Coef'] = ridge.coef_\n",
    "ridge_df['Feature'] = features\n",
    "\n",
    "# Plot top 30 features (sorted by absolute regression coefficient)\n",
    "plt.figure(figsize=(12,10))\n",
    "data = ridge_df.sort_values(by = 'Abs Coef', ascending = False).head(30)[['Feature', 'Coef']] \\\n",
    "               .sort_values(by = 'Coef', ascending = False).reset_index(drop = True)\n",
    "    \n",
    "ax = sns.barplot(data = data, y ='Feature', x = 'Coef', orient = 'h', palette = 'Spectral')\n",
    "ax.set_ylabel('')\n",
    "ax.set_yticklabels(data['Feature'], size = 11)\n",
    "ax.set_xlabel('Ridge Regression Coefficient', fontsize = 14)\n",
    "plt.title('Top 30 Housing Features', fontsize = 20);"
   ]
  },
  {
   "cell_type": "code",
   "execution_count": 57,
   "id": "0138a919",
   "metadata": {},
   "outputs": [
    {
     "data": {
      "text/html": [
       "<div>\n",
       "<style scoped>\n",
       "    .dataframe tbody tr th:only-of-type {\n",
       "        vertical-align: middle;\n",
       "    }\n",
       "\n",
       "    .dataframe tbody tr th {\n",
       "        vertical-align: top;\n",
       "    }\n",
       "\n",
       "    .dataframe thead th {\n",
       "        text-align: right;\n",
       "    }\n",
       "</style>\n",
       "<table border=\"1\" class=\"dataframe\">\n",
       "  <thead>\n",
       "    <tr style=\"text-align: right;\">\n",
       "      <th></th>\n",
       "      <th>Feature</th>\n",
       "      <th>Coef</th>\n",
       "    </tr>\n",
       "  </thead>\n",
       "  <tbody>\n",
       "    <tr>\n",
       "      <th>0</th>\n",
       "      <td>Overall Qual</td>\n",
       "      <td>23775.043715</td>\n",
       "    </tr>\n",
       "    <tr>\n",
       "      <th>1</th>\n",
       "      <td>Full Bath</td>\n",
       "      <td>12563.612005</td>\n",
       "    </tr>\n",
       "    <tr>\n",
       "      <th>2</th>\n",
       "      <td>Kitchen Qual</td>\n",
       "      <td>12206.696851</td>\n",
       "    </tr>\n",
       "    <tr>\n",
       "      <th>3</th>\n",
       "      <td>Neighborhood_NridgHt</td>\n",
       "      <td>11954.249407</td>\n",
       "    </tr>\n",
       "    <tr>\n",
       "      <th>4</th>\n",
       "      <td>Roof Style_Hip</td>\n",
       "      <td>11342.340239</td>\n",
       "    </tr>\n",
       "    <tr>\n",
       "      <th>5</th>\n",
       "      <td>Fireplaces</td>\n",
       "      <td>11259.833002</td>\n",
       "    </tr>\n",
       "    <tr>\n",
       "      <th>6</th>\n",
       "      <td>Bsmt Full Bath</td>\n",
       "      <td>9584.240155</td>\n",
       "    </tr>\n",
       "    <tr>\n",
       "      <th>7</th>\n",
       "      <td>Exter Qual</td>\n",
       "      <td>8913.507064</td>\n",
       "    </tr>\n",
       "    <tr>\n",
       "      <th>8</th>\n",
       "      <td>Neighborhood_NoRidge</td>\n",
       "      <td>7815.913290</td>\n",
       "    </tr>\n",
       "    <tr>\n",
       "      <th>9</th>\n",
       "      <td>Neighborhood_StoneBr</td>\n",
       "      <td>7060.294195</td>\n",
       "    </tr>\n",
       "    <tr>\n",
       "      <th>10</th>\n",
       "      <td>Half Bath</td>\n",
       "      <td>6634.206412</td>\n",
       "    </tr>\n",
       "    <tr>\n",
       "      <th>11</th>\n",
       "      <td>Roof Style_Gable</td>\n",
       "      <td>6411.047160</td>\n",
       "    </tr>\n",
       "    <tr>\n",
       "      <th>12</th>\n",
       "      <td>Sale Type_New</td>\n",
       "      <td>4837.506319</td>\n",
       "    </tr>\n",
       "    <tr>\n",
       "      <th>13</th>\n",
       "      <td>ExtCemntBd</td>\n",
       "      <td>3908.131595</td>\n",
       "    </tr>\n",
       "    <tr>\n",
       "      <th>14</th>\n",
       "      <td>Lot Config_CulDSac</td>\n",
       "      <td>3748.763413</td>\n",
       "    </tr>\n",
       "  </tbody>\n",
       "</table>\n",
       "</div>"
      ],
      "text/plain": [
       "                 Feature          Coef\n",
       "0           Overall Qual  23775.043715\n",
       "1              Full Bath  12563.612005\n",
       "2           Kitchen Qual  12206.696851\n",
       "3   Neighborhood_NridgHt  11954.249407\n",
       "4         Roof Style_Hip  11342.340239\n",
       "5             Fireplaces  11259.833002\n",
       "6         Bsmt Full Bath   9584.240155\n",
       "7             Exter Qual   8913.507064\n",
       "8   Neighborhood_NoRidge   7815.913290\n",
       "9   Neighborhood_StoneBr   7060.294195\n",
       "10             Half Bath   6634.206412\n",
       "11      Roof Style_Gable   6411.047160\n",
       "12         Sale Type_New   4837.506319\n",
       "13            ExtCemntBd   3908.131595\n",
       "14    Lot Config_CulDSac   3748.763413"
      ]
     },
     "metadata": {},
     "output_type": "display_data"
    },
    {
     "data": {
      "text/html": [
       "<div>\n",
       "<style scoped>\n",
       "    .dataframe tbody tr th:only-of-type {\n",
       "        vertical-align: middle;\n",
       "    }\n",
       "\n",
       "    .dataframe tbody tr th {\n",
       "        vertical-align: top;\n",
       "    }\n",
       "\n",
       "    .dataframe thead th {\n",
       "        text-align: right;\n",
       "    }\n",
       "</style>\n",
       "<table border=\"1\" class=\"dataframe\">\n",
       "  <thead>\n",
       "    <tr style=\"text-align: right;\">\n",
       "      <th></th>\n",
       "      <th>Feature</th>\n",
       "      <th>Coef</th>\n",
       "    </tr>\n",
       "  </thead>\n",
       "  <tbody>\n",
       "    <tr>\n",
       "      <th>25</th>\n",
       "      <td>MS Zoning_RL</td>\n",
       "      <td>-5012.558430</td>\n",
       "    </tr>\n",
       "    <tr>\n",
       "      <th>26</th>\n",
       "      <td>MS Zoning_RM</td>\n",
       "      <td>-5972.758256</td>\n",
       "    </tr>\n",
       "    <tr>\n",
       "      <th>27</th>\n",
       "      <td>Land Contour_Lvl</td>\n",
       "      <td>-6046.817958</td>\n",
       "    </tr>\n",
       "    <tr>\n",
       "      <th>28</th>\n",
       "      <td>Bldg Type_Twnhs</td>\n",
       "      <td>-7642.758891</td>\n",
       "    </tr>\n",
       "    <tr>\n",
       "      <th>29</th>\n",
       "      <td>Bldg Type_TwnhsE</td>\n",
       "      <td>-10311.102700</td>\n",
       "    </tr>\n",
       "  </tbody>\n",
       "</table>\n",
       "</div>"
      ],
      "text/plain": [
       "             Feature          Coef\n",
       "25      MS Zoning_RL  -5012.558430\n",
       "26      MS Zoning_RM  -5972.758256\n",
       "27  Land Contour_Lvl  -6046.817958\n",
       "28   Bldg Type_Twnhs  -7642.758891\n",
       "29  Bldg Type_TwnhsE -10311.102700"
      ]
     },
     "metadata": {},
     "output_type": "display_data"
    }
   ],
   "source": [
    "# Displaying top 20 coefficients - Top 15 positive coefficients and bottom 5 negative coefficients\n",
    "display(data.head(15), data.tail(5))"
   ]
  },
  {
   "cell_type": "markdown",
   "id": "71a1889d",
   "metadata": {},
   "source": [
    "Overall, the top predictive features seems reasonable with our top two features being the overall quality and the total of rooms above grade. This is followed by other features looking at the quality of the kitchen and basement as well as full bathrooms. Certain neighbourhoods such as Northridge Heights, Stone Brook and Northridge were also found to be strong positive predictors. \n",
    "\n",
    "Conversely, we see that houses that are in `MS SubClass_120` (1 story houses built in 1946 and after, as part of a planned unit development) predict lower prices. The Gilbert neighborhood also predicts lower prices, along with certain features such as the hard board exterior covering on the house. Having two stories also hurts the value of the home as well as having a split level style of dwelling. "
   ]
  },
  {
   "cell_type": "markdown",
   "id": "ded5f1c8",
   "metadata": {},
   "source": [
    "#### Feature coefficients"
   ]
  },
  {
   "cell_type": "code",
   "execution_count": 58,
   "id": "65cc8eba",
   "metadata": {},
   "outputs": [
    {
     "data": {
      "text/plain": [
       "181479.01805758907"
      ]
     },
     "execution_count": 58,
     "metadata": {},
     "output_type": "execute_result"
    }
   ],
   "source": [
    "ridge.intercept_"
   ]
  },
  {
   "cell_type": "markdown",
   "id": "7ef1faa2",
   "metadata": {},
   "source": [
    "Linear regression equation where the feature coefficients can be interpreted as β1:\n",
    "\n",
    "$$   y =  \\beta_0 +  \\beta_1 x_1 + \\epsilon $$\n",
    "\n",
    "The predicted value of Y here is affected by β1 which represents the estimated slope. For every 1 unit change in `Overall Qual` (X1), the target variable (y), `SalePrice`, will increase by $15,547. This number has a pretty large magnitude which makes it easy for the model to become overfit as a slight increase in `Overall Qual` will result in a large shift as compared to changes to other features.    \n",
    "\n",
    "The intercept of our model (β0) is \\\\$181,479 which suggests that when our predictors are equal to 0, the mean sale price is $181,479. However, this is not as relevant as our X will never be 0.\n",
    "\n",
    "In short, we can interpet our `Overall Qual` coefficient's effect on our model as:\n",
    "\n",
    "$$   Sale\\hat Price = 181479 + 15547[Overall Qual]    $$\n"
   ]
  },
  {
   "cell_type": "markdown",
   "id": "738cc8bf",
   "metadata": {},
   "source": [
    "### Recommendations"
   ]
  },
  {
   "cell_type": "markdown",
   "id": "fd51542a",
   "metadata": {},
   "source": [
    "Based on the model, there are several ways to increase the value of a house in Ames (for sellers):\n",
    "- Renovate to improve the overall, basement and exterior quality of the house\n",
    "- Improve grade of the bathrooms\n",
    "- Increase the number of Fireplaces\n",
    "- Increase the garage size to fit more than one car\n",
    "- If using a hard board exterior, switch to cement or brick instead\n",
    "\n",
    "Based on the model, there are several ways to efficiently look for a lower value house in Ames (for buyers):\n",
    "- Avoid neighbourhood such as Northridge Heights, Stone Brook and Northridge.\n",
    "- Instead go for neighbourhood such as Gilbert. \n",
    "- Look for 1 story houses built in 1946 and after, as part of a planned unit development\n",
    "- Houses with a split level style of dwelling"
   ]
  },
  {
   "cell_type": "markdown",
   "id": "b218753e",
   "metadata": {},
   "source": [
    "### Model Limitations"
   ]
  },
  {
   "cell_type": "markdown",
   "id": "30cdc26b",
   "metadata": {},
   "source": [
    "While this model generalizes well to the city of Ames, it's probably not generalizable to other cities, given that each city tends to differ greatly in terms of external factors like geographical features, seasonal weather or the economic climate of that particular city.\n"
   ]
  },
  {
   "cell_type": "markdown",
   "id": "52156e3c",
   "metadata": {},
   "source": [
    "#### Tradeoffs between interpretability and accuracy\n",
    "A key consideration in this project was whether to create a more interpretable model which had a total of 30 or less features. Ultimately, I decided against this as this led to a significant tradeoff in accuracy. Using RFE to select more than 30 features greatly reduced my model's R2 and RMSE -- I believe that in this case it's not worth trading off model complexity for accuracy, given the model's current performance with less than 100 features.\n",
    "\n",
    "This however does create some limitations. For one, some of the negative predictors are hard to interpret without extensive domain knowledge. For example, on the surface, it doesn't seen logical for the number of kitchens or bedrooms to be negative predictors for price. This can be explained by the fact that these features are acting as a proxy for other features.\n",
    "\n",
    "For Kitchen AbvGr, I realized that houses with two kitchens have a lower mean sale price and were older compared to houses with one kitchen. In Iowa, summer kitchens were used prior to electricity and air conditioning to keep the heat from cooking out of the house during hot summer months. In colder months, the indoor kitchens was used to help keep the house warm. The fact that houses with two kitchens generally don't have much porch square footage supports this idea (as summer kitchens are generally located on the back porch). This suggests that houses with two kitchens are more likely to be antiquated houses without a good heating/ventilation system."
   ]
  }
 ],
 "metadata": {
  "kernelspec": {
   "display_name": "Python 3 (ipykernel)",
   "language": "python",
   "name": "python3"
  },
  "language_info": {
   "codemirror_mode": {
    "name": "ipython",
    "version": 3
   },
   "file_extension": ".py",
   "mimetype": "text/x-python",
   "name": "python",
   "nbconvert_exporter": "python",
   "pygments_lexer": "ipython3",
   "version": "3.9.7"
  }
 },
 "nbformat": 4,
 "nbformat_minor": 5
}

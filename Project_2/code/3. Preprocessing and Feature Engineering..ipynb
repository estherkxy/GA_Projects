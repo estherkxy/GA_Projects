{
 "cells": [
  {
   "cell_type": "markdown",
   "id": "981c0ce6",
   "metadata": {},
   "source": [
    "<img src=\"http://imgur.com/1ZcRyrc.png\" style=\"float: left; margin: 20px; height: 55px\">\n",
    "\n",
    "# Project 2: Ames Housing Data and Kaggle Challenge"
   ]
  },
  {
   "cell_type": "markdown",
   "id": "31463e44",
   "metadata": {},
   "source": [
    "### Notebook 3/4: Preprocessing and Feature Engineering\n",
    "\n",
    "Notebook 1: Preliminary EDA of 'train' dataset .<br>\n",
    "Notebook 2: Cleaning and Modfications of 'train' and 'test' datasets.<br>\n",
    "Notebook 3: Preprocessing and Feature Engineering.<br>\n",
    "Notebook 4: Modeling."
   ]
  },
  {
   "cell_type": "code",
   "execution_count": 1,
   "id": "7b42f01d",
   "metadata": {},
   "outputs": [],
   "source": [
    "# Importing libraries\n",
    "import pandas as pd\n",
    "import numpy as np\n",
    "import matplotlib.pyplot as plt\n",
    "import seaborn as sns\n",
    "from IPython.display import Image\n",
    "\n",
    "%matplotlib inline\n",
    "\n",
    "from sklearn.model_selection import train_test_split, cross_val_score\n",
    "from sklearn.feature_selection import RFE\n",
    "from sklearn.linear_model import LinearRegression\n",
    "from sklearn.metrics import mean_squared_error, r2_score\n",
    "from sklearn.preprocessing import StandardScaler"
   ]
  },
  {
   "cell_type": "code",
   "execution_count": 37,
   "id": "5db9d48e",
   "metadata": {},
   "outputs": [],
   "source": [
    "# Import cleaned datasets\n",
    "train = pd.read_csv('../datasets/train_cleaned.csv')\n",
    "test = pd.read_csv('../datasets/test_cleaned.csv')"
   ]
  },
  {
   "cell_type": "code",
   "execution_count": 38,
   "id": "dec4027e",
   "metadata": {},
   "outputs": [],
   "source": [
    "# Change display settings to display more rows/columns\n",
    "pd.options.display.max_rows = train.shape[1]\n",
    "pd.options.display.max_columns = train.shape[1]"
   ]
  },
  {
   "cell_type": "code",
   "execution_count": 39,
   "id": "58ffd077",
   "metadata": {},
   "outputs": [
    {
     "data": {
      "text/plain": [
       "(2049, 228)"
      ]
     },
     "execution_count": 39,
     "metadata": {},
     "output_type": "execute_result"
    }
   ],
   "source": [
    "train.shape"
   ]
  },
  {
   "cell_type": "markdown",
   "id": "ea38636e",
   "metadata": {},
   "source": [
    "Based on the shape of the 'train' dataset, we have 228 variables, up from 81 initially. This increase in number of variables has increased the dimensionality of our data.\n",
    "\n",
    "Generally, adding additional features that are truly associated with our target will improve the model by leading to a decrease in test set error. However, adding noise features that are not truly associated with our target will lead to a deterioration in the model, and consequently cause increased test set error. This is because noise features increase the dimensionality of our data, which increases the risk of overfitting, as noise features may be assigned nonzero coefficients due to chance associations with the target variable.\n",
    "\n",
    "Additionally, while some of our new features may be relevant, the variance incurred in fitting their coefficients may outweigh the reduction in bias that they bring.\n",
    "\n",
    "We'll look to reduce some of these redundant features through dimensionality reduction techiques such as correlation and variance analysis, and recursive feature elimination. Within this notebook, we'll look to reduce our overall number of features down to around 120, as anything above this resulted in poor results from our model."
   ]
  },
  {
   "cell_type": "markdown",
   "id": "8f97c3af",
   "metadata": {},
   "source": [
    "#### Dealing with High Pairwise Correlation"
   ]
  },
  {
   "cell_type": "markdown",
   "id": "933d6166",
   "metadata": {},
   "source": [
    "In general, high correlation between two variables means they have similar trends and are likely to carry similar information. Having a perfect pairwise correlation between two varaibles means that one of the variables is redundant and is generating additional noise in our data that we don't want.\n",
    "\n",
    "Below, a table of variables was created and sorted by their level of pairwise correlation to each other. In cases where features provided identical information, one of the variables was then dropped. In other cases, the variable selected would be one that had a better correlation to `SalePrice`. This also informed my feature engineering efforts, where I attempted to combine features to prevent the loss of information.\n",
    "\n",
    "I took somewhat cautious approach here, and avoided dropping major features such as `Garage Cars` / `Fireplaces`."
   ]
  },
  {
   "cell_type": "code",
   "execution_count": 40,
   "id": "4a99c42d",
   "metadata": {},
   "outputs": [
    {
     "name": "stderr",
     "output_type": "stream",
     "text": [
      "/var/folders/w4/f07wq71n1bl3pxnp78q4rfym0000gn/T/ipykernel_12149/1981164217.py:5: DeprecationWarning: `np.bool` is a deprecated alias for the builtin `bool`. To silence this warning, use `bool` by itself. Doing this will not modify any behavior and is safe. If you specifically wanted the numpy scalar type, use `np.bool_` here.\n",
      "Deprecated in NumPy 1.20; for more details and guidance: https://numpy.org/devdocs/release/1.20.0-notes.html#deprecations\n",
      "  .astype(np.bool))\n"
     ]
    }
   ],
   "source": [
    "# Create matrix of all feature correlations\n",
    "corr_matrix = train.corr().abs()\n",
    "\n",
    "sol = (corr_matrix.where(np.triu(np.ones(corr_matrix.shape), k=1)\n",
    "                  .astype(np.bool))\n",
    "                  .stack()\n",
    "                  .sort_values(ascending=False))\n",
    "\n",
    "# Convert to dataframe and reset multi-level index\n",
    "corr_df = pd.DataFrame(sol.head(20)).reset_index()\n",
    "\n",
    "# Rename columns\n",
    "corr_df.columns = 'v1', 'v2', 'pair_corr'"
   ]
  },
  {
   "cell_type": "code",
   "execution_count": 41,
   "id": "38611ba5",
   "metadata": {},
   "outputs": [],
   "source": [
    "def corr_target(row):\n",
    "    row['v1_y_corr'] = train.corr()['SalePrice'][row['v1']]\n",
    "    row['v2_y_corr'] = train.corr()['SalePrice'][row['v2']]\n",
    "    return row"
   ]
  },
  {
   "cell_type": "code",
   "execution_count": 42,
   "id": "627fb941",
   "metadata": {},
   "outputs": [],
   "source": [
    "# Create df with pairwise correlation and correlation to target\n",
    "corr_df = corr_df.apply(corr_target, axis=1)"
   ]
  },
  {
   "cell_type": "code",
   "execution_count": 43,
   "id": "cee5a4a0",
   "metadata": {},
   "outputs": [
    {
     "data": {
      "text/html": [
       "<div>\n",
       "<style scoped>\n",
       "    .dataframe tbody tr th:only-of-type {\n",
       "        vertical-align: middle;\n",
       "    }\n",
       "\n",
       "    .dataframe tbody tr th {\n",
       "        vertical-align: top;\n",
       "    }\n",
       "\n",
       "    .dataframe thead th {\n",
       "        text-align: right;\n",
       "    }\n",
       "</style>\n",
       "<table border=\"1\" class=\"dataframe\">\n",
       "  <thead>\n",
       "    <tr style=\"text-align: right;\">\n",
       "      <th></th>\n",
       "      <th>v1</th>\n",
       "      <th>v2</th>\n",
       "      <th>pair_corr</th>\n",
       "      <th>v1_y_corr</th>\n",
       "      <th>v2_y_corr</th>\n",
       "    </tr>\n",
       "  </thead>\n",
       "  <tbody>\n",
       "    <tr>\n",
       "      <th>0</th>\n",
       "      <td>Central Air_N</td>\n",
       "      <td>Central Air_Y</td>\n",
       "      <td>1.000000</td>\n",
       "      <td>-0.277425</td>\n",
       "      <td>0.277425</td>\n",
       "    </tr>\n",
       "    <tr>\n",
       "      <th>1</th>\n",
       "      <td>Bldg Type_Duplex</td>\n",
       "      <td>MS SubClass_90</td>\n",
       "      <td>1.000000</td>\n",
       "      <td>-0.103716</td>\n",
       "      <td>-0.103716</td>\n",
       "    </tr>\n",
       "    <tr>\n",
       "      <th>2</th>\n",
       "      <td>Street_Grvl</td>\n",
       "      <td>Street_Pave</td>\n",
       "      <td>1.000000</td>\n",
       "      <td>-0.069850</td>\n",
       "      <td>0.069850</td>\n",
       "    </tr>\n",
       "    <tr>\n",
       "      <th>3</th>\n",
       "      <td>Exterior 1st_CemntBd</td>\n",
       "      <td>Exterior 2nd_CmentBd</td>\n",
       "      <td>0.988254</td>\n",
       "      <td>0.168318</td>\n",
       "      <td>0.157748</td>\n",
       "    </tr>\n",
       "    <tr>\n",
       "      <th>4</th>\n",
       "      <td>Bldg Type_2fmCon</td>\n",
       "      <td>MS SubClass_190</td>\n",
       "      <td>0.977762</td>\n",
       "      <td>-0.111444</td>\n",
       "      <td>-0.109283</td>\n",
       "    </tr>\n",
       "    <tr>\n",
       "      <th>5</th>\n",
       "      <td>Exterior 1st_VinylSd</td>\n",
       "      <td>Exterior 2nd_VinylSd</td>\n",
       "      <td>0.977557</td>\n",
       "      <td>0.342156</td>\n",
       "      <td>0.337571</td>\n",
       "    </tr>\n",
       "    <tr>\n",
       "      <th>6</th>\n",
       "      <td>Exterior 1st_MetalSd</td>\n",
       "      <td>Exterior 2nd_MetalSd</td>\n",
       "      <td>0.976456</td>\n",
       "      <td>-0.149919</td>\n",
       "      <td>-0.139405</td>\n",
       "    </tr>\n",
       "    <tr>\n",
       "      <th>7</th>\n",
       "      <td>Id</td>\n",
       "      <td>Yr Sold</td>\n",
       "      <td>0.975765</td>\n",
       "      <td>-0.051416</td>\n",
       "      <td>-0.015174</td>\n",
       "    </tr>\n",
       "    <tr>\n",
       "      <th>8</th>\n",
       "      <td>House Style_SLvl</td>\n",
       "      <td>MS SubClass_80</td>\n",
       "      <td>0.954550</td>\n",
       "      <td>-0.042126</td>\n",
       "      <td>-0.031443</td>\n",
       "    </tr>\n",
       "    <tr>\n",
       "      <th>9</th>\n",
       "      <td>Roof Style_Gable</td>\n",
       "      <td>Roof Style_Hip</td>\n",
       "      <td>0.948244</td>\n",
       "      <td>-0.250019</td>\n",
       "      <td>0.266010</td>\n",
       "    </tr>\n",
       "    <tr>\n",
       "      <th>10</th>\n",
       "      <td>House Style_1.5Fin</td>\n",
       "      <td>MS SubClass_50</td>\n",
       "      <td>0.942505</td>\n",
       "      <td>-0.195858</td>\n",
       "      <td>-0.182388</td>\n",
       "    </tr>\n",
       "    <tr>\n",
       "      <th>11</th>\n",
       "      <td>Garage Cars</td>\n",
       "      <td>Garage Area</td>\n",
       "      <td>0.897099</td>\n",
       "      <td>0.648671</td>\n",
       "      <td>0.655499</td>\n",
       "    </tr>\n",
       "    <tr>\n",
       "      <th>12</th>\n",
       "      <td>Exterior 1st_HdBoard</td>\n",
       "      <td>Exterior 2nd_HdBoard</td>\n",
       "      <td>0.885859</td>\n",
       "      <td>-0.114392</td>\n",
       "      <td>-0.102518</td>\n",
       "    </tr>\n",
       "    <tr>\n",
       "      <th>13</th>\n",
       "      <td>MS Zoning_FV</td>\n",
       "      <td>Neighborhood_Somerst</td>\n",
       "      <td>0.874847</td>\n",
       "      <td>0.106673</td>\n",
       "      <td>0.150056</td>\n",
       "    </tr>\n",
       "    <tr>\n",
       "      <th>14</th>\n",
       "      <td>House Style_1.5Unf</td>\n",
       "      <td>MS SubClass_45</td>\n",
       "      <td>0.869662</td>\n",
       "      <td>-0.066815</td>\n",
       "      <td>-0.060335</td>\n",
       "    </tr>\n",
       "    <tr>\n",
       "      <th>15</th>\n",
       "      <td>Fireplaces</td>\n",
       "      <td>Fireplace Qu</td>\n",
       "      <td>0.860785</td>\n",
       "      <td>0.473783</td>\n",
       "      <td>0.539484</td>\n",
       "    </tr>\n",
       "    <tr>\n",
       "      <th>16</th>\n",
       "      <td>Exterior 1st_Wd Sdng</td>\n",
       "      <td>Exterior 2nd_Wd Sdng</td>\n",
       "      <td>0.859184</td>\n",
       "      <td>-0.191799</td>\n",
       "      <td>-0.173032</td>\n",
       "    </tr>\n",
       "    <tr>\n",
       "      <th>17</th>\n",
       "      <td>Pool Area</td>\n",
       "      <td>Pool QC</td>\n",
       "      <td>0.857544</td>\n",
       "      <td>0.025805</td>\n",
       "      <td>0.035535</td>\n",
       "    </tr>\n",
       "    <tr>\n",
       "      <th>18</th>\n",
       "      <td>Year Built</td>\n",
       "      <td>Garage Yr Blt</td>\n",
       "      <td>0.857123</td>\n",
       "      <td>0.572405</td>\n",
       "      <td>0.556903</td>\n",
       "    </tr>\n",
       "    <tr>\n",
       "      <th>19</th>\n",
       "      <td>Neighborhood_NPkVill</td>\n",
       "      <td>Exterior 2nd_Brk Cmn</td>\n",
       "      <td>0.822053</td>\n",
       "      <td>-0.047307</td>\n",
       "      <td>-0.047905</td>\n",
       "    </tr>\n",
       "  </tbody>\n",
       "</table>\n",
       "</div>"
      ],
      "text/plain": [
       "                      v1                    v2  pair_corr  v1_y_corr  \\\n",
       "0          Central Air_N         Central Air_Y   1.000000  -0.277425   \n",
       "1       Bldg Type_Duplex        MS SubClass_90   1.000000  -0.103716   \n",
       "2            Street_Grvl           Street_Pave   1.000000  -0.069850   \n",
       "3   Exterior 1st_CemntBd  Exterior 2nd_CmentBd   0.988254   0.168318   \n",
       "4       Bldg Type_2fmCon       MS SubClass_190   0.977762  -0.111444   \n",
       "5   Exterior 1st_VinylSd  Exterior 2nd_VinylSd   0.977557   0.342156   \n",
       "6   Exterior 1st_MetalSd  Exterior 2nd_MetalSd   0.976456  -0.149919   \n",
       "7                     Id               Yr Sold   0.975765  -0.051416   \n",
       "8       House Style_SLvl        MS SubClass_80   0.954550  -0.042126   \n",
       "9       Roof Style_Gable        Roof Style_Hip   0.948244  -0.250019   \n",
       "10    House Style_1.5Fin        MS SubClass_50   0.942505  -0.195858   \n",
       "11           Garage Cars           Garage Area   0.897099   0.648671   \n",
       "12  Exterior 1st_HdBoard  Exterior 2nd_HdBoard   0.885859  -0.114392   \n",
       "13          MS Zoning_FV  Neighborhood_Somerst   0.874847   0.106673   \n",
       "14    House Style_1.5Unf        MS SubClass_45   0.869662  -0.066815   \n",
       "15            Fireplaces          Fireplace Qu   0.860785   0.473783   \n",
       "16  Exterior 1st_Wd Sdng  Exterior 2nd_Wd Sdng   0.859184  -0.191799   \n",
       "17             Pool Area               Pool QC   0.857544   0.025805   \n",
       "18            Year Built         Garage Yr Blt   0.857123   0.572405   \n",
       "19  Neighborhood_NPkVill  Exterior 2nd_Brk Cmn   0.822053  -0.047307   \n",
       "\n",
       "    v2_y_corr  \n",
       "0    0.277425  \n",
       "1   -0.103716  \n",
       "2    0.069850  \n",
       "3    0.157748  \n",
       "4   -0.109283  \n",
       "5    0.337571  \n",
       "6   -0.139405  \n",
       "7   -0.015174  \n",
       "8   -0.031443  \n",
       "9    0.266010  \n",
       "10  -0.182388  \n",
       "11   0.655499  \n",
       "12  -0.102518  \n",
       "13   0.150056  \n",
       "14  -0.060335  \n",
       "15   0.539484  \n",
       "16  -0.173032  \n",
       "17   0.035535  \n",
       "18   0.556903  \n",
       "19  -0.047905  "
      ]
     },
     "execution_count": 43,
     "metadata": {},
     "output_type": "execute_result"
    }
   ],
   "source": [
    "corr_df.head(20)"
   ]
  },
  {
   "cell_type": "markdown",
   "id": "938e804a",
   "metadata": {},
   "source": [
    "### Feature Engineering"
   ]
  },
  {
   "cell_type": "markdown",
   "id": "d8b2e998",
   "metadata": {},
   "source": [
    "According to our pairwise correlation dataframe, exterior features tend to have a pretty high pairwise correlation with each other. Before we go further, we'll combine all exterior features into an interaction category. We'll also look to drop or combine a couple of the House Style / MS SubClass categories."
   ]
  },
  {
   "cell_type": "code",
   "execution_count": 44,
   "id": "9ecbe478",
   "metadata": {},
   "outputs": [],
   "source": [
    "# Stanardize column names\n",
    "train = train.rename(columns={'Exterior 2nd_Wd Shng': 'Exterior 2nd_WdShing'})\n",
    "train = train.rename(columns={'Exterior 2nd_Brk Cmn': 'Exterior 2nd_BrkComm'})\n",
    "train = train.rename(columns={'Exterior 2nd_CmentBd': 'Exterior 2nd_CemntBd'})"
   ]
  },
  {
   "cell_type": "code",
   "execution_count": 45,
   "id": "2aeeb1cc",
   "metadata": {},
   "outputs": [
    {
     "data": {
      "text/plain": [
       "Index(['Exterior 1st_AsbShng', 'Exterior 1st_AsphShn', 'Exterior 1st_BrkComm',\n",
       "       'Exterior 1st_BrkFace', 'Exterior 1st_CBlock', 'Exterior 1st_CemntBd',\n",
       "       'Exterior 1st_HdBoard', 'Exterior 1st_ImStucc', 'Exterior 1st_MetalSd',\n",
       "       'Exterior 1st_Plywood', 'Exterior 1st_Stone', 'Exterior 1st_Stucco',\n",
       "       'Exterior 1st_VinylSd', 'Exterior 1st_Wd Sdng', 'Exterior 1st_WdShing'],\n",
       "      dtype='object')"
      ]
     },
     "execution_count": 45,
     "metadata": {},
     "output_type": "execute_result"
    }
   ],
   "source": [
    "ext_feats = train.columns[train.columns.str.contains('Exterior 1st')]\n",
    "ext_feats"
   ]
  },
  {
   "cell_type": "code",
   "execution_count": 46,
   "id": "3e799fe6",
   "metadata": {},
   "outputs": [],
   "source": [
    "# Create interaction columns for Exterior features\n",
    "for i in ext_feats:\n",
    "    ext_type = i.split('_')[1]\n",
    "    train[f'Ext{ext_type}'] = train[f'Exterior 1st_{ext_type}'] * train[f'Exterior 2nd_{ext_type}']\n",
    "    train = train.drop([f'Exterior 1st_{ext_type}', f'Exterior 2nd_{ext_type}'], axis=1)"
   ]
  },
  {
   "cell_type": "code",
   "execution_count": 47,
   "id": "39e4cbce",
   "metadata": {},
   "outputs": [],
   "source": [
    "# Dropping due to perfect pairwise correlation score of 1 or close to 1\n",
    "train = train.drop(['Street_Grvl', 'MS SubClass_190', 'Central Air_N'], axis=1)"
   ]
  },
  {
   "cell_type": "markdown",
   "id": "1e6948b6",
   "metadata": {},
   "source": [
    "Note: `Grvl` was dropped instead of `Pave` as majority of the data points were `Pave`. Likewise for `Central Air_N`."
   ]
  },
  {
   "cell_type": "code",
   "execution_count": 48,
   "id": "6899b08b",
   "metadata": {},
   "outputs": [],
   "source": [
    "# Dropping due to perfect pairwise correlation with Bldg Type_Duplex\n",
    "train = train.drop(['MS SubClass_90'], axis=1)"
   ]
  },
  {
   "cell_type": "code",
   "execution_count": 49,
   "id": "ab39b0bf",
   "metadata": {},
   "outputs": [],
   "source": [
    "# Dropping ID -- Yr Sold has a higher absolute correlation to sale price\n",
    "train = train.drop(['Id'], axis=1)"
   ]
  },
  {
   "cell_type": "code",
   "execution_count": 50,
   "id": "126957d3",
   "metadata": {},
   "outputs": [],
   "source": [
    "# Drop MS SubClass_80 -- same as House Style_SLevel but lower\n",
    "train = train.drop('MS SubClass_80', axis=1)"
   ]
  },
  {
   "cell_type": "code",
   "execution_count": 51,
   "id": "181069b9",
   "metadata": {},
   "outputs": [],
   "source": [
    "# Drop MS SubClass_50 -- same as House Style_1.5Fin but lower\n",
    "train = train.drop('MS SubClass_50', axis=1)"
   ]
  },
  {
   "cell_type": "code",
   "execution_count": 52,
   "id": "4ba856b7",
   "metadata": {},
   "outputs": [],
   "source": [
    "# Drop MS SubClass_45 -- same as House Style_1.5Unf but lower\n",
    "train = train.drop('MS SubClass_45', axis=1)"
   ]
  },
  {
   "cell_type": "code",
   "execution_count": 53,
   "id": "ec6a9b35",
   "metadata": {},
   "outputs": [],
   "source": [
    "# Drop Garage Yr Built -- mostly same as Yr built\n",
    "train = train.drop('Garage Yr Blt', axis=1)"
   ]
  },
  {
   "cell_type": "code",
   "execution_count": 54,
   "id": "c379736b",
   "metadata": {},
   "outputs": [],
   "source": [
    "# This was the only polynomial feature that helped with model accuracy out of the various others I tried\n",
    "train['Garage QualCond'] = train['Garage Qual'] * train['Garage Cond']\n",
    "train = train.drop(['Garage Qual', 'Garage Cond'], axis=1)"
   ]
  },
  {
   "cell_type": "markdown",
   "id": "bc1efa48",
   "metadata": {},
   "source": [
    "#### Dealing with Low Variance"
   ]
  },
  {
   "cell_type": "markdown",
   "id": "ff1c5937",
   "metadata": {},
   "source": [
    "It was observered earlier that many features have the same value. As such, these features will not improve the performance of the model. This also applies if there are only a handful of observations that differ from one constant value. Such variables with close to zero variance violate the multivariate normality assumption of multiple linear regression.\n",
    "\n",
    "After several rounds of trial and error, dropping 57 variables with the lowest variation seemed to return the results. Using the inbuilt .var() function from pandas, variables with a varation of less than 0.009 were sorted and dropped."
   ]
  },
  {
   "cell_type": "code",
   "execution_count": 55,
   "id": "91615887",
   "metadata": {},
   "outputs": [],
   "source": [
    "low_var_list = train.var().sort_values(ascending=False)\n",
    "low_var_list = low_var_list[low_var_list.values < 0.009]"
   ]
  },
  {
   "cell_type": "code",
   "execution_count": 56,
   "id": "8e37a3de",
   "metadata": {},
   "outputs": [],
   "source": [
    "# Combining categories with small sale type numbers to make them stastically significant\n",
    "train['Combined Sale Type_Con'] = train['Sale Type_ConLw'] + train['Sale Type_ConLI'] \\\n",
    "                            + train['Sale Type_Con'] + train['Sale Type_ConLD']\n"
   ]
  },
  {
   "cell_type": "code",
   "execution_count": 57,
   "id": "cdbf6675",
   "metadata": {},
   "outputs": [],
   "source": [
    "train['Foundation_Other'] = train['Foundation_Slab'] + train['Foundation_Stone'] + train['Foundation_Wood']\n"
   ]
  },
  {
   "cell_type": "code",
   "execution_count": 58,
   "id": "9fb39e7c",
   "metadata": {},
   "outputs": [],
   "source": [
    "# Dropping features with low variance (<0.009)\n",
    "low_var_drop_list = [item for item in low_var_list.index]\n",
    "train = train.drop(low_var_drop_list, axis=1)"
   ]
  },
  {
   "cell_type": "code",
   "execution_count": 59,
   "id": "bc60261f",
   "metadata": {},
   "outputs": [
    {
     "data": {
      "text/plain": [
       "Neighborhood_Veenker    0.008232\n",
       "Sale Type_ConLD         0.008232\n",
       "Neighborhood_NPkVill    0.008232\n",
       "MS SubClass_75          0.007751\n",
       "Roof Matl_Tar&Grv       0.007271\n",
       "dtype: float64"
      ]
     },
     "execution_count": 59,
     "metadata": {},
     "output_type": "execute_result"
    }
   ],
   "source": [
    "low_var_list.head()"
   ]
  },
  {
   "cell_type": "code",
   "execution_count": 60,
   "id": "37740fc5",
   "metadata": {},
   "outputs": [
    {
     "data": {
      "text/plain": [
       "(2049, 148)"
      ]
     },
     "execution_count": 60,
     "metadata": {},
     "output_type": "execute_result"
    }
   ],
   "source": [
    "train.shape"
   ]
  },
  {
   "cell_type": "markdown",
   "id": "b611675d",
   "metadata": {},
   "source": [
    "We have cut it down to 148 variables but it is still a little too much. As such, we will have to use other methods of feature elimination to reduce this. "
   ]
  },
  {
   "cell_type": "markdown",
   "id": "de85bd9e",
   "metadata": {},
   "source": [
    "#### Recursive Feature Elimination\n",
    "Recursive feature elimination (RFE) is a feature selection method that fits a model and removes the weakest feature (or features) until the specified number of features is reached. In this particular instance, we train the algorithm on our data and let it rank features by their coefficient attribute. Note that the coefficients are those obtained after fitting our model on the dataset, not their correlation to `SalePrice`. The least important coefficient will then be eliminated from the list of features and the model is rebuilt using the remaining set of features. This continues until the algorithm hits the number of features selected.\n",
    "\n",
    "After some experimentation, I found that cutting about ~28 variables helped to improve model accuracy."
   ]
  },
  {
   "cell_type": "code",
   "execution_count": 61,
   "id": "7bc5fdf5",
   "metadata": {},
   "outputs": [],
   "source": [
    "features = [col for col in train._get_numeric_data().columns if col !='SalePrice']\n",
    "features\n",
    "X = train[features]\n",
    "y = train['SalePrice']"
   ]
  },
  {
   "cell_type": "code",
   "execution_count": 62,
   "id": "679e7a64",
   "metadata": {},
   "outputs": [],
   "source": [
    "lr = LinearRegression()"
   ]
  },
  {
   "cell_type": "code",
   "execution_count": 63,
   "id": "f8b8a5e1",
   "metadata": {},
   "outputs": [],
   "source": [
    "rfe = RFE(lr, n_features_to_select = 120)"
   ]
  },
  {
   "cell_type": "code",
   "execution_count": 64,
   "id": "7015a866",
   "metadata": {},
   "outputs": [],
   "source": [
    "rfe_fit = rfe.fit(X, y)"
   ]
  },
  {
   "cell_type": "code",
   "execution_count": 65,
   "id": "94272229",
   "metadata": {},
   "outputs": [
    {
     "data": {
      "text/html": [
       "<div>\n",
       "<style scoped>\n",
       "    .dataframe tbody tr th:only-of-type {\n",
       "        vertical-align: middle;\n",
       "    }\n",
       "\n",
       "    .dataframe tbody tr th {\n",
       "        vertical-align: top;\n",
       "    }\n",
       "\n",
       "    .dataframe thead th {\n",
       "        text-align: right;\n",
       "    }\n",
       "</style>\n",
       "<table border=\"1\" class=\"dataframe\">\n",
       "  <thead>\n",
       "    <tr style=\"text-align: right;\">\n",
       "      <th></th>\n",
       "      <th>Feature</th>\n",
       "      <th>Ranking</th>\n",
       "    </tr>\n",
       "  </thead>\n",
       "  <tbody>\n",
       "  </tbody>\n",
       "</table>\n",
       "</div>"
      ],
      "text/plain": [
       "Empty DataFrame\n",
       "Columns: [Feature, Ranking]\n",
       "Index: []"
      ]
     },
     "execution_count": 65,
     "metadata": {},
     "output_type": "execute_result"
    }
   ],
   "source": [
    "rfe_df = pd.DataFrame(columns=['Feature', 'Ranking'])\n",
    "rfe_df"
   ]
  },
  {
   "cell_type": "code",
   "execution_count": 66,
   "id": "a1c74c4f",
   "metadata": {},
   "outputs": [],
   "source": [
    "rfe_df['Feature'] = X.columns\n",
    "rfe_df['Ranking'] = rfe_fit.ranking_"
   ]
  },
  {
   "cell_type": "code",
   "execution_count": 67,
   "id": "1d041a2f",
   "metadata": {},
   "outputs": [
    {
     "data": {
      "text/html": [
       "<div>\n",
       "<style scoped>\n",
       "    .dataframe tbody tr th:only-of-type {\n",
       "        vertical-align: middle;\n",
       "    }\n",
       "\n",
       "    .dataframe tbody tr th {\n",
       "        vertical-align: top;\n",
       "    }\n",
       "\n",
       "    .dataframe thead th {\n",
       "        text-align: right;\n",
       "    }\n",
       "</style>\n",
       "<table border=\"1\" class=\"dataframe\">\n",
       "  <thead>\n",
       "    <tr style=\"text-align: right;\">\n",
       "      <th></th>\n",
       "      <th>Feature</th>\n",
       "      <th>Ranking</th>\n",
       "    </tr>\n",
       "  </thead>\n",
       "  <tbody>\n",
       "    <tr>\n",
       "      <th>0</th>\n",
       "      <td>PID</td>\n",
       "      <td>28</td>\n",
       "    </tr>\n",
       "    <tr>\n",
       "      <th>50</th>\n",
       "      <td>Misc Val</td>\n",
       "      <td>27</td>\n",
       "    </tr>\n",
       "    <tr>\n",
       "      <th>25</th>\n",
       "      <td>Low Qual Fin SF</td>\n",
       "      <td>26</td>\n",
       "    </tr>\n",
       "    <tr>\n",
       "      <th>2</th>\n",
       "      <td>Lot Area</td>\n",
       "      <td>25</td>\n",
       "    </tr>\n",
       "    <tr>\n",
       "      <th>45</th>\n",
       "      <td>3Ssn Porch</td>\n",
       "      <td>24</td>\n",
       "    </tr>\n",
       "    <tr>\n",
       "      <th>44</th>\n",
       "      <td>Enclosed Porch</td>\n",
       "      <td>23</td>\n",
       "    </tr>\n",
       "    <tr>\n",
       "      <th>42</th>\n",
       "      <td>Wood Deck SF</td>\n",
       "      <td>22</td>\n",
       "    </tr>\n",
       "    <tr>\n",
       "      <th>43</th>\n",
       "      <td>Open Porch SF</td>\n",
       "      <td>21</td>\n",
       "    </tr>\n",
       "    <tr>\n",
       "      <th>18</th>\n",
       "      <td>BsmtFin SF 2</td>\n",
       "      <td>20</td>\n",
       "    </tr>\n",
       "    <tr>\n",
       "      <th>19</th>\n",
       "      <td>Bsmt Unf SF</td>\n",
       "      <td>19</td>\n",
       "    </tr>\n",
       "  </tbody>\n",
       "</table>\n",
       "</div>"
      ],
      "text/plain": [
       "            Feature  Ranking\n",
       "0               PID       28\n",
       "50         Misc Val       27\n",
       "25  Low Qual Fin SF       26\n",
       "2          Lot Area       25\n",
       "45       3Ssn Porch       24\n",
       "44   Enclosed Porch       23\n",
       "42     Wood Deck SF       22\n",
       "43    Open Porch SF       21\n",
       "18     BsmtFin SF 2       20\n",
       "19      Bsmt Unf SF       19"
      ]
     },
     "execution_count": 67,
     "metadata": {},
     "output_type": "execute_result"
    }
   ],
   "source": [
    "rfe_df.sort_values(by='Ranking', ascending=False).head(10)"
   ]
  },
  {
   "cell_type": "code",
   "execution_count": 68,
   "id": "df21c972",
   "metadata": {},
   "outputs": [
    {
     "data": {
      "text/plain": [
       "Index(['PID', 'Lot Area', 'Year Built', 'Year Remod/Add', 'Mas Vnr Area',\n",
       "       'BsmtFin SF 1', 'BsmtFin SF 2', 'Bsmt Unf SF', 'Total Bsmt SF',\n",
       "       '1st Flr SF', '2nd Flr SF', 'Low Qual Fin SF', 'Gr Liv Area',\n",
       "       'Garage Finish', 'Garage Area', 'Wood Deck SF', 'Open Porch SF',\n",
       "       'Enclosed Porch', '3Ssn Porch', 'Screen Porch', 'Pool Area', 'Fence',\n",
       "       'Misc Val', 'House Style_1Story', 'Foundation_PConc', 'MS SubClass_85',\n",
       "       'ExtMetalSd'],\n",
       "      dtype='object')"
      ]
     },
     "execution_count": 68,
     "metadata": {},
     "output_type": "execute_result"
    }
   ],
   "source": [
    "rfe_drop_list = X.columns[~rfe_fit.get_support()]\n",
    "rfe_drop_list"
   ]
  },
  {
   "cell_type": "markdown",
   "id": "9366b52d",
   "metadata": {},
   "source": [
    "In general, I largely agree with the feature ranking above. Most of the features listed are features with either low variance or a poor correlation with SalePrice. In other cases, these features are made by redundant by another feature (e.g. `Garage Area` as an inferior feature compared to `Garage Cars`).\n",
    "\n",
    "While features like `Year Built` may seem important, in reality it's not as good a predictor of SalePrice, given that the variable isn't normally distributed, and is highly left skewed. `Lot Area` seem to have a somewhat ambigious relationship with `SalePrice` due to various outliers."
   ]
  },
  {
   "cell_type": "code",
   "execution_count": 69,
   "id": "0e6e29c3",
   "metadata": {},
   "outputs": [],
   "source": [
    "# Dropping features ranked as unimportant by RFE\n",
    "train = train.drop(rfe_drop_list, axis=1)"
   ]
  },
  {
   "cell_type": "code",
   "execution_count": 70,
   "id": "32134990",
   "metadata": {},
   "outputs": [
    {
     "data": {
      "text/plain": [
       "(2049, 121)"
      ]
     },
     "execution_count": 70,
     "metadata": {},
     "output_type": "execute_result"
    }
   ],
   "source": [
    "train.shape"
   ]
  },
  {
   "cell_type": "markdown",
   "id": "56e19aff",
   "metadata": {},
   "source": [
    "### Apply changes to Test Dataset"
   ]
  },
  {
   "cell_type": "code",
   "execution_count": 71,
   "id": "65397c95",
   "metadata": {},
   "outputs": [],
   "source": [
    "def apply_changes(df):\n",
    "    df['Garage QualCond'] = df['Garage Qual'] * df['Garage Cond']\n",
    "    df = df.drop(['Garage Qual', 'Garage Cond'], axis=1)\n",
    "    df['Foundation_Other'] = df['Foundation_Slab'] + df['Foundation_Stone'] + df['Foundation_Wood']\n",
    "\n",
    "    # Stanardize column names\n",
    "    df = df.rename(columns={'Exterior 2nd_Wd Shng': 'Exterior 2nd_WdShing'})\n",
    "    df = df.rename(columns={'Exterior 2nd_Brk Cmn': 'Exterior 2nd_BrkComm'})\n",
    "    df = df.rename(columns={'Exterior 2nd_CmentBd': 'Exterior 2nd_CemntBd'})\n",
    "\n",
    "    ext_feats = df.columns[df.columns.str.contains('Exterior 1st')]\n",
    "    \n",
    "    # Create interaction columns into \n",
    "    for i in ext_feats:\n",
    "        ext_type = i.split('_')[1]\n",
    "        df[f'Ext{ext_type}'] = df[f'Exterior 1st_{ext_type}'] * df[f'Exterior 2nd_{ext_type}']\n",
    "        df = df.drop([f'Exterior 1st_{ext_type}', f'Exterior 2nd_{ext_type}'], axis=1)\n",
    "\n",
    "    # Dropping due to pairwise correlation score of 1\n",
    "    df = df.drop(['Street_Grvl', 'MS SubClass_190', 'Central Air_N'], axis=1)\n",
    "\n",
    "    # Dropping due to perfect correlation with Bldg Type_Duplex\n",
    "    df = df.drop(['MS SubClass_90'], axis=1)\n",
    "\n",
    "    # Drop MS SubClass_80 -- same as House Style_SLevel but lower\n",
    "    df = df.drop('MS SubClass_80', axis=1)\n",
    "\n",
    "    # Drop MS SubClass_50 -- same as House Style_1.5Fin but lower\n",
    "    df = df.drop('MS SubClass_50', axis=1)\n",
    "\n",
    "    # Drop MS SubClass_45 -- same as House Style_1.5Unf but lower\n",
    "    df = df.drop('MS SubClass_45', axis=1)\n",
    "\n",
    "    # Drop Garage Yr Built -- mostly same as Yr built\n",
    "    df = df.drop('Garage Yr Blt', axis=1)\n",
    "\n",
    "    df['Combined Sale Type_Con'] = df['Sale Type_ConLw'] + df['Sale Type_ConLI'] + df['Sale Type_Con'] + df['Sale Type_ConLD']\n",
    "    \n",
    "    # Dropping features with low variance\n",
    "    low_var_drop_list = [item for item in low_var_list.index]\n",
    "    df = df.drop(low_var_drop_list, axis=1, errors='ignore')\n",
    "    \n",
    "    df = df.drop(rfe_drop_list, axis=1)\n",
    "    \n",
    "    df = df.drop(['Id'], axis=1)\n",
    "    \n",
    "    return df"
   ]
  },
  {
   "cell_type": "code",
   "execution_count": 72,
   "id": "05b84b92",
   "metadata": {},
   "outputs": [],
   "source": [
    "test = apply_changes(test)"
   ]
  },
  {
   "cell_type": "code",
   "execution_count": 73,
   "id": "5c3feb30",
   "metadata": {},
   "outputs": [
    {
     "data": {
      "text/plain": [
       "(878, 129)"
      ]
     },
     "execution_count": 73,
     "metadata": {},
     "output_type": "execute_result"
    }
   ],
   "source": [
    "test.shape"
   ]
  },
  {
   "cell_type": "code",
   "execution_count": 74,
   "id": "9dcfa3b9",
   "metadata": {},
   "outputs": [
    {
     "data": {
      "text/plain": [
       "['SalePrice']"
      ]
     },
     "execution_count": 74,
     "metadata": {},
     "output_type": "execute_result"
    }
   ],
   "source": [
    "# Checking for features in training but not in test dataset\n",
    "[x for x in train if x not in test]"
   ]
  },
  {
   "cell_type": "code",
   "execution_count": 75,
   "id": "e086ac71",
   "metadata": {},
   "outputs": [
    {
     "data": {
      "text/plain": [
       "['Mas Vnr Type_CBlock',\n",
       " 'Roof Matl_Metal',\n",
       " 'Roof Matl_Roll',\n",
       " 'Exterior 2nd_CBlock',\n",
       " 'Exterior 2nd_ImStucc',\n",
       " 'Exterior 2nd_Other',\n",
       " 'Heating_Floor',\n",
       " 'Sale Type_VWD',\n",
       " 'ExtPreCast']"
      ]
     },
     "execution_count": 75,
     "metadata": {},
     "output_type": "execute_result"
    }
   ],
   "source": [
    "# Checking for features in test dataset but not in training dataset\n",
    "[x for x in test if x not in train]"
   ]
  },
  {
   "cell_type": "code",
   "execution_count": 76,
   "id": "24cf41d2",
   "metadata": {},
   "outputs": [],
   "source": [
    "# Drop features not in train data\n",
    "test = test.drop(['Mas Vnr Type_CBlock', 'Roof Matl_Metal', 'Roof Matl_Roll', 'Exterior 2nd_CBlock',\n",
    "                  'Exterior 2nd_ImStucc', 'Exterior 2nd_Other', 'Heating_Floor', 'Sale Type_VWD', 'ExtPreCast'], axis=1)\n"
   ]
  },
  {
   "cell_type": "code",
   "execution_count": 78,
   "id": "8221336b",
   "metadata": {},
   "outputs": [],
   "source": [
    "# Save final file for modelling\n",
    "train.to_csv('../datasets/train_final.csv', index=False)"
   ]
  },
  {
   "cell_type": "code",
   "execution_count": 79,
   "id": "1d5dffe5",
   "metadata": {},
   "outputs": [],
   "source": [
    "test.to_csv('../datasets/test_final.csv', index=False)"
   ]
  }
 ],
 "metadata": {
  "kernelspec": {
   "display_name": "Python 3 (ipykernel)",
   "language": "python",
   "name": "python3"
  },
  "language_info": {
   "codemirror_mode": {
    "name": "ipython",
    "version": 3
   },
   "file_extension": ".py",
   "mimetype": "text/x-python",
   "name": "python",
   "nbconvert_exporter": "python",
   "pygments_lexer": "ipython3",
   "version": "3.9.7"
  }
 },
 "nbformat": 4,
 "nbformat_minor": 5
}
